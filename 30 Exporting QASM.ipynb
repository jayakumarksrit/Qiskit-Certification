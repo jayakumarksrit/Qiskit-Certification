{
 "cells": [
  {
   "cell_type": "code",
   "execution_count": 1,
   "id": "57423840-dfc7-496c-b05c-1cbfb0cda458",
   "metadata": {},
   "outputs": [],
   "source": [
    "import numpy as np\n",
    "\n",
    "# Importing standard Qiskit libraries\n",
    "from qiskit import QuantumCircuit, transpile, Aer, IBMQ\n",
    "from qiskit.tools.jupyter import *\n",
    "from qiskit.visualization import *\n",
    "from ibm_quantum_widgets import *\n",
    "from qiskit.providers.aer import QasmSimulator\n",
    "\n",
    "# Loading your IBM Quantum account(s)\n",
    "provider = IBMQ.load_account()"
   ]
  },
  {
   "cell_type": "code",
   "execution_count": 3,
   "id": "6d54b3c1-52c0-46e8-a07a-0516699540b7",
   "metadata": {},
   "outputs": [
    {
     "name": "stdout",
     "output_type": "stream",
     "text": [
      "OPENQASM 2.0;\n",
      "include \"qelib1.inc\";\n",
      "qreg q[2];\n",
      "creg c[2];\n",
      "h q[0];\n",
      "x q[0];\n",
      "cx q[0],q[1];\n",
      "barrier q[0],q[1];\n",
      "measure q[0] -> c[0];\n",
      "measure q[1] -> c[1];\n",
      "\n"
     ]
    }
   ],
   "source": [
    "qc=QuantumCircuit(2,2)\n",
    "qc.h(0)\n",
    "qc.x(0)\n",
    "qc.cx(0,1)\n",
    "qc.barrier()\n",
    "qc.measure([0,1],[0,1])\n",
    "\n",
    "str=qc.qasm()\n",
    "print(str)"
   ]
  },
  {
   "cell_type": "code",
   "execution_count": 6,
   "id": "0ab21c83-7a2a-4f9f-9066-8d2cea70ec4f",
   "metadata": {},
   "outputs": [],
   "source": [
    "qc1=QuantumCircuit.from_qasm_str(str)"
   ]
  },
  {
   "cell_type": "code",
   "execution_count": 7,
   "id": "6dd97740-20cc-4bec-bf8a-12c809e8f441",
   "metadata": {},
   "outputs": [
    {
     "data": {
      "image/png": "[encoded data removed]",
      "text/plain": [
       "<Figure size 447.652x204.68 with 1 Axes>"
      ]
     },
     "execution_count": 7,
     "metadata": {},
     "output_type": "execute_result"
    }
   ],
   "source": [
    "qc1.draw()"
   ]
  },
  {
   "cell_type": "code",
   "execution_count": 8,
   "id": "3dbad602-6423-4482-8127-c6c912b948d2",
   "metadata": {},
   "outputs": [
    {
     "name": "stdout",
     "output_type": "stream",
     "text": [
      "\u001b[92mOPENQASM\u001b[39m \u001b[96m2\u001b[39m.\u001b[96m0\u001b[39m;\n",
      "\u001b[92minclude\u001b[39m\u001b[91m \"qelib1.inc\"\u001b[39m;\n",
      "\u001b[92mqreg\u001b[39m q[\u001b[96m2\u001b[39m];\n",
      "\u001b[92mcreg\u001b[39m c[\u001b[96m2\u001b[39m];\n",
      "\u001b[95mh\u001b[39m q[\u001b[96m0\u001b[39m];\n",
      "\u001b[95mx\u001b[39m q[\u001b[96m0\u001b[39m];\n",
      "\u001b[95mcx\u001b[39m q[\u001b[96m0\u001b[39m],q[\u001b[96m1\u001b[39m];\n",
      "\u001b[94mbarrier\u001b[39m q[\u001b[96m0\u001b[39m],q[\u001b[96m1\u001b[39m];\n",
      "\u001b[94mmeasure\u001b[39m q[\u001b[96m0\u001b[39m] -> c[\u001b[96m0\u001b[39m];\n",
      "\u001b[94mmeasure\u001b[39m q[\u001b[96m1\u001b[39m] -> c[\u001b[96m1\u001b[39m];\n",
      "\n"
     ]
    }
   ],
   "source": [
    "qc.qasm(formatted=\"True\")"
   ]
  },
  {
   "cell_type": "code",
   "execution_count": 9,
   "id": "4e094cbe-0950-4d08-8f1a-0c146ed3a4bd",
   "metadata": {},
   "outputs": [
    {
     "name": "stdout",
     "output_type": "stream",
     "text": [
      "\u001b[92mOPENQASM\u001b[39m \u001b[96m2\u001b[39m.\u001b[96m0\u001b[39m;\n",
      "\u001b[92minclude\u001b[39m\u001b[91m \"qelib1.inc\"\u001b[39m;\n",
      "\u001b[92mqreg\u001b[39m q[\u001b[96m2\u001b[39m];\n",
      "\u001b[92mcreg\u001b[39m c[\u001b[96m2\u001b[39m];\n",
      "\u001b[95mh\u001b[39m q[\u001b[96m0\u001b[39m];\n",
      "\u001b[95mx\u001b[39m q[\u001b[96m0\u001b[39m];\n",
      "\u001b[95mcx\u001b[39m q[\u001b[96m0\u001b[39m],q[\u001b[96m1\u001b[39m];\n",
      "\u001b[94mbarrier\u001b[39m q[\u001b[96m0\u001b[39m],q[\u001b[96m1\u001b[39m];\n",
      "\u001b[94mmeasure\u001b[39m q[\u001b[96m0\u001b[39m] -> c[\u001b[96m0\u001b[39m];\n",
      "\u001b[94mmeasure\u001b[39m q[\u001b[96m1\u001b[39m] -> c[\u001b[96m1\u001b[39m];\n",
      "\n"
     ]
    }
   ],
   "source": [
    "qc.qasm(formatted=\"True\", filename='my_circuit.qasm')"
   ]
  },
  {
   "cell_type": "code",
   "execution_count": 10,
   "id": "0f2de439-adfc-435a-b131-5f8402bed180",
   "metadata": {},
   "outputs": [],
   "source": [
    "qc2=QuantumCircuit.from_qasm_file('my_circuit.qasm')"
   ]
  },
  {
   "cell_type": "code",
   "execution_count": 11,
   "id": "2f62faf9-a650-4e32-8d46-db95eee07354",
   "metadata": {},
   "outputs": [
    {
     "data": {
      "image/png": "[encoded data removed]",
      "text/plain": [
       "<Figure size 447.652x204.68 with 1 Axes>"
      ]
     },
     "execution_count": 11,
     "metadata": {},
     "output_type": "execute_result"
    }
   ],
   "source": [
    "qc2.draw()"
   ]
  },
  {
   "cell_type": "code",
   "execution_count": null,
   "id": "c85bdf9f-89a3-468a-87df-517230e05bc4",
   "metadata": {},
   "outputs": [],
   "source": []
  }
 ],
 "metadata": {
  "kernelspec": {
   "display_name": "Qiskit v0.34.1 (ipykernel)",
   "language": "python",
   "name": "python3"
  },
  "language_info": {
   "codemirror_mode": {
    "name": "ipython",
    "version": 3
   },
   "file_extension": ".py",
   "mimetype": "text/x-python",
   "name": "python",
   "nbconvert_exporter": "python",
   "pygments_lexer": "ipython3",
   "version": "3.8.12"
  },
  "widgets": {
   "application/vnd.jupyter.widget-state+json": {
    "state": {},
    "version_major": 2,
    "version_minor": 0
   }
  }
 },
 "nbformat": 4,
 "nbformat_minor": 5
}
