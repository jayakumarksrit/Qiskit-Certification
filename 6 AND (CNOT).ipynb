{
 "cells": [
  {
   "cell_type": "code",
   "execution_count": 2,
   "id": "a67ad57c-f9ad-44d4-90fd-ba272ff3d688",
   "metadata": {},
   "outputs": [],
   "source": [
    "# Importing standard Qiskit libraries\n",
    "from qiskit import QuantumCircuit, transpile, Aer, IBMQ\n",
    "from qiskit.tools.jupyter import *\n",
    "from qiskit.visualization import *\n",
    "from ibm_quantum_widgets import *\n",
    "from qiskit.providers.aer import QasmSimulator\n",
    "\n",
    "# Loading your IBM Quantum account(s)\n",
    "provider = IBMQ.load_account()"
   ]
  },
  {
   "cell_type": "code",
   "execution_count": 6,
   "id": "e1a9e27b-7014-4244-9cba-e6f814bd8702",
   "metadata": {},
   "outputs": [
    {
     "name": "stdout",
     "output_type": "stream",
     "text": [
      "<qiskit.circuit.instructionset.InstructionSet object at 0x7f0e897e7200>\n"
     ]
    }
   ],
   "source": [
    "from qiskit import QuantumRegister, ClassicalRegister, qiskit\n",
    "from numpy import pi\n",
    "\n",
    "qreg_q = QuantumRegister(3, 'q')\n",
    "creg_c = ClassicalRegister(3, 'c')\n",
    "circuit = QuantumCircuit(qreg_q, creg_c)\n",
    "\n",
    "circuit.x(qreg_q[0])\n",
    "circuit.barrier(qreg_q[0])\n",
    "circuit.x(qreg_q[1])\n",
    "circuit.barrier(qreg_q[1])\n",
    "circuit.ccx(qreg_q[0], qreg_q[1], qreg_q[2])\n",
    "circuit.barrier(qreg_q[0])\n",
    "circuit.barrier(qreg_q[1])\n",
    "circuit.barrier(qreg_q[2])\n",
    "rest=circuit.measure(qreg_q[2], creg_c[2])\n",
    "#rest=circuit.measure_all()\n",
    "print(rest)"
   ]
  },
  {
   "cell_type": "code",
   "execution_count": 7,
   "id": "76728ae9-03ca-4132-973e-f61295351c4e",
   "metadata": {},
   "outputs": [
    {
     "name": "stdout",
     "output_type": "stream",
     "text": [
      "{'100': 1024}\n",
      "<qiskit.providers.basicaer.basicaerjob.BasicAerJob object at 0x7f0ef8116580>\n"
     ]
    }
   ],
   "source": [
    "job=qiskit.execute(circuit,qiskit.BasicAer.get_backend('qasm_simulator'))\n",
    "print(job.result().get_counts())\n",
    "print(job)"
   ]
  },
  {
   "cell_type": "code",
   "execution_count": 11,
   "id": "818a12ee-8adc-4cf6-a732-2d0620cea784",
   "metadata": {},
   "outputs": [
    {
     "data": {
      "image/png": "[encoded data removed]",
      "text/plain": [
       "<Figure size 598.479x325.08 with 1 Axes>"
      ]
     },
     "metadata": {},
     "output_type": "display_data"
    }
   ],
   "source": [
    "display(circuit.draw())"
   ]
  },
  {
   "cell_type": "code",
   "execution_count": 12,
   "id": "5b215540-72b3-435a-8402-8b3cee607fee",
   "metadata": {},
   "outputs": [
    {
     "name": "stdout",
     "output_type": "stream",
     "text": [
      "        ┌───┐ ░       ░  ░ ┌─┐      \n",
      "   q_0: ┤ X ├─░───■───░──░─┤M├──────\n",
      "        ├───┤ ░   │   ░  ░ └╥┘┌─┐   \n",
      "   q_1: ┤ X ├─░───■───░──░──╫─┤M├───\n",
      "        └───┘ ░ ┌─┴─┐ ░  ░  ║ └╥┘┌─┐\n",
      "   q_2: ────────┤ X ├─░──░──╫──╫─┤M├\n",
      "                └───┘ ░  ░  ║  ║ └╥┘\n",
      "   c: 3/════════════════════╬══╬══╬═\n",
      "                            ║  ║  ║ \n",
      "meas: 3/════════════════════╩══╩══╩═\n",
      "                            0  1  2 \n"
     ]
    }
   ],
   "source": [
    "print(circuit)"
   ]
  },
  {
   "cell_type": "code",
   "execution_count": 14,
   "id": "6bcd9632-9eaf-4fe7-abd1-b8c4afc90232",
   "metadata": {},
   "outputs": [
    {
     "data": {
      "image/png": "[encoded data removed]",
      "text/plain": [
       "<PIL.Image.Image image mode=RGB size=431x171 at 0x7EFD1C2ADFD0>"
      ]
     },
     "execution_count": 14,
     "metadata": {},
     "output_type": "execute_result"
    }
   ],
   "source": [
    "circuit.draw('latex')"
   ]
  },
  {
   "cell_type": "code",
   "execution_count": 16,
   "id": "5676ed6c-989f-4cd1-8cda-939c2aa3f53a",
   "metadata": {},
   "outputs": [
    {
     "name": "stdout",
     "output_type": "stream",
     "text": [
      "Requirement already satisfied: pylatexenc in /opt/conda/lib/python3.8/site-packages (2.10)\n"
     ]
    }
   ],
   "source": [
    "!pip install pylatexenc\n",
    "#print(circuit.draw('latex_source')"
   ]
  },
  {
   "cell_type": "code",
   "execution_count": 17,
   "id": "92be307c-b12b-453e-81e5-441480413196",
   "metadata": {},
   "outputs": [
    {
     "name": "stdout",
     "output_type": "stream",
     "text": [
      "Requirement already satisfied: pillow in /opt/conda/lib/python3.8/site-packages (9.0.0)\n"
     ]
    }
   ],
   "source": [
    "!pip install pillow"
   ]
  },
  {
   "cell_type": "code",
   "execution_count": 19,
   "id": "e7c3848c-87e2-4b3a-96a7-86676e51a031",
   "metadata": {},
   "outputs": [
    {
     "name": "stdout",
     "output_type": "stream",
     "text": [
      "\\documentclass[border=2px]{standalone}\n",
      "\n",
      "\\usepackage[braket, qm]{qcircuit}\n",
      "\\usepackage{graphicx}\n",
      "\n",
      "\\begin{document}\n",
      "\\scalebox{1.0}{\n",
      "\\Qcircuit @C=1.0em @R=0.2em @!R { \\\\\n",
      "\t \t\\nghost{{q}_{0} :  } & \\lstick{{q}_{0} :  } & \\gate{\\mathrm{X}} \\barrier[0em]{0} & \\qw & \\ctrl{1} \\barrier[0em]{0} & \\qw \\barrier[0em]{2} & \\qw & \\meter & \\qw & \\qw & \\qw & \\qw\\\\\n",
      "\t \t\\nghost{{q}_{1} :  } & \\lstick{{q}_{1} :  } & \\gate{\\mathrm{X}} \\barrier[0em]{0} & \\qw & \\ctrl{1} \\barrier[0em]{0} & \\qw & \\qw & \\qw & \\meter & \\qw & \\qw & \\qw\\\\\n",
      "\t \t\\nghost{{q}_{2} :  } & \\lstick{{q}_{2} :  } & \\qw & \\qw & \\targ \\barrier[0em]{0} & \\qw & \\qw & \\qw & \\qw & \\meter & \\qw & \\qw\\\\\n",
      "\t \t\\nghost{\\mathrm{c :  }} & \\lstick{\\mathrm{c :  }} & \\lstick{/_{_{3}}} \\cw & \\cw & \\cw & \\cw & \\cw & \\cw & \\cw & \\cw & \\cw & \\cw\\\\\n",
      "\t \t\\nghost{\\mathrm{meas :  }} & \\lstick{\\mathrm{meas :  }} & \\lstick{/_{_{3}}} \\cw & \\cw & \\cw & \\cw & \\cw & \\dstick{_{_{\\hspace{0.0em}0}}} \\cw \\ar @{<=} [-4,0] & \\dstick{_{_{\\hspace{0.0em}1}}} \\cw \\ar @{<=} [-3,0] & \\dstick{_{_{\\hspace{0.0em}2}}} \\cw \\ar @{<=} [-2,0] & \\cw & \\cw\\\\\n",
      "\\\\ }}\n",
      "\\end{document}\n"
     ]
    }
   ],
   "source": [
    "print(circuit.draw('latex_source'))"
   ]
  },
  {
   "cell_type": "code",
   "execution_count": 33,
   "id": "fd19f6e8-b914-4e62-aed9-83a3a4805657",
   "metadata": {},
   "outputs": [],
   "source": [
    "def and_gate(a, b):\n",
    "    \"\"\"\n",
    "    AND gate\n",
    "    \"\"\"\n",
    "    qc = QuantumCircuit(3, 1)\n",
    "\n",
    "    # Set up the registers\n",
    "    if a:\n",
    "        qc.x(0)\n",
    "    if b:\n",
    "        qc.x(1)\n",
    "\n",
    "    qc.barrier()\n",
    "\n",
    "    # AND\n",
    "    qc.ccx(0, 1, 2)\n",
    "\n",
    "    qc.barrier()\n",
    "\n",
    "    # Measure\n",
    "    qc.measure(2, 0)\n",
    "\n",
    "    #print('Depth: {}'.format(qc.depth()))\n",
    "    #print(qc)\n",
    "    job = qiskit.execute(qc, qiskit.BasicAer.get_backend('qasm_simulator'))\n",
    "    return job.result().get_counts()"
   ]
  },
  {
   "cell_type": "code",
   "execution_count": 25,
   "id": "19d59fbc-78b0-4866-b449-b9f97bc5c6dc",
   "metadata": {},
   "outputs": [
    {
     "name": "stdout",
     "output_type": "stream",
     "text": [
      "and_gate(0,0)\n",
      "Depth: 2\n",
      "      ░       ░    \n",
      "q_0: ─░───■───░────\n",
      "      ░   │   ░    \n",
      "q_1: ─░───■───░────\n",
      "      ░ ┌─┴─┐ ░ ┌─┐\n",
      "q_2: ─░─┤ X ├─░─┤M├\n",
      "      ░ └───┘ ░ └╥┘\n",
      "c: 1/════════════╩═\n",
      "                 0 \n"
     ]
    },
    {
     "data": {
      "text/plain": [
       "{'0': 1024}"
      ]
     },
     "execution_count": 25,
     "metadata": {},
     "output_type": "execute_result"
    }
   ],
   "source": [
    "print('and_gate(0,0)')\n",
    "and_gate(0,0)"
   ]
  },
  {
   "cell_type": "code",
   "execution_count": 26,
   "id": "63ca8b3e-47f0-4566-906e-6d7bba20befa",
   "metadata": {},
   "outputs": [
    {
     "name": "stdout",
     "output_type": "stream",
     "text": [
      "and_gate(0,1)\n",
      "Depth: 3\n",
      "           ░       ░    \n",
      "q_0: ──────░───■───░────\n",
      "     ┌───┐ ░   │   ░    \n",
      "q_1: ┤ X ├─░───■───░────\n",
      "     └───┘ ░ ┌─┴─┐ ░ ┌─┐\n",
      "q_2: ──────░─┤ X ├─░─┤M├\n",
      "           ░ └───┘ ░ └╥┘\n",
      "c: 1/═════════════════╩═\n",
      "                      0 \n"
     ]
    },
    {
     "data": {
      "text/plain": [
       "{'0': 1024}"
      ]
     },
     "execution_count": 26,
     "metadata": {},
     "output_type": "execute_result"
    }
   ],
   "source": [
    "print('and_gate(0,1)')\n",
    "and_gate(0,1)"
   ]
  },
  {
   "cell_type": "code",
   "execution_count": 27,
   "id": "0bd51a68-b709-4dbc-a0c9-bc755b3e81eb",
   "metadata": {},
   "outputs": [
    {
     "name": "stdout",
     "output_type": "stream",
     "text": [
      "and_gate(1,0)\n",
      "Depth: 3\n",
      "     ┌───┐ ░       ░    \n",
      "q_0: ┤ X ├─░───■───░────\n",
      "     └───┘ ░   │   ░    \n",
      "q_1: ──────░───■───░────\n",
      "           ░ ┌─┴─┐ ░ ┌─┐\n",
      "q_2: ──────░─┤ X ├─░─┤M├\n",
      "           ░ └───┘ ░ └╥┘\n",
      "c: 1/═════════════════╩═\n",
      "                      0 \n"
     ]
    },
    {
     "data": {
      "text/plain": [
       "{'0': 1024}"
      ]
     },
     "execution_count": 27,
     "metadata": {},
     "output_type": "execute_result"
    }
   ],
   "source": [
    "print('and_gate(1,0)')\n",
    "and_gate(1,0)"
   ]
  },
  {
   "cell_type": "code",
   "execution_count": 28,
   "id": "3f1faf3f-fda7-4527-892c-8e4b9349a3f8",
   "metadata": {},
   "outputs": [
    {
     "name": "stdout",
     "output_type": "stream",
     "text": [
      "and_gate(1,1)\n",
      "Depth: 3\n",
      "     ┌───┐ ░       ░    \n",
      "q_0: ┤ X ├─░───■───░────\n",
      "     ├───┤ ░   │   ░    \n",
      "q_1: ┤ X ├─░───■───░────\n",
      "     └───┘ ░ ┌─┴─┐ ░ ┌─┐\n",
      "q_2: ──────░─┤ X ├─░─┤M├\n",
      "           ░ └───┘ ░ └╥┘\n",
      "c: 1/═════════════════╩═\n",
      "                      0 \n"
     ]
    },
    {
     "data": {
      "text/plain": [
       "{'1': 1024}"
      ]
     },
     "execution_count": 28,
     "metadata": {},
     "output_type": "execute_result"
    }
   ],
   "source": [
    "print('and_gate(1,1)')\n",
    "and_gate(1,1)"
   ]
  },
  {
   "cell_type": "code",
   "execution_count": 38,
   "id": "018632fb-2cf4-458d-afb7-b4b144a61d8e",
   "metadata": {},
   "outputs": [
    {
     "name": "stdout",
     "output_type": "stream",
     "text": [
      "i= 0 j= 0\n",
      "{'0': 1024}\n",
      "i= 0 j= 1\n",
      "{'0': 1024}\n",
      "i= 1 j= 0\n",
      "{'0': 1024}\n",
      "i= 1 j= 1\n",
      "{'1': 1024}\n"
     ]
    }
   ],
   "source": [
    "for i in range(2):\n",
    "    for j in range(2):\n",
    "        print('i=',i,'j=',j)\n",
    "        print(and_gate(i,j))\n",
    "        "
   ]
  },
  {
   "cell_type": "code",
   "execution_count": null,
   "id": "c4144c08-3890-45ae-8181-be73feefc284",
   "metadata": {},
   "outputs": [],
   "source": []
  }
 ],
 "metadata": {
  "kernelspec": {
   "display_name": "Qiskit v0.34.1 (ipykernel)",
   "language": "python",
   "name": "python3"
  },
  "language_info": {
   "codemirror_mode": {
    "name": "ipython",
    "version": 3
   },
   "file_extension": ".py",
   "mimetype": "text/x-python",
   "name": "python",
   "nbconvert_exporter": "python",
   "pygments_lexer": "ipython3",
   "version": "3.8.10"
  },
  "widgets": {
   "application/vnd.jupyter.widget-state+json": {
    "state": {},
    "version_major": 2,
    "version_minor": 0
   }
  }
 },
 "nbformat": 4,
 "nbformat_minor": 5
}
