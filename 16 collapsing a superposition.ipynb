{
 "cells": [
  {
   "cell_type": "code",
   "execution_count": 2,
   "id": "3217fd5a-1901-4a72-8a42-553c1ce8685e",
   "metadata": {},
   "outputs": [
    {
     "name": "stderr",
     "output_type": "stream",
     "text": [
      "ibmqfactory.load_account:WARNING:2022-01-19 22:16:49,820: Credentials are already in use. The existing account in the session will be replaced.\n"
     ]
    }
   ],
   "source": [
    "import numpy as np\n",
    "\n",
    "# Importing standard Qiskit libraries\n",
    "from qiskit import QuantumCircuit, transpile, Aer, IBMQ\n",
    "from qiskit.tools.jupyter import *\n",
    "from qiskit.visualization import *\n",
    "from ibm_quantum_widgets import *\n",
    "from qiskit.providers.aer import QasmSimulator\n",
    "\n",
    "# Loading your IBM Quantum account(s)\n",
    "provider = IBMQ.load_account()"
   ]
  },
  {
   "cell_type": "code",
   "execution_count": 5,
   "id": "089136e8-4f82-432c-949e-a41f6c4ceb18",
   "metadata": {},
   "outputs": [
    {
     "name": "stdout",
     "output_type": "stream",
     "text": [
      "Statevector([0.        +0.70710678j, 0.70710678+0.j        ],\n",
      "            dims=(2,))\n"
     ]
    }
   ],
   "source": [
    "from math import sqrt\n",
    "from qiskit import assemble\n",
    "\n",
    "qc=QuantumCircuit(1)\n",
    "state_vector=[0.+1.j/sqrt(2),1/sqrt(2)+0.j]\n",
    "qc.initialize(state_vector,0)\n",
    "\n",
    "sim=Aer.get_backend('aer_simulator')\n",
    "qc.save_statevector()\n",
    "qobj=assemble(qc)\n",
    "state=sim.run(qobj).result().get_statevector()\n",
    "print(str(state))"
   ]
  },
  {
   "cell_type": "code",
   "execution_count": 6,
   "id": "372cd9cf-6e51-4ada-b008-2729ca5310c3",
   "metadata": {},
   "outputs": [
    {
     "name": "stdout",
     "output_type": "stream",
     "text": [
      "Statevector([0.+1.j, 0.+0.j],\n",
      "            dims=(2,))\n"
     ]
    }
   ],
   "source": [
    "qc=QuantumCircuit(1)\n",
    "state_vector=[0.+1.j/sqrt(2),1/sqrt(2)+0.j]\n",
    "qc.initialize(state_vector,0)\n",
    "\n",
    "qc.measure_all()\n",
    "\n",
    "sim=Aer.get_backend('aer_simulator')\n",
    "qc.save_statevector()\n",
    "qobj=assemble(qc)\n",
    "state=sim.run(qobj).result().get_statevector()\n",
    "print(str(state))"
   ]
  },
  {
   "cell_type": "code",
   "execution_count": null,
   "id": "fd55d29c-83a0-4226-96ad-cc01d932bec5",
   "metadata": {},
   "outputs": [],
   "source": []
  }
 ],
 "metadata": {
  "kernelspec": {
   "display_name": "Qiskit v0.34.1 (ipykernel)",
   "language": "python",
   "name": "python3"
  },
  "language_info": {
   "codemirror_mode": {
    "name": "ipython",
    "version": 3
   },
   "file_extension": ".py",
   "mimetype": "text/x-python",
   "name": "python",
   "nbconvert_exporter": "python",
   "pygments_lexer": "ipython3",
   "version": "3.8.12"
  },
  "widgets": {
   "application/vnd.jupyter.widget-state+json": {
    "state": {},
    "version_major": 2,
    "version_minor": 0
   }
  }
 },
 "nbformat": 4,
 "nbformat_minor": 5
}
