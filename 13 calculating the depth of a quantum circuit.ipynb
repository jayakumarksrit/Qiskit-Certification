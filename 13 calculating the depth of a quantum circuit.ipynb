{
 "cells": [
  {
   "cell_type": "code",
   "execution_count": 1,
   "id": "b0da3752-73b6-4fed-9a7c-7dcd0029050b",
   "metadata": {},
   "outputs": [],
   "source": [
    "import numpy as np\n",
    "\n",
    "# Importing standard Qiskit libraries\n",
    "from qiskit import QuantumCircuit, transpile, Aer, IBMQ\n",
    "from qiskit.tools.jupyter import *\n",
    "from qiskit.visualization import *\n",
    "from ibm_quantum_widgets import *\n",
    "from qiskit.providers.aer import QasmSimulator\n",
    "\n",
    "# Loading your IBM Quantum account(s)\n",
    "provider = IBMQ.load_account()"
   ]
  },
  {
   "cell_type": "code",
   "execution_count": 5,
   "id": "6362a634-d049-4366-a6ba-40e7344ca763",
   "metadata": {},
   "outputs": [
    {
     "name": "stdout",
     "output_type": "stream",
     "text": [
      "2\n"
     ]
    }
   ],
   "source": [
    "qc=QuantumCircuit(1,1)\n",
    "qc.x(0)\n",
    "qc.measure([0],[0])\n",
    "print(qc.depth())"
   ]
  },
  {
   "cell_type": "code",
   "execution_count": 6,
   "id": "e7b7a242-55c5-4e9f-9d1f-7a6e8f29c073",
   "metadata": {},
   "outputs": [
    {
     "name": "stdout",
     "output_type": "stream",
     "text": [
      "     ┌───┐┌─┐\n",
      "  q: ┤ X ├┤M├\n",
      "     └───┘└╥┘\n",
      "c: 1/══════╩═\n",
      "           0 \n"
     ]
    }
   ],
   "source": [
    "print(qc)"
   ]
  },
  {
   "cell_type": "code",
   "execution_count": 7,
   "id": "a59e20a3-e488-4636-8bcc-a8ca03adaed9",
   "metadata": {},
   "outputs": [
    {
     "data": {
      "image/png": "[encoded data removed]",
      "text/plain": [
       "<Figure size 193.726x144.48 with 1 Axes>"
      ]
     },
     "execution_count": 7,
     "metadata": {},
     "output_type": "execute_result"
    }
   ],
   "source": [
    "qc.draw()"
   ]
  },
  {
   "cell_type": "code",
   "execution_count": 8,
   "id": "d72f4237-9e0d-4a0d-9c5c-eaf0d740ef79",
   "metadata": {},
   "outputs": [
    {
     "data": {
      "image/png": "[encoded data removed]",
      "text/plain": [
       "<PIL.Image.Image image mode=RGB size=180x66 at 0x7F7CFCFAEFD0>"
      ]
     },
     "execution_count": 8,
     "metadata": {},
     "output_type": "execute_result"
    }
   ],
   "source": [
    "qc.draw('latex')"
   ]
  },
  {
   "cell_type": "code",
   "execution_count": 11,
   "id": "801bf60f-8e11-4b29-869a-0d913f73380c",
   "metadata": {},
   "outputs": [
    {
     "data": {
      "text/plain": [
       "'\\\\documentclass[border=2px]{standalone}\\n\\n\\\\usepackage[braket, qm]{qcircuit}\\n\\\\usepackage{graphicx}\\n\\n\\\\begin{document}\\n\\\\scalebox{1.0}{\\n\\\\Qcircuit @C=1.0em @R=0.2em @!R { \\\\\\\\\\n\\t \\t\\\\nghost{{q} :  } & \\\\lstick{{q} :  } & \\\\gate{\\\\mathrm{X}} & \\\\meter & \\\\qw & \\\\qw\\\\\\\\\\n\\t \\t\\\\nghost{\\\\mathrm{c :  }} & \\\\lstick{\\\\mathrm{c :  }} & \\\\lstick{/_{_{1}}} \\\\cw & \\\\dstick{_{_{\\\\hspace{0.0em}0}}} \\\\cw \\\\ar @{<=} [-1,0] & \\\\cw & \\\\cw\\\\\\\\\\n\\\\\\\\ }}\\n\\\\end{document}'"
      ]
     },
     "execution_count": 11,
     "metadata": {},
     "output_type": "execute_result"
    }
   ],
   "source": [
    "qc.draw('latex_source')"
   ]
  },
  {
   "cell_type": "code",
   "execution_count": 12,
   "id": "937800ca-e662-4f00-bf84-d1761dc6bc09",
   "metadata": {},
   "outputs": [
    {
     "data": {
      "image/png": "[encoded data removed]",
      "text/plain": [
       "<Figure size 193.726x144.48 with 1 Axes>"
      ]
     },
     "execution_count": 12,
     "metadata": {},
     "output_type": "execute_result"
    }
   ],
   "source": [
    "qc.draw(output='mpl',filename='depth.png')"
   ]
  },
  {
   "cell_type": "code",
   "execution_count": null,
   "id": "c9ea8d58-7ba8-4616-a20d-4d1e4df34cec",
   "metadata": {},
   "outputs": [],
   "source": []
  }
 ],
 "metadata": {
  "kernelspec": {
   "display_name": "Qiskit v0.34.1 (ipykernel)",
   "language": "python",
   "name": "python3"
  },
  "language_info": {
   "codemirror_mode": {
    "name": "ipython",
    "version": 3
   },
   "file_extension": ".py",
   "mimetype": "text/x-python",
   "name": "python",
   "nbconvert_exporter": "python",
   "pygments_lexer": "ipython3",
   "version": "3.8.12"
  },
  "widgets": {
   "application/vnd.jupyter.widget-state+json": {
    "state": {},
    "version_major": 2,
    "version_minor": 0
   }
  }
 },
 "nbformat": 4,
 "nbformat_minor": 5
}
