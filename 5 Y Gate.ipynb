{
 "cells": [
  {
   "cell_type": "code",
   "execution_count": 5,
   "id": "57595596-4428-4ea5-8baa-7229e1635273",
   "metadata": {},
   "outputs": [
    {
     "data": {
      "application/vnd.jupyter.widget-view+json": {
       "model_id": "75829409b6ce413aadc3238821a6f0a6",
       "version_major": 2,
       "version_minor": 0
      },
      "text/plain": [
       "CircuitComposer(circuit=<qiskit.circuit.quantumcircuit.QuantumCircuit object at 0x7fc32007f730>)"
      ]
     },
     "metadata": {},
     "output_type": "display_data"
    }
   ],
   "source": [
    "from qiskit import QuantumRegister, ClassicalRegister, QuantumCircuit\n",
    "from numpy import pi\n",
    "\n",
    "qreg_q = QuantumRegister(1, 'q')\n",
    "creg_c = ClassicalRegister(1, 'c')\n",
    "circuit = QuantumCircuit(qreg_q, creg_c)\n",
    "\n",
    "circuit.y(qreg_q[0])\n",
    "circuit.measure(qreg_q[0], creg_c[0])\n",
    "editor = CircuitComposer(circuit=circuit)\n",
    "editor"
   ]
  },
  {
   "cell_type": "code",
   "execution_count": 7,
   "id": "982bfa88-9cbc-4ba9-9ce2-4abadca01e3b",
   "metadata": {},
   "outputs": [
    {
     "name": "stdout",
     "output_type": "stream",
     "text": [
      "     ┌───┐┌─┐\n",
      "  q: ┤ Y ├┤M├\n",
      "     └───┘└╥┘\n",
      "c: 1/══════╩═\n",
      "           0 \n"
     ]
    }
   ],
   "source": [
    "# This code is being generated automatically by the IBM Quantum Circuit Composer widget.\n",
    "# It changes in every update of the widget, so any modifications done in this cell will be lost.\n",
    "# State: synchronized\n",
    "\n",
    "from qiskit import QuantumRegister, ClassicalRegister, QuantumCircuit\n",
    "from numpy import pi\n",
    "\n",
    "qreg_q = QuantumRegister(1, 'q')\n",
    "creg_c = ClassicalRegister(1, 'c')\n",
    "circuit = QuantumCircuit(qreg_q, creg_c)\n",
    "\n",
    "circuit.y(qreg_q[0])\n",
    "circuit.measure(qreg_q[0], creg_c[0])\n",
    "print(circuit)"
   ]
  },
  {
   "cell_type": "code",
   "execution_count": null,
   "id": "59e27ec0-9bc3-44e8-94c3-d12b8656c510",
   "metadata": {},
   "outputs": [],
   "source": [
    "\n"
   ]
  }
 ],
 "metadata": {
  "kernelspec": {
   "display_name": "Qiskit v0.34.1 (ipykernel)",
   "language": "python",
   "name": "python3"
  },
  "language_info": {
   "codemirror_mode": {
    "name": "ipython",
    "version": 3
   },
   "file_extension": ".py",
   "mimetype": "text/x-python",
   "name": "python",
   "nbconvert_exporter": "python",
   "pygments_lexer": "ipython3",
   "version": "3.8.10"
  },
  "widgets": {
   "application/vnd.jupyter.widget-state+json": {
    "state": {
     "0540a0848eb0460582e85a701cb874e3": {
      "model_module": "@jupyter-widgets/controls",
      "model_module_version": "1.5.0",
      "model_name": "DescriptionStyleModel",
      "state": {
       "description_width": ""
      }
     },
     "07a8a586a4284f18880820c051514b0f": {
      "model_module": "@jupyter-widgets/base",
      "model_module_version": "1.2.0",
      "model_name": "LayoutModel",
      "state": {
       "grid_area": "right",
       "padding": "0px 0px 0px 0px",
       "width": "70px"
      }
     },
     "089b4c8e7d9946b99d40edf86b3bb6c0": {
      "model_module": "@jupyter-widgets/controls",
      "model_module_version": "1.5.0",
      "model_name": "ButtonModel",
      "state": {
       "button_style": "primary",
       "description": "Clear",
       "layout": "IPY_MODEL_07a8a586a4284f18880820c051514b0f",
       "style": "IPY_MODEL_973865eaaefd4aa385e26c6b0dcba649"
      }
     },
     "112e8b09698742c0b9a2baafb7bcf08d": {
      "model_module": "@jupyter-widgets/base",
      "model_module_version": "1.2.0",
      "model_name": "LayoutModel",
      "state": {}
     },
     "15e2443e57534dafa4567b4c5015643d": {
      "model_module": "@jupyter-widgets/base",
      "model_module_version": "1.2.0",
      "model_name": "LayoutModel",
      "state": {
       "width": "145px"
      }
     },
     "16a5f0a165a9498dba29971604e281b7": {
      "model_module": "@jupyter-widgets/base",
      "model_module_version": "1.2.0",
      "model_name": "LayoutModel",
      "state": {}
     },
     "1c08517a9099473b908cd12535637b04": {
      "model_module": "@jupyter-widgets/controls",
      "model_module_version": "1.5.0",
      "model_name": "DescriptionStyleModel",
      "state": {
       "description_width": ""
      }
     },
     "2178afa82e4145a3abc35edf1765c0a0": {
      "model_module": "@jupyter-widgets/controls",
      "model_module_version": "1.5.0",
      "model_name": "HTMLModel",
      "state": {
       "layout": "IPY_MODEL_80f91c67c4b6461a97de38a68201ce54",
       "style": "IPY_MODEL_5c3cea6826384bb7a0d279935665274e",
       "value": "<h5>Status</h5>"
      }
     },
     "2cbc78e002514ff4949332ab46a21a95": {
      "model_module": "@jupyter-widgets/controls",
      "model_module_version": "1.5.0",
      "model_name": "HTMLModel",
      "state": {
       "layout": "IPY_MODEL_15e2443e57534dafa4567b4c5015643d",
       "style": "IPY_MODEL_1c08517a9099473b908cd12535637b04",
       "value": "<h5>Backend</h5>"
      }
     },
     "30335ea4398b4f8e938fbf369bbffb6c": {
      "model_module": "@jupyter-widgets/controls",
      "model_module_version": "1.5.0",
      "model_name": "HTMLModel",
      "state": {
       "layout": "IPY_MODEL_9c07e501697b43c58ee3906db684baff",
       "style": "IPY_MODEL_0540a0848eb0460582e85a701cb874e3",
       "value": "<h5>Job ID</h5>"
      }
     },
     "36e2c9dad3dc43b59e5c616b2e0217d9": {
      "model_module": "@jupyter-widgets/base",
      "model_module_version": "1.2.0",
      "model_name": "LayoutModel",
      "state": {}
     },
     "416d42ba41ab484ca8784777bdd4ffa9": {
      "model_module": "@jupyter-widgets/base",
      "model_module_version": "1.2.0",
      "model_name": "LayoutModel",
      "state": {
       "grid_template_areas": "\n                                       \". . . . right \"\n                                        ",
       "grid_template_columns": "20% 20% 20% 20% 20%",
       "width": "100%"
      }
     },
     "510e50552f9446b9814a28cf53773aa2": {
      "model_module": "@jupyter-widgets/controls",
      "model_module_version": "1.5.0",
      "model_name": "HTMLModel",
      "state": {
       "layout": "IPY_MODEL_112e8b09698742c0b9a2baafb7bcf08d",
       "style": "IPY_MODEL_ff10433a4e07449496e75025a3dae7a0",
       "value": "<h5>Message</h5>"
      }
     },
     "56b011e3b698495ab7b202a628026fb4": {
      "model_module": "@jupyter-widgets/controls",
      "model_module_version": "1.5.0",
      "model_name": "HTMLModel",
      "state": {
       "layout": "IPY_MODEL_69626a726a02490c8f927c7bb10efd3f",
       "style": "IPY_MODEL_5ac5a4face184f48a40b9888531b9692",
       "value": "<h5>Queue</h5>"
      }
     },
     "5ac5a4face184f48a40b9888531b9692": {
      "model_module": "@jupyter-widgets/controls",
      "model_module_version": "1.5.0",
      "model_name": "DescriptionStyleModel",
      "state": {
       "description_width": ""
      }
     },
     "5c3cea6826384bb7a0d279935665274e": {
      "model_module": "@jupyter-widgets/controls",
      "model_module_version": "1.5.0",
      "model_name": "DescriptionStyleModel",
      "state": {
       "description_width": ""
      }
     },
     "69626a726a02490c8f927c7bb10efd3f": {
      "model_module": "@jupyter-widgets/base",
      "model_module_version": "1.2.0",
      "model_name": "LayoutModel",
      "state": {
       "width": "70px"
      }
     },
     "75829409b6ce413aadc3238821a6f0a6": {
      "model_module": "ibm-q-lab-widgets-extension",
      "model_module_version": "^2.0.11",
      "model_name": "CircuitComposerModel",
      "state": {
       "_model_module_version": "^2.0.11",
       "_view_module_version": "^2.0.11",
       "circuit": "\"OPENQASM 2.0;\\ninclude \\\"qelib1.inc\\\";\\n\\nqreg q[1];\\ncreg c[1];\\n\\ny q[0];\\nmeasure q[0] -> c[0];\"",
       "editable": true,
       "layout": "IPY_MODEL_16a5f0a165a9498dba29971604e281b7",
       "qiskit_code_cell_index": 1
      }
     },
     "80f91c67c4b6461a97de38a68201ce54": {
      "model_module": "@jupyter-widgets/base",
      "model_module_version": "1.2.0",
      "model_name": "LayoutModel",
      "state": {
       "width": "95px"
      }
     },
     "973865eaaefd4aa385e26c6b0dcba649": {
      "model_module": "@jupyter-widgets/controls",
      "model_module_version": "1.5.0",
      "model_name": "ButtonStyleModel",
      "state": {}
     },
     "97c8e1cf848344998841f21e0ae69a46": {
      "model_module": "@jupyter-widgets/controls",
      "model_module_version": "1.5.0",
      "model_name": "DescriptionStyleModel",
      "state": {
       "description_width": ""
      }
     },
     "9c07e501697b43c58ee3906db684baff": {
      "model_module": "@jupyter-widgets/base",
      "model_module_version": "1.2.0",
      "model_name": "LayoutModel",
      "state": {
       "width": "190px"
      }
     },
     "9ee9082006bd4887ad5944c8abb7d3c8": {
      "model_module": "@jupyter-widgets/base",
      "model_module_version": "1.2.0",
      "model_name": "LayoutModel",
      "state": {
       "margin": "0px 0px 0px 37px",
       "width": "600px"
      }
     },
     "b89dda652ec549bdbbc7d74d018ede86": {
      "model_module": "@jupyter-widgets/base",
      "model_module_version": "1.2.0",
      "model_name": "LayoutModel",
      "state": {
       "margin": "0px 0px 10px 0px"
      }
     },
     "b902d74514ad403a9de04c820b651158": {
      "model_module": "@jupyter-widgets/controls",
      "model_module_version": "1.5.0",
      "model_name": "HTMLModel",
      "state": {
       "layout": "IPY_MODEL_b89dda652ec549bdbbc7d74d018ede86",
       "style": "IPY_MODEL_97c8e1cf848344998841f21e0ae69a46",
       "value": "<p style='font-family: IBM Plex Sans, Arial, Helvetica, sans-serif; font-size: 20px; font-weight: medium;'>Circuit Properties</p>"
      }
     },
     "d21e71936cd14fa0a997e91339159f74": {
      "model_module": "@jupyter-widgets/controls",
      "model_module_version": "1.5.0",
      "model_name": "HBoxModel",
      "state": {
       "children": [
        "IPY_MODEL_30335ea4398b4f8e938fbf369bbffb6c",
        "IPY_MODEL_2cbc78e002514ff4949332ab46a21a95",
        "IPY_MODEL_2178afa82e4145a3abc35edf1765c0a0",
        "IPY_MODEL_56b011e3b698495ab7b202a628026fb4",
        "IPY_MODEL_510e50552f9446b9814a28cf53773aa2"
       ],
       "layout": "IPY_MODEL_9ee9082006bd4887ad5944c8abb7d3c8"
      }
     },
     "d8265ea6a692489883ac3b1832b2dbe7": {
      "model_module": "ibm-q-lab-widgets-extension",
      "model_module_version": "^2.0.11",
      "model_name": "CircuitComposerModel",
      "state": {
       "_model_module_version": "^2.0.11",
       "_view_module_version": "^2.0.11",
       "circuit": "\"OPENQASM 2.0;\\ninclude \\\"qelib1.inc\\\";\\n\\nqreg q[1];\\ncreg c[1];\\n\\ny q[0];\\nt q[0];\\nmeasure q[0] -> c[0];\"",
       "editable": true,
       "layout": "IPY_MODEL_36e2c9dad3dc43b59e5c616b2e0217d9",
       "qiskit_code_cell_index": -1
      }
     },
     "e2d10b6cc73c43f980d3c61e98f4c0c3": {
      "model_module": "@jupyter-widgets/controls",
      "model_module_version": "1.5.0",
      "model_name": "GridBoxModel",
      "state": {
       "children": [
        "IPY_MODEL_089b4c8e7d9946b99d40edf86b3bb6c0"
       ],
       "layout": "IPY_MODEL_416d42ba41ab484ca8784777bdd4ffa9"
      }
     },
     "ff10433a4e07449496e75025a3dae7a0": {
      "model_module": "@jupyter-widgets/controls",
      "model_module_version": "1.5.0",
      "model_name": "DescriptionStyleModel",
      "state": {
       "description_width": ""
      }
     }
    },
    "version_major": 2,
    "version_minor": 0
   }
  }
 },
 "nbformat": 4,
 "nbformat_minor": 5
}
