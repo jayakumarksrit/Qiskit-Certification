{
 "cells": [
  {
   "cell_type": "code",
   "execution_count": 1,
   "id": "45f46707-2d19-4317-9bbc-04e6ecd0354e",
   "metadata": {},
   "outputs": [],
   "source": [
    "import numpy as np\n",
    "\n",
    "# Importing standard Qiskit libraries\n",
    "from qiskit import QuantumCircuit, transpile, Aer, IBMQ\n",
    "from qiskit.tools.jupyter import *\n",
    "from qiskit.visualization import *\n",
    "from ibm_quantum_widgets import *\n",
    "from qiskit.providers.aer import QasmSimulator\n",
    "\n",
    "# Loading your IBM Quantum account(s)\n",
    "provider = IBMQ.load_account()"
   ]
  },
  {
   "cell_type": "code",
   "execution_count": 2,
   "id": "9ae2adff-c068-4002-b010-6864ddc5f34d",
   "metadata": {},
   "outputs": [
    {
     "data": {
      "text/plain": [
       "[<AccountProvider for IBMQ(hub='ibm-q', group='open', project='main')>]"
      ]
     },
     "execution_count": 2,
     "metadata": {},
     "output_type": "execute_result"
    }
   ],
   "source": [
    "IBMQ.providers()"
   ]
  },
  {
   "cell_type": "code",
   "execution_count": 3,
   "id": "040a072d-3f52-4a81-a3bc-70cc542b50b5",
   "metadata": {},
   "outputs": [],
   "source": [
    "provider=IBMQ.get_provider(hub='ibm-q')"
   ]
  },
  {
   "cell_type": "code",
   "execution_count": 4,
   "id": "34707064-9858-4e56-8dd1-c5b8f61f7c25",
   "metadata": {},
   "outputs": [
    {
     "data": {
      "text/plain": [
       "<AccountProvider for IBMQ(hub='ibm-q', group='open', project='main')>"
      ]
     },
     "execution_count": 4,
     "metadata": {},
     "output_type": "execute_result"
    }
   ],
   "source": [
    "provider"
   ]
  },
  {
   "cell_type": "code",
   "execution_count": 5,
   "id": "946ca4ee-09aa-48e7-8372-8b94429615e5",
   "metadata": {},
   "outputs": [
    {
     "data": {
      "text/plain": [
       "qiskit.providers.ibmq.accountprovider.AccountProvider"
      ]
     },
     "execution_count": 5,
     "metadata": {},
     "output_type": "execute_result"
    }
   ],
   "source": [
    "type(provider)"
   ]
  },
  {
   "cell_type": "code",
   "execution_count": 6,
   "id": "fd59fd8f-42bf-48c0-a9e5-36757bfaf452",
   "metadata": {},
   "outputs": [
    {
     "name": "stdout",
     "output_type": "stream",
     "text": [
      "<class 'qiskit.providers.ibmq.accountprovider.AccountProvider'>\n"
     ]
    }
   ],
   "source": [
    "print(type(provider))"
   ]
  },
  {
   "cell_type": "code",
   "execution_count": 7,
   "id": "c5dcf7de-84ea-4ecb-ab48-b6c88e637f2a",
   "metadata": {},
   "outputs": [],
   "source": [
    "provider=IBMQ.get_provider(group='open')"
   ]
  },
  {
   "cell_type": "code",
   "execution_count": 8,
   "id": "9fb647dd-e4a2-4c9c-9d42-8af60a49a04b",
   "metadata": {},
   "outputs": [
    {
     "data": {
      "text/plain": [
       "<AccountProvider for IBMQ(hub='ibm-q', group='open', project='main')>"
      ]
     },
     "execution_count": 8,
     "metadata": {},
     "output_type": "execute_result"
    }
   ],
   "source": [
    "provider"
   ]
  },
  {
   "cell_type": "code",
   "execution_count": 9,
   "id": "e326d564-5e1b-4743-8adf-7d47f35251ba",
   "metadata": {},
   "outputs": [
    {
     "data": {
      "text/plain": [
       "qiskit.providers.ibmq.accountprovider.AccountProvider"
      ]
     },
     "execution_count": 9,
     "metadata": {},
     "output_type": "execute_result"
    }
   ],
   "source": [
    "type(provider)"
   ]
  },
  {
   "cell_type": "code",
   "execution_count": 10,
   "id": "24dfd9a3-f61f-49cc-ad3f-6261233f9b2b",
   "metadata": {},
   "outputs": [
    {
     "name": "stdout",
     "output_type": "stream",
     "text": [
      "<class 'qiskit.providers.ibmq.accountprovider.AccountProvider'>\n"
     ]
    }
   ],
   "source": [
    "print(type(provider))"
   ]
  },
  {
   "cell_type": "code",
   "execution_count": 11,
   "id": "b332b70e-b450-4a1a-87d1-20a62c37ad3d",
   "metadata": {},
   "outputs": [
    {
     "data": {
      "text/plain": [
       "[<IBMQSimulator('ibmq_qasm_simulator') from IBMQ(hub='ibm-q', group='open', project='main')>,\n",
       " <IBMQBackend('ibmq_armonk') from IBMQ(hub='ibm-q', group='open', project='main')>,\n",
       " <IBMQBackend('ibmq_santiago') from IBMQ(hub='ibm-q', group='open', project='main')>,\n",
       " <IBMQBackend('ibmq_bogota') from IBMQ(hub='ibm-q', group='open', project='main')>,\n",
       " <IBMQBackend('ibmq_lima') from IBMQ(hub='ibm-q', group='open', project='main')>,\n",
       " <IBMQBackend('ibmq_belem') from IBMQ(hub='ibm-q', group='open', project='main')>,\n",
       " <IBMQBackend('ibmq_quito') from IBMQ(hub='ibm-q', group='open', project='main')>,\n",
       " <IBMQSimulator('simulator_statevector') from IBMQ(hub='ibm-q', group='open', project='main')>,\n",
       " <IBMQSimulator('simulator_mps') from IBMQ(hub='ibm-q', group='open', project='main')>,\n",
       " <IBMQSimulator('simulator_extended_stabilizer') from IBMQ(hub='ibm-q', group='open', project='main')>,\n",
       " <IBMQSimulator('simulator_stabilizer') from IBMQ(hub='ibm-q', group='open', project='main')>,\n",
       " <IBMQBackend('ibmq_manila') from IBMQ(hub='ibm-q', group='open', project='main')>]"
      ]
     },
     "execution_count": 11,
     "metadata": {},
     "output_type": "execute_result"
    }
   ],
   "source": [
    "provider.backends()"
   ]
  },
  {
   "cell_type": "code",
   "execution_count": 12,
   "id": "68b71197-5b65-4e2b-830d-dadb4a8d600b",
   "metadata": {},
   "outputs": [
    {
     "data": {
      "text/plain": [
       "[<IBMQBackend('ibmq_armonk') from IBMQ(hub='ibm-q', group='open', project='main')>,\n",
       " <IBMQBackend('ibmq_bogota') from IBMQ(hub='ibm-q', group='open', project='main')>,\n",
       " <IBMQBackend('ibmq_lima') from IBMQ(hub='ibm-q', group='open', project='main')>,\n",
       " <IBMQBackend('ibmq_belem') from IBMQ(hub='ibm-q', group='open', project='main')>,\n",
       " <IBMQBackend('ibmq_quito') from IBMQ(hub='ibm-q', group='open', project='main')>,\n",
       " <IBMQBackend('ibmq_manila') from IBMQ(hub='ibm-q', group='open', project='main')>]"
      ]
     },
     "execution_count": 12,
     "metadata": {},
     "output_type": "execute_result"
    }
   ],
   "source": [
    "provider.backends(simulator=False, operational=True)"
   ]
  },
  {
   "cell_type": "code",
   "execution_count": 14,
   "id": "104abcdc-e6fd-4879-9771-147672a4d4ae",
   "metadata": {},
   "outputs": [
    {
     "data": {
      "text/plain": [
       "[<IBMQSimulator('ibmq_qasm_simulator') from IBMQ(hub='ibm-q', group='open', project='main')>,\n",
       " <IBMQSimulator('simulator_statevector') from IBMQ(hub='ibm-q', group='open', project='main')>,\n",
       " <IBMQSimulator('simulator_mps') from IBMQ(hub='ibm-q', group='open', project='main')>,\n",
       " <IBMQSimulator('simulator_extended_stabilizer') from IBMQ(hub='ibm-q', group='open', project='main')>,\n",
       " <IBMQSimulator('simulator_stabilizer') from IBMQ(hub='ibm-q', group='open', project='main')>]"
      ]
     },
     "execution_count": 14,
     "metadata": {},
     "output_type": "execute_result"
    }
   ],
   "source": [
    "provider.backends(simulator=True, operational=True)"
   ]
  },
  {
   "cell_type": "code",
   "execution_count": 15,
   "id": "e9a2d378-1c81-4bed-97e7-f1ae70d37890",
   "metadata": {},
   "outputs": [
    {
     "data": {
      "text/plain": [
       "[<IBMQBackend('ibmq_santiago') from IBMQ(hub='ibm-q', group='open', project='main')>]"
      ]
     },
     "execution_count": 15,
     "metadata": {},
     "output_type": "execute_result"
    }
   ],
   "source": [
    "provider.backends(simulator=False, operational=False)"
   ]
  },
  {
   "cell_type": "code",
   "execution_count": 17,
   "id": "674e77f8-f6a8-4bf1-a140-a21c5147a3f6",
   "metadata": {},
   "outputs": [
    {
     "data": {
      "text/plain": [
       "[<IBMQBackend('ibmq_bogota') from IBMQ(hub='ibm-q', group='open', project='main')>,\n",
       " <IBMQBackend('ibmq_lima') from IBMQ(hub='ibm-q', group='open', project='main')>,\n",
       " <IBMQBackend('ibmq_belem') from IBMQ(hub='ibm-q', group='open', project='main')>,\n",
       " <IBMQBackend('ibmq_quito') from IBMQ(hub='ibm-q', group='open', project='main')>,\n",
       " <IBMQBackend('ibmq_manila') from IBMQ(hub='ibm-q', group='open', project='main')>]"
      ]
     },
     "execution_count": 17,
     "metadata": {},
     "output_type": "execute_result"
    }
   ],
   "source": [
    "provider.backends(filters=lambda x:x.configuration().n_qubits >=5 and not x.configuration().simulator and x.status().operational==True)"
   ]
  },
  {
   "cell_type": "code",
   "execution_count": 36,
   "id": "129fa30f-236a-4935-9a0a-e37d35367844",
   "metadata": {},
   "outputs": [],
   "source": [
    "backend = provider.backends()"
   ]
  },
  {
   "cell_type": "code",
   "execution_count": 37,
   "id": "ad521357-a7d7-4d88-95f9-39f51573c6d2",
   "metadata": {},
   "outputs": [
    {
     "data": {
      "text/plain": [
       "[<IBMQSimulator('ibmq_qasm_simulator') from IBMQ(hub='ibm-q', group='open', project='main')>,\n",
       " <IBMQBackend('ibmq_armonk') from IBMQ(hub='ibm-q', group='open', project='main')>,\n",
       " <IBMQBackend('ibmq_santiago') from IBMQ(hub='ibm-q', group='open', project='main')>,\n",
       " <IBMQBackend('ibmq_bogota') from IBMQ(hub='ibm-q', group='open', project='main')>,\n",
       " <IBMQBackend('ibmq_lima') from IBMQ(hub='ibm-q', group='open', project='main')>,\n",
       " <IBMQBackend('ibmq_belem') from IBMQ(hub='ibm-q', group='open', project='main')>,\n",
       " <IBMQBackend('ibmq_quito') from IBMQ(hub='ibm-q', group='open', project='main')>,\n",
       " <IBMQSimulator('simulator_statevector') from IBMQ(hub='ibm-q', group='open', project='main')>,\n",
       " <IBMQSimulator('simulator_mps') from IBMQ(hub='ibm-q', group='open', project='main')>,\n",
       " <IBMQSimulator('simulator_extended_stabilizer') from IBMQ(hub='ibm-q', group='open', project='main')>,\n",
       " <IBMQSimulator('simulator_stabilizer') from IBMQ(hub='ibm-q', group='open', project='main')>,\n",
       " <IBMQBackend('ibmq_manila') from IBMQ(hub='ibm-q', group='open', project='main')>]"
      ]
     },
     "execution_count": 37,
     "metadata": {},
     "output_type": "execute_result"
    }
   ],
   "source": [
    "backend"
   ]
  },
  {
   "cell_type": "code",
   "execution_count": 38,
   "id": "bca4fa63-e5a4-40eb-b4ca-b1eb67063667",
   "metadata": {},
   "outputs": [
    {
     "name": "stdout",
     "output_type": "stream",
     "text": [
      "Traceback \u001b[1;36m(most recent call last)\u001b[0m:\n",
      "\u001b[1;36m  Input \u001b[1;32mIn [38]\u001b[1;36m in \u001b[1;35m<module>\u001b[1;36m\u001b[0m\n",
      "\u001b[1;33m    backend.name()\u001b[0m\n",
      "\u001b[1;31mAttributeError\u001b[0m\u001b[1;31m:\u001b[0m 'list' object has no attribute 'name'\n",
      "\n",
      "Use %tb to get the full traceback.\n"
     ]
    },
    {
     "data": {
      "text/html": [
       "\n",
       "<style>\n",
       ".button {\n",
       "  border: none;\n",
       "  color: white;\n",
       "  padding: 4px 8px;\n",
       "  text-align: center;\n",
       "  text-decoration: none;\n",
       "  display: inline-block;\n",
       "  font-size: 12px;\n",
       "  margin: 4px 2px;\n",
       "  transition-duration: 0.2s;\n",
       "  cursor: pointer;\n",
       "}\n",
       ".iqx-button {\n",
       "  background-color: #0f62fe; \n",
       "  color: white; \n",
       "}\n",
       ".iqx-button:hover {\n",
       "  background-color: #0043ce;\n",
       "  color: white;\n",
       "}\n",
       "</style>\n",
       "<a href=\"https://stackoverflow.com/search?q=AttributeError: 'list' object has no attribute 'name'\" target='_blank'><button class='button iqx-button'>Search for solution online</button></a>\n"
      ],
      "text/plain": [
       "<IPython.core.display.HTML object>"
      ]
     },
     "metadata": {},
     "output_type": "display_data"
    }
   ],
   "source": [
    "backend.name()"
   ]
  },
  {
   "cell_type": "code",
   "execution_count": 22,
   "id": "d2929e0b-fa64-4002-81c6-5559607dc59c",
   "metadata": {},
   "outputs": [
    {
     "data": {
      "text/plain": [
       "1"
      ]
     },
     "execution_count": 22,
     "metadata": {},
     "output_type": "execute_result"
    }
   ],
   "source": [
    "backend.version"
   ]
  },
  {
   "cell_type": "code",
   "execution_count": 23,
   "id": "afb7a904-bb5b-43fa-9e76-6e0510e3ac7c",
   "metadata": {},
   "outputs": [
    {
     "data": {
      "text/plain": [
       "<AccountProvider for IBMQ(hub='ibm-q', group='open', project='main')>"
      ]
     },
     "execution_count": 23,
     "metadata": {},
     "output_type": "execute_result"
    }
   ],
   "source": [
    "backend.provider()"
   ]
  },
  {
   "cell_type": "code",
   "execution_count": 29,
   "id": "a56e968f-b84a-40f9-a433-4bed614299ff",
   "metadata": {},
   "outputs": [
    {
     "name": "stderr",
     "output_type": "stream",
     "text": [
      "ibmqfactory.load_account:WARNING:2022-01-26 14:34:47,725: Credentials are already in use. The existing account in the session will be replaced.\n"
     ]
    }
   ],
   "source": [
    "provider = IBMQ.load_account()"
   ]
  },
  {
   "cell_type": "code",
   "execution_count": 31,
   "id": "291d1120-8dae-46fe-8204-0c35b980f196",
   "metadata": {},
   "outputs": [],
   "source": [
    "backend = provider.backends()[1]"
   ]
  },
  {
   "cell_type": "code",
   "execution_count": 39,
   "id": "a940c2d1-3f0c-488d-a551-85b0ee55fb3f",
   "metadata": {},
   "outputs": [
    {
     "name": "stdout",
     "output_type": "stream",
     "text": [
      "Traceback \u001b[1;36m(most recent call last)\u001b[0m:\n",
      "  Input \u001b[0;32mIn [39]\u001b[0m in \u001b[0;35m<module>\u001b[0m\n",
      "    job=qiskit.execute(qc,backend)\n",
      "  File \u001b[0;32m/opt/conda/lib/python3.8/site-packages/qiskit/execute_function.py:294\u001b[0m in \u001b[0;35mexecute\u001b[0m\n",
      "    experiments = transpile(\n",
      "  File \u001b[0;32m/opt/conda/lib/python3.8/site-packages/qiskit/compiler/transpiler.py:307\u001b[0m in \u001b[0;35mtranspile\u001b[0m\n",
      "    transpile_args = _parse_transpile_args(\n",
      "  File \u001b[0;32m/opt/conda/lib/python3.8/site-packages/qiskit/compiler/transpiler.py:584\u001b[0m in \u001b[0;35m_parse_transpile_args\u001b[0m\n",
      "    timing_constraints = _parse_timing_constraints(backend, timing_constraints, num_circuits)\n",
      "\u001b[1;36m  File \u001b[1;32m/opt/conda/lib/python3.8/site-packages/qiskit/compiler/transpiler.py:1111\u001b[1;36m in \u001b[1;35m_parse_timing_constraints\u001b[1;36m\u001b[0m\n",
      "\u001b[1;33m    timing_constraints = getattr(backend.configuration(), \"timing_constraints\", {})\u001b[0m\n",
      "\u001b[1;31mAttributeError\u001b[0m\u001b[1;31m:\u001b[0m 'list' object has no attribute 'configuration'\n",
      "\n",
      "Use %tb to get the full traceback.\n"
     ]
    },
    {
     "data": {
      "text/html": [
       "\n",
       "<style>\n",
       ".button {\n",
       "  border: none;\n",
       "  color: white;\n",
       "  padding: 4px 8px;\n",
       "  text-align: center;\n",
       "  text-decoration: none;\n",
       "  display: inline-block;\n",
       "  font-size: 12px;\n",
       "  margin: 4px 2px;\n",
       "  transition-duration: 0.2s;\n",
       "  cursor: pointer;\n",
       "}\n",
       ".iqx-button {\n",
       "  background-color: #0f62fe; \n",
       "  color: white; \n",
       "}\n",
       ".iqx-button:hover {\n",
       "  background-color: #0043ce;\n",
       "  color: white;\n",
       "}\n",
       "</style>\n",
       "<a href=\"https://stackoverflow.com/search?q=AttributeError: 'list' object has no attribute 'configuration'\" target='_blank'><button class='button iqx-button'>Search for solution online</button></a>\n"
      ],
      "text/plain": [
       "<IPython.core.display.HTML object>"
      ]
     },
     "metadata": {},
     "output_type": "display_data"
    }
   ],
   "source": [
    "from qiskit import qiskit\n",
    "qc=QuantumCircuit(2,2)\n",
    "\n",
    "qc.h(0)\n",
    "qc.cx(0,1)\n",
    "qc.measure([0,1],[0,1])\n",
    "\n",
    "job=qiskit.execute(qc,backend)\n",
    "job.status()\n",
    "job.status()\n",
    "job.result().get_counts()"
   ]
  },
  {
   "cell_type": "code",
   "execution_count": 34,
   "id": "8e16af77-1899-4394-bd6f-9dfa4110c465",
   "metadata": {},
   "outputs": [
    {
     "data": {
      "text/plain": [
       "<qiskit.providers.models.backendconfiguration.PulseBackendConfiguration at 0x7fce9122bfd0>"
      ]
     },
     "execution_count": 34,
     "metadata": {},
     "output_type": "execute_result"
    }
   ],
   "source": [
    "backend.configuration()"
   ]
  },
  {
   "cell_type": "code",
   "execution_count": 35,
   "id": "cdf5ea77-812a-4021-ba1c-8cb2567badb4",
   "metadata": {},
   "outputs": [
    {
     "data": {
      "application/vnd.jupyter.widget-view+json": {
       "model_id": "5a34a8bde04d49459b027b26ef35f278",
       "version_major": 2,
       "version_minor": 0
      },
      "text/plain": [
       "VBox(children=(HTML(value=\"<h1 style='color:#ffffff;background-color:#000000;padding-top: 1%;padding-bottom: 1…"
      ]
     },
     "metadata": {},
     "output_type": "display_data"
    },
    {
     "data": {
      "text/plain": [
       "<IBMQBackend('ibmq_armonk') from IBMQ(hub='ibm-q', group='open', project='main')>"
      ]
     },
     "execution_count": 35,
     "metadata": {},
     "output_type": "execute_result"
    }
   ],
   "source": [
    "backend"
   ]
  },
  {
   "cell_type": "code",
   "execution_count": null,
   "id": "e6854d0b-5177-45d8-9535-f182361d0c3c",
   "metadata": {},
   "outputs": [],
   "source": []
  }
 ],
 "metadata": {
  "kernelspec": {
   "display_name": "Qiskit v0.34.1 (ipykernel)",
   "language": "python",
   "name": "python3"
  },
  "language_info": {
   "codemirror_mode": {
    "name": "ipython",
    "version": 3
   },
   "file_extension": ".py",
   "mimetype": "text/x-python",
   "name": "python",
   "nbconvert_exporter": "python",
   "pygments_lexer": "ipython3",
   "version": "3.8.12"
  },
  "widgets": {
   "application/vnd.jupyter.widget-state+json": {
    "state": {
     "01b5bb01ff5a45729fd5cd37c05203f1": {
      "model_module": "@jupyter-widgets/controls",
      "model_module_version": "1.5.0",
      "model_name": "DescriptionStyleModel",
      "state": {
       "description_width": ""
      }
     },
     "07e9bceb087f41e5b8beca1a8e94e7c0": {
      "model_module": "@jupyter-widgets/controls",
      "model_module_version": "1.5.0",
      "model_name": "DescriptionStyleModel",
      "state": {
       "description_width": ""
      }
     },
     "08264a12536a4881972c3fdfb1281feb": {
      "model_module": "@jupyter-widgets/output",
      "model_module_version": "1.0.0",
      "model_name": "OutputModel",
      "state": {
       "layout": "IPY_MODEL_43f65eaea35841efa94544daf673ad36",
       "outputs": [
        {
         "data": {
          "image/png": "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\n",
          "text/plain": "<Figure size 792x648 with 4 Axes>"
         },
         "metadata": {},
         "output_type": "display_data"
        }
       ]
      }
     },
     "08b775b27bac44e1b6ac3bb1d640c3d9": {
      "model_module": "@jupyter-widgets/controls",
      "model_module_version": "1.5.0",
      "model_name": "DescriptionStyleModel",
      "state": {
       "description_width": ""
      }
     },
     "09ac137228d0421fa03bed7a6792a568": {
      "model_module": "@jupyter-widgets/controls",
      "model_module_version": "1.5.0",
      "model_name": "DescriptionStyleModel",
      "state": {
       "description_width": ""
      }
     },
     "0c0def7f846f43d4a39f03e14ff63e11": {
      "model_module": "@jupyter-widgets/controls",
      "model_module_version": "1.5.0",
      "model_name": "DescriptionStyleModel",
      "state": {
       "description_width": ""
      }
     },
     "11d2a33967464376b1dbb9ab42801403": {
      "model_module": "@jupyter-widgets/controls",
      "model_module_version": "1.5.0",
      "model_name": "ButtonModel",
      "state": {
       "button_style": "primary",
       "description": "Clear",
       "layout": "IPY_MODEL_25b4182ea7954f18bd0dd634dfe4e1e9",
       "style": "IPY_MODEL_f17b02f8c61247a98de89f2816aeccfd"
      }
     },
     "127ebcd554e0489aa828c438d8ac4a6d": {
      "model_module": "@jupyter-widgets/controls",
      "model_module_version": "1.5.0",
      "model_name": "TabModel",
      "state": {
       "layout": "IPY_MODEL_4ad08972c3bf401f83133f295f292ce4"
      }
     },
     "14574daa0064471fafb05950865469ba": {
      "model_module": "@jupyter-widgets/base",
      "model_module_version": "1.2.0",
      "model_name": "LayoutModel",
      "state": {
       "overflow_y": "scroll"
      }
     },
     "147d883c7d954b638c8e001a3f68a17c": {
      "model_module": "@jupyter-widgets/controls",
      "model_module_version": "1.5.0",
      "model_name": "VBoxModel",
      "state": {
       "children": [
        "IPY_MODEL_6e7c2885fdb94246ad813fca1059f044",
        "IPY_MODEL_3d09446551fe434f8cd9361c49120528"
       ],
       "layout": "IPY_MODEL_905ab771a5494dfb9bf1f3d537b0f7bf"
      }
     },
     "1966825160f04b8f9e5a2377605ff259": {
      "model_module": "@jupyter-widgets/controls",
      "model_module_version": "1.5.0",
      "model_name": "HTMLModel",
      "state": {
       "layout": "IPY_MODEL_89812740bc9a43faa8d65d63d1fa9bdf",
       "style": "IPY_MODEL_4d2688de8e504dd7bd9c0b406a566347",
       "value": "<h5>Message</h5>"
      }
     },
     "19d459db345d41c085ee987947dcb3a2": {
      "model_module": "@jupyter-widgets/base",
      "model_module_version": "1.2.0",
      "model_name": "LayoutModel",
      "state": {
       "align_items": "center",
       "display": "flex-inline"
      }
     },
     "1d44950859f8473ba36191548892960d": {
      "model_module": "@jupyter-widgets/controls",
      "model_module_version": "1.5.0",
      "model_name": "HTMLModel",
      "state": {
       "layout": "IPY_MODEL_d5e3b2ce60b54d4ab0f8a9ea35b10235",
       "style": "IPY_MODEL_01b5bb01ff5a45729fd5cd37c05203f1",
       "value": "<table><style>\ntable {\n    border-collapse: collapse;\n    width: auto;\n}\n\nth, td {\n    text-align: left;\n    padding: 8px;\n}\n\ntr:nth-child(even) {background-color: #f6f6f6;}\n</style><tr><th></th><th>Frequency</th><th>T1</th><th>T2</th><th>RZ</th><th>SX</th><th>X</th><th>Readout error</th></tr><tr><td><font style='font-weight:bold'>Q0</font></td><td>4.97161 GHz</td><td>211.00886 us</td><td>265.62361 us</td><td>0</td><td>0.00024</td><td>0.00024</td><td>0.0334 </td></table>"
      }
     },
     "1e516372698441ef969834306376108e": {
      "model_module": "@jupyter-widgets/controls",
      "model_module_version": "1.5.0",
      "model_name": "TabModel",
      "state": {
       "_titles": {
        "0": "Configuration",
        "1": "Qubit Properties",
        "2": "Multi-Qubit Gates",
        "3": "Error Map",
        "4": "Job History"
       },
       "children": [
        "IPY_MODEL_d35a24a42e854322bf07510005a562a3",
        "IPY_MODEL_f4f7ddfa1b2c45519e8e18410bc64667",
        "IPY_MODEL_9b1978ba679147c2ada27706f7fd7d5e",
        "IPY_MODEL_08264a12536a4881972c3fdfb1281feb",
        "IPY_MODEL_127ebcd554e0489aa828c438d8ac4a6d"
       ],
       "layout": "IPY_MODEL_14574daa0064471fafb05950865469ba"
      }
     },
     "1fa3cfe940834b028a1dc60303f9d30e": {
      "model_module": "@jupyter-widgets/base",
      "model_module_version": "1.2.0",
      "model_name": "LayoutModel",
      "state": {
       "margin": "0px 0px 0px 0px"
      }
     },
     "2570ec52e94c40cfa9bf09bac5dc10a9": {
      "model_module": "@jupyter-widgets/base",
      "model_module_version": "1.2.0",
      "model_name": "LayoutModel",
      "state": {
       "grid_area": "right"
      }
     },
     "25b4182ea7954f18bd0dd634dfe4e1e9": {
      "model_module": "@jupyter-widgets/base",
      "model_module_version": "1.2.0",
      "model_name": "LayoutModel",
      "state": {
       "grid_area": "right",
       "padding": "0px 0px 0px 0px",
       "width": "70px"
      }
     },
     "2ae6afa782d04b538ced44d01640b9c5": {
      "model_module": "@jupyter-widgets/base",
      "model_module_version": "1.2.0",
      "model_name": "LayoutModel",
      "state": {
       "align_items": "center",
       "display": "flex-inline",
       "min_height": "400px"
      }
     },
     "2e5a32aeb6264436a86edc9c10ce3a2f": {
      "model_module": "@jupyter-widgets/controls",
      "model_module_version": "1.5.0",
      "model_name": "HTMLModel",
      "state": {
       "layout": "IPY_MODEL_cb88434136cb471793a261e3f5eae7b6",
       "style": "IPY_MODEL_e0b9de85867a4a478d244cce167d3169",
       "value": "<h5>Queue</h5>"
      }
     },
     "2f9ba7d3383249ce93769cacc68fb3ab": {
      "model_module": "@jupyter-widgets/base",
      "model_module_version": "1.2.0",
      "model_name": "LayoutModel",
      "state": {
       "margin": "0px 0px 10px 0px"
      }
     },
     "300fb5347b1f4b66a8d2eb57607ecfb6": {
      "model_module": "@jupyter-widgets/output",
      "model_module_version": "1.0.0",
      "model_name": "OutputModel",
      "state": {
       "layout": "IPY_MODEL_a91df6ce3f4443d1a4cfbf924c37adc0",
       "outputs": [
        {
         "data": {
          "image/png": "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\n",
          "text/plain": "<Figure size 360x360 with 1 Axes>"
         },
         "metadata": {},
         "output_type": "display_data"
        }
       ]
      }
     },
     "34d4eff04cf74e7db58135165086f008": {
      "model_module": "@jupyter-widgets/controls",
      "model_module_version": "1.5.0",
      "model_name": "HTMLMathModel",
      "state": {
       "layout": "IPY_MODEL_cea83030b03a41c9a526f3a1b44a7fe1",
       "style": "IPY_MODEL_f235c903c9084768a0bf76acd43ca619",
       "value": "<table><style>\ntable {\n    border-collapse: collapse;\n    width: auto;\n}\n\nth, td {\n    text-align: left;\n    padding: 8px;\n}\n\ntr:nth-child(even) {background-color: #f6f6f6;}\n</style><tr><th></th><th></th></tr><tr><td>processor_type</td><td>{'family': 'Canary', 'revision': 1.2}</td></tr><tr><td>description</td><td>1 qubit device</td></tr><tr><td>dtm</td><td>0.2222222222222222</td></tr><tr><td>qubit_channel_mapping</td><td>[['m0', 'd0']]</td></tr><tr><td>n_uchannels</td><td>0</td></tr><tr><td>dynamic_reprate_enabled</td><td>False</td></tr><tr><td>meas_levels</td><td>[1, 2]</td></tr><tr><td>online_date</td><td>2019-10-16 04:00:00+00:00</td></tr><tr><td>backend_name</td><td>ibmq_armonk</td></tr><tr><td>dt</td><td>0.2222222222222222</td></tr><tr><td>supported_features</td><td>['q', 'o', 'b', 'j']</td></tr><tr><td>uchannels_enabled</td><td>True</td></tr><tr><td>supported_instructions</td><td>['acquire', 'id', 'u2', 'shiftf', 'rz', 'measure', 'u1', 'setf', 'sx', 'delay', 'play', 'u3', 'x']</td></tr><tr><td>credits_required</td><td>True</td></tr><tr><td>pulse_num_channels</td><td>9</td></tr><tr><td>meas_map</td><td>[[0]]</td></tr><tr><td>url</td><td>None</td></tr><tr><td>open_pulse</td><td>True</td></tr><tr><td>pulse_num_qubits</td><td>3</td></tr><tr><td>u_channel_lo</td><td>[]</td></tr><tr><td>n_registers</td><td>1</td></tr><tr><td>channels</td><td>{'acquire0': {'operates': {'qubits': [0]}, 'purpose': 'acquire', 'type': 'acquire'}, 'd0': {'operates': {'qubits': [0]}, 'purpose': 'drive', 'type': 'drive'}, 'm0': {'operates': {'qubits': [0]}, 'purpose': 'measure', 'type': 'measure'}}</td></tr><tr><td>rep_times</td><td>[1000.0]</td></tr><tr><td>conditional</td><td>False</td></tr><tr><td>allow_q_object</td><td>True</td></tr><tr><td>allow_object_storage</td><td>True</td></tr><tr><td>conditional_latency</td><td>[]</td></tr><tr><td>sample_name</td><td>family: Canary, revision: 1.2</td></tr><tr><td>discriminators</td><td>['quadratic_discriminator', 'linear_discriminator']</td></tr><tr><td>parametric_pulses</td><td>['gaussian', 'gaussian_square', 'drag', 'constant']</td></tr><tr><td>simulator</td><td>False</td></tr><tr><td>coupling_map</td><td>None</td></tr><tr><td>meas_lo_range</td><td>[[6.493370669000001, 7.493370669000001]]</td></tr><tr><td>input_allowed</td><td>['job', 'runtime']</td></tr><tr><td>timing_constraints</td><td>{'acquire_alignment': 16, 'granularity': 16, 'min_length': 64, 'pulse_alignment': 1}</td></tr><tr><td>clops</td><td>None</td></tr><tr><td>meas_kernels</td><td>['hw_boxcar']</td></tr><tr><td>measure_esp_enabled</td><td>False</td></tr><tr><td>hamiltonian</td><td>$$\\begin{align} \\mathcal{H}/\\hbar = & \\sum_{i=0}^{0}\\left(\\frac{\\omega_{q,i}}{2}(\\mathbb{I}-\\sigma_i^{z})+\\frac{\\Delta_{i}}{2}(O_i^2-O_i)+\\Omega_{d,i}D_i(t)\\sigma_i^{X}\\right) \\\\ \\end{align}$$</td></tr><tr><td>acquisition_latency</td><td>[]</td></tr><tr><td>memory</td><td>True</td></tr><tr><td>qubit_lo_range</td><td>[[4.471611729762717, 5.471611729762717]]</td></tr><tr><td>local</td><td>False</td></tr><tr><td>multi_meas_enabled</td><td>True</td></tr></table>"
      }
     },
     "3578420c61124b39ba628bde9f80c851": {
      "model_module": "@jupyter-widgets/base",
      "model_module_version": "1.2.0",
      "model_name": "LayoutModel",
      "state": {
       "grid_gap": "0px 0px",
       "grid_template_areas": "\n                               \"left right right right\"\n                               \"bottom bottom bottom bottom\"\n                               ",
       "grid_template_columns": "31% 23% 23% 23%",
       "grid_template_rows": "auto auto"
      }
     },
     "357f8a6e886a4e62899192630cb649a5": {
      "model_module": "@jupyter-widgets/controls",
      "model_module_version": "1.5.0",
      "model_name": "HTMLModel",
      "state": {
       "layout": "IPY_MODEL_c89b34ed0b764667ad2eb94eb05c2251",
       "style": "IPY_MODEL_07e9bceb087f41e5b8beca1a8e94e7c0",
       "value": "<table><style>\ntable {\n    border-collapse: collapse;\n    width: auto;\n}\n\nth, td {\n    text-align: left;\n    padding: 8px;\n}\n\ntr:nth-child(even) {background-color: #f6f6f6;};\n</style><tr><th></th><th>Type</th><th>Gate error</th></tr></table>"
      }
     },
     "36352face4f44e5480175873e2bc8647": {
      "model_module": "@jupyter-widgets/base",
      "model_module_version": "1.2.0",
      "model_name": "LayoutModel",
      "state": {
       "width": "145px"
      }
     },
     "3d09446551fe434f8cd9361c49120528": {
      "model_module": "@jupyter-widgets/controls",
      "model_module_version": "1.5.0",
      "model_name": "TabModel",
      "state": {
       "_titles": {
        "0": "Configuration",
        "1": "Qubit Properties",
        "2": "Multi-Qubit Gates",
        "3": "Error Map",
        "4": "Job History"
       },
       "children": [
        "IPY_MODEL_d7fcd9ad005548179e50b649be59bce6",
        "IPY_MODEL_4e1d4230a797463fa439cf452ce63c53",
        "IPY_MODEL_9eeaa010bda249699431bff47f595384",
        "IPY_MODEL_7e0c410b8a464240979ce8096769f761",
        "IPY_MODEL_b6a825277ed043a8ba088b14cda31b17"
       ],
       "layout": "IPY_MODEL_4199fa619a2a4b6fa302f200dd9cb58b"
      }
     },
     "3f24bf8093dd4ed1970d087b8a1c5624": {
      "model_module": "@jupyter-widgets/controls",
      "model_module_version": "1.5.0",
      "model_name": "DescriptionStyleModel",
      "state": {
       "description_width": ""
      }
     },
     "3f7a86afb31243408ebfa6db98a38d14": {
      "model_module": "@jupyter-widgets/controls",
      "model_module_version": "1.5.0",
      "model_name": "DescriptionStyleModel",
      "state": {
       "description_width": ""
      }
     },
     "4199fa619a2a4b6fa302f200dd9cb58b": {
      "model_module": "@jupyter-widgets/base",
      "model_module_version": "1.2.0",
      "model_name": "LayoutModel",
      "state": {
       "overflow_y": "scroll"
      }
     },
     "43f65eaea35841efa94544daf673ad36": {
      "model_module": "@jupyter-widgets/base",
      "model_module_version": "1.2.0",
      "model_name": "LayoutModel",
      "state": {
       "align_items": "center",
       "display": "flex-inline"
      }
     },
     "45962a6b06854b328ad1e2f4b851fe2f": {
      "model_module": "@jupyter-widgets/controls",
      "model_module_version": "1.5.0",
      "model_name": "HTMLModel",
      "state": {
       "layout": "IPY_MODEL_5514ba877d034d8484cfcd0956b23863",
       "style": "IPY_MODEL_8beb09dfc07e4436a4f8d44ae7f41432",
       "value": "<div><font style='font-weight:bold'>last_update_date</font>: Wed 26 January 2022 at 05:08 UTC</div>"
      }
     },
     "4770662de107480ab17605dc1dc209db": {
      "model_module": "@jupyter-widgets/base",
      "model_module_version": "1.2.0",
      "model_name": "LayoutModel",
      "state": {
       "border": "4px solid #000000",
       "max_height": "650px",
       "min_height": "650px",
       "overflow_y": "hidden"
      }
     },
     "479cf73920204ccd8a983f7510e67291": {
      "model_module": "@jupyter-widgets/controls",
      "model_module_version": "1.5.0",
      "model_name": "DescriptionStyleModel",
      "state": {
       "description_width": ""
      }
     },
     "47c38735dbc34018b4478dce21005772": {
      "model_module": "@jupyter-widgets/controls",
      "model_module_version": "1.5.0",
      "model_name": "HTMLModel",
      "state": {
       "layout": "IPY_MODEL_d0fa0b3e9e954323899f0c4599c30779",
       "style": "IPY_MODEL_e4ae4259b4a04cff9cada397e7c465f7",
       "value": "<h5>Job ID</h5>"
      }
     },
     "49ddc3fee3544a0682425cd6421f18ec": {
      "model_module": "@jupyter-widgets/base",
      "model_module_version": "1.2.0",
      "model_name": "LayoutModel",
      "state": {
       "width": "95px"
      }
     },
     "4ad08972c3bf401f83133f295f292ce4": {
      "model_module": "@jupyter-widgets/base",
      "model_module_version": "1.2.0",
      "model_name": "LayoutModel",
      "state": {
       "max_height": "620px"
      }
     },
     "4d2688de8e504dd7bd9c0b406a566347": {
      "model_module": "@jupyter-widgets/controls",
      "model_module_version": "1.5.0",
      "model_name": "DescriptionStyleModel",
      "state": {
       "description_width": ""
      }
     },
     "4dab6a909e074e56b6a4d8fba053bbad": {
      "model_module": "@jupyter-widgets/base",
      "model_module_version": "1.2.0",
      "model_name": "LayoutModel",
      "state": {
       "margin": "0px 0px 0px 37px",
       "width": "600px"
      }
     },
     "4e1d4230a797463fa439cf452ce63c53": {
      "model_module": "@jupyter-widgets/controls",
      "model_module_version": "1.5.0",
      "model_name": "VBoxModel",
      "state": {
       "children": [
        "IPY_MODEL_78d259c37ddc4eb793e385aaf860857d",
        "IPY_MODEL_1d44950859f8473ba36191548892960d"
       ],
       "layout": "IPY_MODEL_d66e14bd7b3b447fac368d56e76560c3"
      }
     },
     "51d3872354494bc595651ea8b54d43fb": {
      "model_module": "@jupyter-widgets/controls",
      "model_module_version": "1.5.0",
      "model_name": "HTMLModel",
      "state": {
       "layout": "IPY_MODEL_1fa3cfe940834b028a1dc60303f9d30e",
       "style": "IPY_MODEL_7cb094aaf0bd4dd1885f7a636674c25c",
       "value": "<h1 style='color:#ffffff;background-color:#000000;padding-top: 1%;padding-bottom: 1%;padding-left: 1%; margin-top: 0px'>ibmq_armonk</h1>"
      }
     },
     "5242ce9ca8744d59941fab20365c9e9b": {
      "model_module": "@jupyter-widgets/controls",
      "model_module_version": "1.5.0",
      "model_name": "DescriptionStyleModel",
      "state": {
       "description_width": ""
      }
     },
     "5514ba877d034d8484cfcd0956b23863": {
      "model_module": "@jupyter-widgets/base",
      "model_module_version": "1.2.0",
      "model_name": "LayoutModel",
      "state": {}
     },
     "56213eb682e544de902428638c3fd3f6": {
      "model_module": "@jupyter-widgets/controls",
      "model_module_version": "1.5.0",
      "model_name": "DescriptionStyleModel",
      "state": {
       "description_width": ""
      }
     },
     "59c7a17d24f347ce81b3dcf1442113cd": {
      "model_module": "@jupyter-widgets/controls",
      "model_module_version": "1.5.0",
      "model_name": "HBoxModel",
      "state": {
       "children": [
        "IPY_MODEL_47c38735dbc34018b4478dce21005772",
        "IPY_MODEL_5bd0ec44ed654c71b239c58ab27de214",
        "IPY_MODEL_73a3db6e6bfc49ada0b8281affbabf1b",
        "IPY_MODEL_2e5a32aeb6264436a86edc9c10ce3a2f",
        "IPY_MODEL_1966825160f04b8f9e5a2377605ff259"
       ],
       "layout": "IPY_MODEL_4dab6a909e074e56b6a4d8fba053bbad"
      }
     },
     "5a34a8bde04d49459b027b26ef35f278": {
      "model_module": "@jupyter-widgets/controls",
      "model_module_version": "1.5.0",
      "model_name": "VBoxModel",
      "state": {
       "children": [
        "IPY_MODEL_51d3872354494bc595651ea8b54d43fb",
        "IPY_MODEL_1e516372698441ef969834306376108e"
       ],
       "layout": "IPY_MODEL_4770662de107480ab17605dc1dc209db"
      }
     },
     "5bd0ec44ed654c71b239c58ab27de214": {
      "model_module": "@jupyter-widgets/controls",
      "model_module_version": "1.5.0",
      "model_name": "HTMLModel",
      "state": {
       "layout": "IPY_MODEL_36352face4f44e5480175873e2bc8647",
       "style": "IPY_MODEL_479cf73920204ccd8a983f7510e67291",
       "value": "<h5>Backend</h5>"
      }
     },
     "5c84ede074de4b298c41003d50cf38f3": {
      "model_module": "@jupyter-widgets/controls",
      "model_module_version": "1.5.0",
      "model_name": "HTMLMathModel",
      "state": {
       "layout": "IPY_MODEL_7c2192f0b4134c058ee9111912aebc3f",
       "style": "IPY_MODEL_56213eb682e544de902428638c3fd3f6",
       "value": "<table><style>\ntable {\n    border-collapse: collapse;\n    width: auto;\n}\n\nth, td {\n    text-align: left;\n    padding: 8px;\n}\n\ntr:nth-child(even) {background-color: #f6f6f6;}\n</style><tr><th>Property</th><th>Value</th></tr><tr><td><font style='font-weight:bold'>n_qubits</font></td><td>1</td></tr><tr><td><font style='font-weight:bold'>quantum_volume</font></td><td>1</td></tr><tr><td><font style='font-weight:bold'>operational</font></td><td>True</td></tr><tr><td><font style='font-weight:bold'>status_msg</font></td><td>active</td></tr><tr><td><font style='font-weight:bold'>pending_jobs</font></td><td>0</td></tr><tr><td><font style='font-weight:bold'>backend_version</font></td><td>2.4.26</td></tr><tr><td><font style='font-weight:bold'>basis_gates</font></td><td>['id', 'rz', 'sx', 'x']</td></tr><tr><td><font style='font-weight:bold'>max_shots</font></td><td>20000</td></tr><tr><td><font style='font-weight:bold'>max_experiments</font></td><td>100</td></tr></table>"
      }
     },
     "5e89bce7764b40d9a51301d05e955a62": {
      "model_module": "@jupyter-widgets/controls",
      "model_module_version": "1.5.0",
      "model_name": "HTMLModel",
      "state": {
       "layout": "IPY_MODEL_d29aa6975bb545e5b527325528f1daa0",
       "style": "IPY_MODEL_8cf58f185b524f4091bdd3f288462ded",
       "value": "<table><style>\ntable {\n    border-collapse: collapse;\n    width: auto;\n}\n\nth, td {\n    text-align: left;\n    padding: 8px;\n}\n\ntr:nth-child(even) {background-color: #f6f6f6;};\n</style><tr><th></th><th>Type</th><th>Gate error</th></tr></table>"
      }
     },
     "65703ceb5c7a42e2bbd91a90f4aea1c4": {
      "model_module": "@jupyter-widgets/controls",
      "model_module_version": "1.5.0",
      "model_name": "HTMLMathModel",
      "state": {
       "layout": "IPY_MODEL_9ee1d3fc3a3f492aa51af780ea05f5d5",
       "style": "IPY_MODEL_c5b343a48e614e89a942ff09064d8e48",
       "value": "<table><style>\ntable {\n    border-collapse: collapse;\n    width: auto;\n}\n\nth, td {\n    text-align: left;\n    padding: 8px;\n}\n\ntr:nth-child(even) {background-color: #f6f6f6;}\n</style><tr><th></th><th></th></tr><tr><td>processor_type</td><td>{'family': 'Canary', 'revision': 1.2}</td></tr><tr><td>description</td><td>1 qubit device</td></tr><tr><td>dtm</td><td>0.2222222222222222</td></tr><tr><td>qubit_channel_mapping</td><td>[['m0', 'd0']]</td></tr><tr><td>n_uchannels</td><td>0</td></tr><tr><td>dynamic_reprate_enabled</td><td>False</td></tr><tr><td>meas_levels</td><td>[1, 2]</td></tr><tr><td>online_date</td><td>2019-10-16 04:00:00+00:00</td></tr><tr><td>backend_name</td><td>ibmq_armonk</td></tr><tr><td>dt</td><td>0.2222222222222222</td></tr><tr><td>supported_features</td><td>['q', 'o', 'b', 'j']</td></tr><tr><td>uchannels_enabled</td><td>True</td></tr><tr><td>supported_instructions</td><td>['acquire', 'id', 'u2', 'shiftf', 'rz', 'measure', 'u1', 'setf', 'sx', 'delay', 'play', 'u3', 'x']</td></tr><tr><td>credits_required</td><td>True</td></tr><tr><td>pulse_num_channels</td><td>9</td></tr><tr><td>meas_map</td><td>[[0]]</td></tr><tr><td>url</td><td>None</td></tr><tr><td>open_pulse</td><td>True</td></tr><tr><td>pulse_num_qubits</td><td>3</td></tr><tr><td>u_channel_lo</td><td>[]</td></tr><tr><td>n_registers</td><td>1</td></tr><tr><td>channels</td><td>{'acquire0': {'operates': {'qubits': [0]}, 'purpose': 'acquire', 'type': 'acquire'}, 'd0': {'operates': {'qubits': [0]}, 'purpose': 'drive', 'type': 'drive'}, 'm0': {'operates': {'qubits': [0]}, 'purpose': 'measure', 'type': 'measure'}}</td></tr><tr><td>rep_times</td><td>[1000.0]</td></tr><tr><td>conditional</td><td>False</td></tr><tr><td>allow_q_object</td><td>True</td></tr><tr><td>allow_object_storage</td><td>True</td></tr><tr><td>conditional_latency</td><td>[]</td></tr><tr><td>sample_name</td><td>family: Canary, revision: 1.2</td></tr><tr><td>discriminators</td><td>['quadratic_discriminator', 'linear_discriminator']</td></tr><tr><td>parametric_pulses</td><td>['gaussian', 'gaussian_square', 'drag', 'constant']</td></tr><tr><td>simulator</td><td>False</td></tr><tr><td>coupling_map</td><td>None</td></tr><tr><td>meas_lo_range</td><td>[[6.493370669000001, 7.493370669000001]]</td></tr><tr><td>input_allowed</td><td>['job', 'runtime']</td></tr><tr><td>timing_constraints</td><td>{'acquire_alignment': 16, 'granularity': 16, 'min_length': 64, 'pulse_alignment': 1}</td></tr><tr><td>clops</td><td>None</td></tr><tr><td>meas_kernels</td><td>['hw_boxcar']</td></tr><tr><td>measure_esp_enabled</td><td>False</td></tr><tr><td>hamiltonian</td><td>$$\\begin{align} \\mathcal{H}/\\hbar = & \\sum_{i=0}^{0}\\left(\\frac{\\omega_{q,i}}{2}(\\mathbb{I}-\\sigma_i^{z})+\\frac{\\Delta_{i}}{2}(O_i^2-O_i)+\\Omega_{d,i}D_i(t)\\sigma_i^{X}\\right) \\\\ \\end{align}$$</td></tr><tr><td>acquisition_latency</td><td>[]</td></tr><tr><td>memory</td><td>True</td></tr><tr><td>qubit_lo_range</td><td>[[4.471611729762717, 5.471611729762717]]</td></tr><tr><td>local</td><td>False</td></tr><tr><td>multi_meas_enabled</td><td>True</td></tr></table>"
      }
     },
     "6772defe30f54a5ab9eca717890aedc5": {
      "model_module": "@jupyter-widgets/output",
      "model_module_version": "1.0.0",
      "model_name": "OutputModel",
      "state": {
       "layout": "IPY_MODEL_2ae6afa782d04b538ced44d01640b9c5",
       "outputs": [
        {
         "data": {
          "image/png": "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\n",
          "text/plain": "<Figure size 396x396 with 1 Axes>"
         },
         "metadata": {},
         "output_type": "display_data"
        }
       ]
      }
     },
     "6e7c2885fdb94246ad813fca1059f044": {
      "model_module": "@jupyter-widgets/controls",
      "model_module_version": "1.5.0",
      "model_name": "HTMLModel",
      "state": {
       "layout": "IPY_MODEL_9af58c42741246fd956e93db322610f3",
       "style": "IPY_MODEL_0c0def7f846f43d4a39f03e14ff63e11",
       "value": "<h1 style='color:#ffffff;background-color:#000000;padding-top: 1%;padding-bottom: 1%;padding-left: 1%; margin-top: 0px'>ibmq_armonk</h1>"
      }
     },
     "73a3db6e6bfc49ada0b8281affbabf1b": {
      "model_module": "@jupyter-widgets/controls",
      "model_module_version": "1.5.0",
      "model_name": "HTMLModel",
      "state": {
       "layout": "IPY_MODEL_49ddc3fee3544a0682425cd6421f18ec",
       "style": "IPY_MODEL_c3f4b69416e64d87becdd52290f512dd",
       "value": "<h5>Status</h5>"
      }
     },
     "7653d78efe004a72a2e5cdde1202aedf": {
      "model_module": "@jupyter-widgets/base",
      "model_module_version": "1.2.0",
      "model_name": "LayoutModel",
      "state": {
       "grid_area": "middle"
      }
     },
     "78d259c37ddc4eb793e385aaf860857d": {
      "model_module": "@jupyter-widgets/controls",
      "model_module_version": "1.5.0",
      "model_name": "HTMLModel",
      "state": {
       "layout": "IPY_MODEL_fad6503fc96b47ceb420e31352710f48",
       "style": "IPY_MODEL_e3d14fe8899948eb94bbf76db8c3e1c3",
       "value": "<div><font style='font-weight:bold'>last_update_date</font>: Wed 26 January 2022 at 05:08 UTC</div>"
      }
     },
     "7967d68bc3af4ae8accf62754c3b4a49": {
      "model_module": "@jupyter-widgets/controls",
      "model_module_version": "1.5.0",
      "model_name": "HTMLModel",
      "state": {
       "layout": "IPY_MODEL_cd1e806f01084147955be6a8601e748b",
       "style": "IPY_MODEL_08b775b27bac44e1b6ac3bb1d640c3d9",
       "value": "<div><font style='font-weight:bold'>last_update_date</font>: 2022-01-26 05:08:03+00:00</div>"
      }
     },
     "7c2192f0b4134c058ee9111912aebc3f": {
      "model_module": "@jupyter-widgets/base",
      "model_module_version": "1.2.0",
      "model_name": "LayoutModel",
      "state": {
       "grid_area": "left",
       "width": "100%"
      }
     },
     "7cb094aaf0bd4dd1885f7a636674c25c": {
      "model_module": "@jupyter-widgets/controls",
      "model_module_version": "1.5.0",
      "model_name": "DescriptionStyleModel",
      "state": {
       "description_width": ""
      }
     },
     "7e0c410b8a464240979ce8096769f761": {
      "model_module": "@jupyter-widgets/output",
      "model_module_version": "1.0.0",
      "model_name": "OutputModel",
      "state": {
       "layout": "IPY_MODEL_19d459db345d41c085ee987947dcb3a2",
       "outputs": [
        {
         "data": {
          "image/png": "iVBORw0KGgoAAAANSUhEUgAAAoQAAAHvCAYAAADNbM5LAAAAOXRFWHRTb2Z0d2FyZQBNYXRwbG90bGliIHZlcnNpb24zLjUuMSwgaHR0cHM6Ly9tYXRwbG90bGliLm9yZy/YYfK9AAAACXBIWXMAAAsTAAALEwEAmpwYAAApzUlEQVR4nO3deZhcVZ3/8fcXEkITCCGyQ2gMixDGBlkUES2RzYFBcEZBwA3cBsQFGR0Ft0FxYUAQFHRYlAnLgAnIFkUEbWVAhejQCohAtH9hXxKQ7Amc3x/3RoumE9JJuk9Vn/frefpJ961btz4VsZ9Pzjn3VKSUkCRJUrlWyx1AkiRJeVkIJUmSCmchlCRJKpyFUJIkqXAWQkmSpMJZCCVJkgpnIZQkSSqchVCSJKlwFkJJkqTCWQglSZIKZyGUJEkqnIVQkiSpcBZCSZKkwlkIJUmSCmchlCRJKpyFUJIkqXAWQkmSpMJZCCVJkgpnIZQkSSqchVCSJKlwFkJJkqTCWQglSZIKZyGUJEkqnIVQkiSpcBZCSZKkwlkIJUmSCmchlCRJKpyFUJIkqXAWQkmSpMJZCCVJkgpnIZQkSSqchVCSJKlwFkJJkqTCWQglSZIKZyGUJEkqnIVQkiSpcBZCSZKkwlkIJUmSCmchlCRJKpyFUJIkqXAWQkmSpMJZCCVJkgpnIZQkSSqchVCSJKlwFkJJkqTCWQglSZIKZyGUJEkqnIVQkiSpcBZCSZKkwlkIJUmSCmchlCRJKpyFUJIkqXAWQkmSpMJZCCVJkgpnIZQkSSqchVCSJKlwFkJJkqTCWQglSZIKZyGUJEkqnIVQkiSpcBZCSZKkwlkIJUmSCmchlCRJKpyFUJIkqXAWQkmSpMJZCCVJkgpnIZQkSSqchVCSJKlwLVUIIyJFxNa5cwyliLgsIg5ZgeeNiog/RsQGgxBLkiQV5CULYUT8JSLmRcTsiHg0Ir4fEWsPRbgVFRE/j4j3L+PxLevyObvP12FDnLML2BG4uv55x4i4KyKejIhPNJ03MiJ+HRHjlxxLKS0ALgQ+PZSZJUnS8LO8I4QHpZTWBnYCXgV8ZtASDa2xKaW1m74u7++kiFi9z88jBvIiyzj/Q8AlKaVU//xV4N+oSuJJEbFxffwTwJSU0ow+z78UeE9EjBpIHkmSpGYDmjJOKT0K3EBVDAGIiN0j4taIeDoi7oyINzY9dlRE3BMRz0bE9Ij4UPP1IuKTEfFIRDwcEUf3eWzdiPjviHgiInoj4rMRsVr92Bcj4uKmc5eM+I2IiFOA1wPfqkf9vjWQ91hf7/sRcW5ETI2IOcBe9Ujpv0dEDzCnfq231CN6T9ejkts3XeNF5/fzUv8IdDf9/HLg5pTSQ8B9wBYR0Qn8C3BG3yenlB4EZgG7D/Q9SpIkLTGgQhgRm1OVmPvrnzcDrge+DIyjGt2a0rSu7XHgn4AxwFHAGRGxc/3cN9fn7wtsA+zT5+XOBtYFJgAN4N31NZYppXQS8EvguHrU77iBvMcmRwCnAOsAt9THDgcOBMbWuS4DPg5sAEwFro2INZqu8bfzU0qLmy8eEaOpCuC9TYf/AOxX/z1vCTwAfBP4ZEpp0VJy3kM1oihJkrRClrcQ/jAingVmUJW8L9TH3wlMTSlNTSk9n1K6EbgDOAAgpXR9SumBVOkGfkI1egdwKPC9lNIfUkpzgC8uebF6ivYdwGdSSs+mlP4CnA68ayXea3+erEf3lnxt3/TY1Sml/63f1/z62FkppRkppXnAYcD1KaUb67J2GtAB7NF0jebz+xpb//ls07F/A44BrgGOB15XP/7niLg6Iroj4u19rvNs07UkSZIGbHnXwh2SUvppRDSo1q2tDzwNdAJvj4iDms4dCfwMICL+kao8bktVPtcCfl+ftykwrel5vU3fr19fp7fP45stZ97ltX7fkbsmfdfr9T22KU35UkrPR8QMXpixv2ss8XT95zrA/PoavdRlOiLWAm4D9qMaLb2cajT2DxFxU0ppZtPzn0aSJGkFDXQNYTfwfarRMKgKz6SU0timr9Eppa/VNzpMqc/dKKU0lmpaNernPgKMb7r8Fk3fPwksoiqczY8/VH8/h6pcLrExL5RYef1do/nYwzTli4igej8PLeX8F16oGhV9gKos9+fzwHkppceAVwJ3pJSeAR4Emrfm2R64c+lvQ5IkadlWZB/CM4F9I2JH4GLgoIjYPyJWj4g1I+KN9Rq4NYBRwBPA4nq0cL+m61wBvDciJtajYUumoUkpPVc/fkpErFPfWPGJ+vUA/g94Q0RsERHr8uK7nh+jWuM3mK4ADoyIvSNiJHACsAC4dQDXmEq1PvIFImIi8Ebg3PrQn4E3RcRGVOst/1993mZUazd/tYLvQZIkaeCFMKX0BPDfwOfrbVAOBk6kKn4zgE8Cq6WUngU+SlWcZlHdpHFN03V+RFUub6a6SeXmPi/1EaqRwOlUN3VcSrXvHvVaxcuBHqpp5+v6PPebwNsiYlZEnLWMt/N0n30IP7GMc/v+PdxLtYbybKoRzYOotudZuLzXAP4LOLIeXWz2beBjdTGGqvB+FLgL+Ep9tzdUf6cX1XsSSpIkrZD4+xZ4yiEiLgWuSCn9cIDPG0U1VfyGlNLjg5FNkiSVwUIoSZJUuJb6LGNJkiQNPQuhJElS4SyEkiRJhVvejalXhosU+zj88MMBuOyyy5oP973TWJIkaUg4QihJklS4objL2BHCPmbOrD51bty4cc2HHSGUJElZWAhbh4VQkiRl4ZRxBpMnT2by5Mm5Y0iSJAEWwiymTJnClClTcseQJEkCLISSJEnFsxBKkiQVzkIoSZJUOAuhJElS4dx2JoN58+YB0NHR0XzYbWckSVIWFsLWYSGUJElZOGWcwaRJk5g0aVLuGJIkSYCFMIupU6cyderU3DEkSZIAC6EkSVLxLISSJEmFGzHYLzD9pzcO9ku0nXmzZtGx3nq5Y0iSJAGOEEqSJBVv0Ledmf7TG912ph8T9tm37yG3nZEkSVk4QihJklQ4C2EGV/zkJ5x33nm5Y0iSJAEWwix+1fN7br755twxJEmSAAuhJElS8SyEkiRJhbMQSpIkFc5CmMGokSNZc801c8eQJEkC3IcwG/chlCRJrcIRQkmSpMJZCDO4+LrrOfvss3PHkCRJAiyEWfz2j3/k1ltvzR1DkiQJsBBKkiQVz0IoSZJUOAuhJElS4UbkDlCiMaNHM3rs2NwxJEmSAPchzMZ9CCVJUqtwyliSJKlwFsIMzr/yKk499dTcMSRJkgDXEGZx9/TpdMyalTuGJEkS4AihJElS8SyEkiRJhbMQSpIkFc41hBlssN5Y1t5449wxJEmSAPchzMZ9CCVJUqtwyliSJKlwFsIMzrn8ck4++eTcMSRJkgDXEGZx/4wH6Zg9J3cMSZIkwBFCSZKk4lkIJUmSCmchlCRJKpxrCDPYfKMNGbPZ5rljSJIkAe5DmI37EEqSpFbhlLEkSVLhLIQZfGPSJE488cTcMSRJkgDXEGbx4GOP07FwUe4YkiRJgCOEkiRJxbMQSpIkFc5CKEmSVDjXEGaw9fjNGTN+i9wxJEmSAPchzMZ9CCVJUqtwyliSJKlwFsIMvnrBBRx//PG5Y0iSJAGuIcziiVlPM9sZYkmS1CIcIZQkSSqchVCSJKlwFkJJkqTCuYYwg4kTJjB2yy1zx5AkSQLchzAb9yGUJEmtwiljSZKkwlkIM/jiud/hmGOOyR1DkiQJcA1hFn+dM4dFTz+dO4YkSRLgCKEkSVLxLISSJEmFsxBKkiQVzjWEGey83Xast9VWuWNIkiQB7kOYjfsQSpKkVuGUsSRJUuEshBl85ptncdRRR+WOIUmSBLiGMIsFixax2vz5uWNIkiQBjhBKkiQVz0IoSZJUOAuhJElS4VxDmMHuXa/kZdtsmzuGJEkS4D6E2bgPoSRJahVOGUuSJBXOQpjBJ047ncMPPzx3DEmSJMBCKEmSVDwLoSRJUuEshJIkSYWzEEqSJBXOfQgzaOy6C+u/YrvcMSRJkgD3IczGfQglSVKrcMo4g/kLFjJv3rzcMSRJkgALYRYnnn02Rx99dO4YkiRJgIVQkiSpeBZCSZKkwlkIJUmSCmchlCRJKpz7EGaw/x6vZYOJO+SOIUmSBLgPYTbuQyhJklqFI4QZPPPsbGbOnMm4ceNyR5HUpKuzMQrYpOlrI2ANqt+VCVgEzAYeqb8eBp7q6e1+PktgSVpFHCHM4BOnnU7Heutx2WWXNR92hFAaQl2djY2AXYHdgAawIzAGmA8spvr/5Ahgdf7+/8/ngeeaHl8DGAn8P+BXwC+BaUBPT2/3/KF6L5K0shwhlFSErs7GasDOwFuBdwCbUZW/0bzwd+HoFbj8y+uvg6nK4hpdnY1bgUuA63t6ux9bieiSNOgshJKGta7OxjbAR4F3Uv3OG0U1qkf9/aq0VtP3bwJeDZzT1dm4DzgD+J+e3u65q/g1JWmlWQglDTtdnY0RwIHAp6hGBVejmt4damvXf/4D8E3grK7OxveBs3p6u/+UIY8k9ctCKGnYqKeFDwO+QTX1u07eRC+wpBx+EDi6q7PxM+B4i6GkVmAhzOCgxhvY6JVduWNIw0ZXZyOA/YGzgY35e/lqRSPrr/2B/+vqbPwAOLGnt/uhvLEklcy7jDNxH0Jp1ejqbHRS3byxEyt2Q0huC6nuXD4F+HpPb/fizHkkFciPrsvg8Zkzefjhh3PHkNpaV2cjujob/wrcBbyG9iyDUK1t7AA+A9zZ1dmYmDmPpAJZCDP42oXf44QTTsgdQ2pbXZ2NLYBbgdN48bYx7Wo0sB1wR1dn46SuzsbquQNJKoeFUFJb6epsvAHoodpUul1HBZdmNf4+WnhjV2djTOY8kgphIZTUNuop4h8D6zI8RgWXZjSwB9DT1dnYOncYScOfhVBSy+vqbIzo6mycB5xONYJWglHAeOC3XZ2NvXOHkTS8WQgltbSuzsZI4ErgCF74SSAlWI1qL8Vruzobb8kdRtLwZSHM4O377sP73//+3DGklleXwWuAvSmvDDbrAC7r6my8NXcQScOT+xBm4j6E0rLVHz93JZbBZvOAt/f0dl+fO4ik4cURwgxmPPoo06dPzx1DanXfxjLYVwdwRVdnY7fcQSQNLxbCDM64+BJOOumk3DGkltXV2fgA8E4sg/1ZC/hRV2djk9xBJA0fFkJJLaWrs7En8E0sg8syBrihq7OxZu4gkoYHC6GkltHV2dgcuJZytpZZUSOBrYELcweRNDxYCCW1hK7ORgCXMvw+fWSwdAAHe+expFXBQiipVbwP2Jlq9EvLZy3gwq7OxstyB5HU3obzRz+1rCMPOIBNdt45dwypZXR1NsYDZ+Lo4IroAM4HHCmUtMIcIcxgl4nbs+eee+aOIbWSi4A1codoU6OA/bo6GwflDiKpfVkIM7h/xgzuvvvu3DGkltDV2dgLeDVOFa+MtYBv15t5S9KAWQgzOOfyK/jSl76UO4aUXX0jybdwqnhVWA94T+4QktqThVBSTm8FtsgdYphYGzi1q7Phlj2SBsxCKCmLrs7GasAZVEVGq8Yo4NjcISS1HwuhpFz2pZrm1KozGvhUXbYlabn5S0NSLp/C0cHB0AHsnzuEpPbiHWkZvO+th7DprrvljiFl09XZ6AT2ACJ3lmFoHaqy/aPcQSS1D0cIM9hhq63YZZddcseQcjoWf/8Mpt27Ohtb5g4hqX34CzmDux54gGnTpuWOIWVRbzXzHtyIerC9PXcASe3DQpjBBVf9kNNOOy13DCmX7ammNTV41gSOzB1CUvuwEEoaaocAq+cOUYDtuzob6+cOIak9WAglDbUjqPbL0+BaCByQO4Sk9mAhlDRkujob6wLb5s5RiLWBf84dQlJ7sBBKGkqvAubmDlEQ97eStFzchzCDYw87lM1fs3vuGFIOu1Dd8KChsUFXZ2NMT2/3X3MHkdTaHCHMYOvx45k4cWLuGFIODVw/OJTmUo3KStIyWQgzmHb3Pdxyyy25Y0g5uCP70FoT/84lLQenjDO4ZOpUOm67jT333DN3FGnI1BtSb5Q7R2FGAdvlDiGp9TlCKGmojAMW5w5RoM7cASS1PguhpKGyKbAgd4iBWGPUGnz6Pz7Gz6f9kN/c+xMumvItXrnT9rljDdRmuQNIan0WQklDZRMg5Q4xEJ/6/HEc8d5/5qknZ/GzG25hx5134LsXn87Y9dbNHW0gnKaX9JJcQyhpqGxIG/0jdNzLxvLWQw/gueee4wNHHM/Mp55m8XPPcdA/78fh73kr5575/dwRl9eY3AEktb62+eU8nBz/ziM55ZRTcseQhtpI2uh3zlbbvpyRa4zk0YcfZ+ZTTwNwd88fAXjFxK0zJhswPzda0ktqm1/Ow8n4jTdmwoQJuWNIQ20EELlDLK+Xrb8eAHPnzPvbsXnz5gOw/gbjsmRaQRZCSS/JQpjBbXfeyU033ZQ7hjTUnqeN1hA+9eQsANYa3fG3Y2utVX3/5BMzs2RaQc/nDiCp9VkIM/jBjT/l/PPPzx1DGmqLaaNC+MB9f2HRwkVsvOmGjKtHC3fYsdrS70/3PJAz2kBZCCW9JG8qkTRUZtNG5WTmk7O4evKPedsRB3H+pd/gvnv/zP7/tBdzZs/lsouuzB1vIObnDiCp9VkIJQ2Vh2mjEUKAr3/xLBYvXsx+B+7Fmzo3o+d3d3Pal89h1sxnckcbiKdyB5DU+iyEkobKI7TZ75wFCxbylc+dyVc+d2buKCvjkdwBJLU+1xBKGiqPAB0veZZWtRm5A0hqfW31r/Xh4tNHH8UWe74+dwxpSPX0di/o6mzMA0bnzlKQ54G2ugNGUh6OEGaw4bhxbLrpprljSDnclztAYWYDd+YOIan1WQgz+Nntt3PdddfljiHl8Ava7MaSNrc6MC13CEmtz0KYwbXdv+CSSy7JHUPK4VdUo1YaGqvhlLGk5WAhlDSUpuHvnaF0T09vd9vs/SgpH38xSxpK99NGm1O3uUXAjblDSGoPFkJJQ6YerZqK6wiHwnzgqtwhJLUHC6GkoXY58GzuEAVIwO25Q0hqD+5DmMEXPvQhOhuN3DGkXG4ERuUOMcwl4BrXD0paXo4QZrDuOmszbty43DGkLHp6u2dT3W2swTObaiRWkpaLhTCDG269lcmTJ+eOIeV0Jk4bD6bFwI9zh5DUPiyEGdxw621MmTIldwwpp+uAhblDDFPzgbN7ersX5w4iqX0MqBBGxLiIuCoi5kREb0QcMVjBJA1fdVk5i6q8aNUK4Lu5Q0hqLwMdIfw21b/qNwKOBM6NiB1WeSpJJbC0rHrPAzf19HY/nDuIpPay3IUwIkYD/wJ8LqU0O6V0C3AN8K7BCidp+Orp7X4MuBRYkDvLMLIA+GzuEJLaz0BGCLcFFqeU/tR07E7gRSOEEfHBiLgjIu647PrrVzajpOHrs/jJJavKYuCGnt7u3+UOIqn9RErL94EBEfF64AcppY2bjn0AODKl9MalPW/6T2/0Ewn6mL9gIS9/05vo6OhoPhy58kg5dXU2vg58BOh4qXO1TPOArp7e7vtzB5HUfgYyQjgbGNPn2BjcOmLA1hy1Rt8yKJXsK1SjW1pxC4BLLYOSVtRACuGfgBERsU3TsR2Bu1ZtpOHv6p//nEmTJuWOIbWEnt7uZ4DjgTm5s7SxecC/5w4hqX0tdyFMKc0BrgROjojREfE64GDAZjNA3XdMY+rUqbljSK3kQuAOYFHuIG1oLvDent7up3IHkdS+BrrtzLFU63weBy4DjkkpOUIoaaX09HYn4J24WfVALaC6keTq3EEktbcBFcKU0syU0iEppdEppS1SSpcOVjBJZenp7X4Q+ChOHQ/EXOADuUNIan9+dJ2kVvI94GqqNXFatrnAW5wqlrQqWAgltYx66vho4F5cT7gsc4GP9/R235I7iKThYbn3IVxR7kPYvwn77Nv3kPsQSrWuzsZGwB+Al+H/N/qaC1zc09v9odxBJA0fjhBKajn1x9rth+sJ+5pHdTf2cbmDSBpeLIQZXPGTn3DeeefljiG1tPoj2PanGhETzAd6gDf39HY7nS5plbIQZvCrnt9z8803544htbye3u5bgTfjSOE8qs+O36ent9sbbiStchZCSS2tp7f7l8DeVB+T+XzmODnMBX4D7NXT2z07dxhJw5OFUFLL6+nt/jWwCzCDajPmUswFLsKRQUmDzEIoqS309HbfB3QBt1LGFPI84KM9vd3H9vR2L84dRtLwZiHMYNTIkay55pq5Y0htp6e3+6/AvsB3GL6bV88HZlKNCl6QO4ykMrgPYSbuQyitnK7OxuuBy4GxVJ+xPhzMBa4D/rWnt3tW7jCSyuEIoaS2VN9ssg3VGrt2Hy1cMip4WE9v92GWQUlDzUKYwcXXXc/ZZ5+dO4bU9np6u+f09HYfA+xDtS1Lu60tXERVZi8Atu7p7b4ucx5JhbIQZvDbP/6RW2+9NXcMadio9yt8FXAE8Beg1bdneZ6qCF4JbNfT232co4KSchqRO4AkrQo9vd0JuKars3E9VTH8HLAp1frCVvnH7zyqLNcBX+jp7b4rcx5JAiyEkoaZnt7u54BJXZ2Ni4FXAycABwHPAaMzRHqeaip7HnAGcH5Pb/eTGXJI0lJZCCUNS/WI4a+BQ7s6G+sDBwNHAntQbW69DoN3d/9C/r4+cAowGfhZXVYlqeVYCDMYM3o0o8eOzR1DKkY9IncBcEFXZ2Mtqo/COxh4HbAV1V2+QTWCONCSuJhqu5g1qIpmD3AjcDXw+7qYSlJLcx/CTNyHUGoNXZ2NkcBEqo/Gm0BVELcANgHGUf3DeXUgUU07zwOeAB6iuoHlz8AfgGk9vd0PD3F8SVolHCGUVLSe3u5FVFvW3Jk7iyTl0ip33hXl/Cuv4tRTT80dQ5IkCXCEMIu7p0+nY5ZbjkmSpNbgCKEkSVLhLISSJEmFsxBKkiQVzjWEGWyw3ljW3njj3DEkSZIA9yHMxn0IJUlSq3DKWJIkqXAWwgzOufxyTj755NwxJEmSANcQZnH/jAfpmD0ndwxJkiTAEUJJkqTiWQglSZIKZyGUJEkqnGsIM9h8ow0Zs9nmuWNIkiQB7kOYjfsQSpKkVuGUsSRJUuEshBl8Y9IkTjzxxNwxJEmSANcQZvHgY4/TsXBR7hiSJEmAI4SSJEnFsxBKkiQVzkIoSZJUONcQZrD1+M0ZM36L3DEkSZIA9yHMxn0IJUlSq3DKWJIkqXAWwgy+esEFHH/88bljSJIkAa4hzOKJWU8z2xliSZLUIhwhlCRJKpyFUJIkqXAWQkmSpMK5hjCDiRMmMHbLLXPHkCRJAtyHMBv3IZQkSa3CKWNJkqTCWQgz+OK53+GYY47JHUOSJAlwDWEWf50zh0VPP507hiRJEuAIoSRJUvEshJIkSYWzEEqSJBXONYQZ7Lzddqy31Va5Y0iSJAHuQ5iN+xBKkqRW4ZSxJElS4SyEGXzmm2dx1FFH5Y4hSZIEuIYwiwWLFrHa/Pm5Y0iSJAGOEEqSJBXPQihJklQ4C6EkSVLhXEOYwe5dr+Rl22ybO4YkSRLgPoTZuA+hJElqFU4ZS5IkFc5CmMEnTjudww8/PHcMSZIkwEIoSZJUPAuhJElS4SyEkiRJhbMQSpIkFc59CDNo7LoL679iu9wxJEmSAPchzMZ9CCVJUqtwyjiD+QsWMm/evNwxJEmSAAthFieefTZHH3107hiSJEmAhVCSJKl4FkJJkqTCWQglSZIKZyGUJEkqnPsQZrD/Hq9lg4k75I4hSZIEuA9hNu5DKEmSWoVTxhk88+xsZs6cmTuGJEkSYCHM4j+++10+/OEP544hSZIEWAglSZKKZyGUJEkqnIVQkiSpcBZCSZKkwrkPYQYHNd7ARq/syh1DkiQJsBBmsdduu/W3D6EkSVIWThln8PjMmTz88MO5Y0iSJAEWwiy+duH3OOGEE3LHkCRJAiyEkiRJxbMQSpIkFc5CKEmSVDgLoSRJUuHcdiaDt++7Dxvv9KrcMSRJkgALYRav3XFHJuy9d+4YkiRJgFPGWcx49FGmT5+eO4YkSRJgIczijIsv4aSTTsodQ5IkCbAQSpIkFc9CKEmSVDgLoSRJUuEshJIkSYVz25kMjjzgADbZeefcMSRJkgALYRa7TNyeCXvumTuGJEkS4JRxFvfPmMHdd9+dO4YkSRJgIczinMuv4Etf+lLuGJIkSYCFUJIkqXgWQkmSpMJZCCVJkgpnIZQkSSqc285k8L63HsKmu+6WO4YkSRJgIcxih622YsIuu+SOIUmSBDhlnMVdDzzAtGnTcseQJEkCLIRZXHDVDznttNNyx5AkSQIshJIkScWzEEqSJBXOQihJklQ4C6EkSVLh3HYmg2MPO5TNX7N77hiSJEmAhTCLrcePZ8LEibljSJIkAU4ZZzHt7nu45ZZbcseQJEkCHCHM4pKpU+m47Tb23HPP3FEkSZIcIZQkSSqdhVCSJKlwFkJJkqTCWQglSZIK500lGRz/ziMZv8frcseQJEkCHCHMYvzGGzNhwoTcMSRJkgALYRa33XknN910U+4YkiRJgIUwix/c+FPOP//83DEkSZIAC6EkSVLxLISSJEmFsxBKkiQVzkIoSZJUuEgpDeoLTP/pjYP7Am3o8Zkz2WLP17Pppps2H45ceSRJUtkcIcxgw3Hj+pZBSZKkbCyEGfzs9tu57rrrcseQJEkCLIRZXNv9Cy655JLcMSRJkgALoSRJUvEshJIkSYWzEEqSJBXOQihJklQ49yHM4JlnZ9PZaDBu3Ljmw+5DKEmSshj0QghYCJePhVCSJGXhlHEGkydPZvLkybljSJIkARbCLKZMmcKUKVNyx5AkSQIshJIkScWzEEqSJBXOQihJklQ4C6EkSVLh3HYmg3nz5gHQ0dHRfNhtZyRJUhYWwtZhIZQkSVk4ZZzBpEmTmDRpUu4YkiRJgIUwi6lTpzJ16tTcMSRJkgALoSRJUvEshJIkSYWzEEqSJBXOQihJklS4Qd92JiI+mFL6r0F9kTYUEZNSSu/KnUOSJGkoCuEdKaVdB/VF2lBEzEkpjc6dQ5IkySljSZKkwlkIJUmSCjcUhdD1g/27MncASZIkGJrPMpYkSVILc8pYkiSpcBZCSZKkwq1UIYyIN0fEvRFxf0R8up/HR0XE5fXjv46ILZse+0x9/N6I2H9lcrSSiFg3ImZHxLyImB8RP+/nnEvqx+ZFxDMRcVCfx3ePiBQR1w5ZcEmSVKwVLoQRsTrwbeAfgYnA4RExsc9p7wNmpZS2Bs4Avl4/dyLwDmAH4M3AOfX1hoO/AlullDqA9YBdI+J9fc75VEppzfqcs4EL+zw+GXhw8KNKkiSt3Ajhq4H7U0rTU0oLgf8BDu5zzsHARfX3k4G9IyLq4/+TUlqQUvozcH99vbaXKo/VP65F9Xec+pzzUNOP6zY/FhFfBR4GHhjMnJIkSUusTCHcDJjR9POD9bF+z0kpLQaeAV62nM9tWxExMiLmAU8CPSmlviOA1FPpi4BjgMPrYxsBxwEH9T1fkiRpsHhTySBIKS2qp4O3BF4REYf0c85hKaWRwHfqL4DrgPObRhglSZIG3coUwoeA8U0/b14f6/eciBhBNT361HI+t+2llHqB31KtpVyajwFb1d9vC3wkIhYDDeDAiLhicFNKkqTSrUwhvB3YJiJeHhFrUN0kck2fc64B3lN//zbg5lTthH0N8I76LuSXA9sAv1mJLC0jIraLiM76+/WAXalKYfM5+zT9+AVgLkBKad2U0oiU0gigG7g+pXTo0CSXJEmlGrGiT0wpLY6I44AbgNWBC1NKd0XEycAdKaVrgAuASRFxPzCTqjRSn3cFcDewGPhwSum5lXwvrWIHqvccQAD/m1L6QkR0A79MKX0W+M+I2J7qZpP51GsIJUmScvCj6yRJkgrnTSWSJEmFsxBKkiQVzkIoSZJUOAuhJElS4SyEkiRJhbMQSpIkFc5CKEmSVDgLoSRJUuEshJIkSYWzEEqSJBXOQihJklQ4C6EkSVLhLISSJEmFsxBKkiQVzkIoSZJUOAuhJElS4SyEkiRJhbMQashExMSIuCMiYgWe+5GI+Ppg5JIkqXQWwpUUEX+JiH36HHtvRNySK9NgiIgvRsTFK3mZLwGnpZRSfc0zI2JWRNwWEZs3vdYREXFWn+eeBxwZERuuZIYXiYidImJaRMyt/9xpGeeOi4irImJORPRGxBFNjx0YEbdExNMR8WhEnB8R6yzlGk8Mt/9GJEnty0LY4iJi9T4/jxjg81/y/IFec0VExCbAXsAP659fDewCbAzcAny6Pr4u8Engs83PTynNB34EvHsV51oDuBq4GFgPuAi4uj7en28DC4GNgCOBcyNih/qxdYEvA5sC2wObAf/ZzzW+Dtyzqt6DJEkry0KYQURsFxE3RsTMiLg3Ig5teuz7EXFuREyNiDnAXvUo5L9HRA8wJyJGRMRbIuKuejTq5xGxfdM1XnR+PxlSRHw4Iu4D7quPfTMiZkTEX+uRstfXx98MnAgcFhGzI+LO+vi6EXFBRDwSEQ9FxJf7Ftgm+wK/rYsdwMuBW1JKC4CbgAn18VOA/0wp/bWfa/wcOHC5/pKX3xuBEcCZKaUFKaWzgADe1PfEiBgN/AvwuZTS7JTSLcA1wLsAUkqXppR+nFKam1KaRTWq+bo+19gD+Afge6v4fUiStMIshEOsLhU3ApcCGwLvAM6JiIlNpx1BVYzWoRo9AzicqgyNpSpPlwEfBzYApgLX9hnV+tv5KaXFS4lzCPAaYMlr3w7sBIyr8/0gItZMKf0Y+ApweUpp7ZTSjvX53wcWA1sDrwL2A96/lNd6JXBv0893Aa+PiA5gb+CuiNgVeEVK6dKlXOMeYMelPEZE9NQFub+vc5bytB2AniXT2LWe+nhf2wKLU0p/ajp251LOBXgD1ftckm914FvAcUBaynMkSRpyFsJV44fN5QNYWvkA+CfgLyml76WUFqeUfgdMAd7edM7VKaX/TSk93zSidlZKaUZKaR5wGHB9SunGlNIi4DSgA9ij6RrN5y/NV1NKM5eck1K6OKX0VJ3rdGAU8Ir+nhgRGwEHAB9PKc1JKT0OnEFVcPszFnh2yQ8ppT/U7/tXwBbAqcBZwEcj4qMR8YuIuCQixjZd41mqadl+pZS6Ukpjl/J17FKetjbwTJ9jz1CV8f7O7Tty2e+5EbEv8B7g802HPwr8OqU0bWnvQZKkHCyEq8YhzeUDWFr5AOgEXtOnQB5JtZZuiRn9PK/52KZA75IfUkrP149v9hLXWNY1iYh/i4h7IuKZOte6wPrLeB8jgUea3sd3qUY9+zOLPsUppXRGSmnHlNJhwKHAL6j+m/wg1ajhPdRrC2vr8OLytrJmA2P6HBtDU3kd6LkRsTvVCOvblowmRsSmVIXwpFWQWZKkVWrQbybQi8wAulNK+y7jnP6mE5uPPUw1BQtAvY3LeOChl7jGUq9Zrxf8FPX0bUrp+YiYRbWerr/rzQAWAOsvY0q6WQ/ViNmL1KONHwReCxxENYW7KCJuBz7WdOr2VFO0/YqIu6iKan8uTin9az/H7wJOiIhomjbuorp5pK8/ASMiYpuU0n31sR154bTwq6jWFR6dUrqp6bmvBjYB7q7+56ID6IiIR4HNUkrPLe19SZI02BwhHHrXAdtGxLsiYmT9tVvzTSHL4QrgwIjYOyJGAidQlbNbVyLXOlTrAZ+gKj2f54WjYY8BW0bEagAppUeAnwCnR8SYiFgtIraKiMZSrn8jsHNErNnPY98AvphSmgv8GdgtItamuuFjetN5Dao7jfuVUtqhXuPY31d/ZRCqG1Weo5qqHhURx9XHb+7n+nOAK4GTI2J0RLwOOBiYBBAR/wD8GPhISunaPk//EbAl1RrNnaimkn8H7GQZlCTlZiEcYimlZ6luvngH1Ujfo1TbkIwawDXuBd4JnA08STWqdlBKaeFKRLuBqsz8iWo6ej4vnFL+Qf3nUxHx2/r7dwNrAHdTTQlPphoF6y/zY1Ql6+Dm4xHxJqobX66qz/sNcH392nsBX6vPW5NqzeJFK/Ee+8u1kOrmmncDTwNHUy0BWFi/7okR0VxCj6Ua3Xuc6saeY1JKS0YIT6C6yeeC+m7s2fWoJfUdzI8u+aKa+l5Ufy9JUlbxwpsrpcFT30l9EfDqNMD/8CLiI8D4lNKnBiWcJEkFsxBKkiQVziljSZKkwlkIJUmSCmchlCRJKpyFUJIkqXAWQkmSpMJZCCVJkgpnIZQkSSqchVCSJKlwFkJJkqTCWQglSZIKZyGUJEkqnIVQkiSpcBZCSZKkwlkIJUmSCmchlCRJKpyFUJIkqXAWQkmSpMJZCCVJkgpnIZQkSSqchVCSJKlwFkJJkqTCWQglSZIKZyGUJEkqnIVQkiSpcBZCSZKkwlkIJUmSCmchlCRJKpyFUJIkqXAWQkmSpML9f0HHNltlkLH5AAAAAElFTkSuQmCC\n",
          "text/plain": "<Figure size 792x648 with 4 Axes>"
         },
         "metadata": {},
         "output_type": "display_data"
        }
       ]
      }
     },
     "834d24e1808e49489e7020cf28d8b0d6": {
      "model_module": "@jupyter-widgets/controls",
      "model_module_version": "1.5.0",
      "model_name": "HTMLMathModel",
      "state": {
       "layout": "IPY_MODEL_d5052e758a804e63a47837770ae6e164",
       "style": "IPY_MODEL_a9231254a73e47bba66750b759b04b6d",
       "value": "<table><style>\ntable {\n    border-collapse: collapse;\n    width: auto;\n}\n\nth, td {\n    text-align: left;\n    padding: 8px;\n}\n\ntr:nth-child(even) {background-color: #f6f6f6;}\n</style><tr><th>Property</th><th>Value</th></tr><tr><td><font style='font-weight:bold'>n_qubits</font></td><td>1</td></tr><tr><td><font style='font-weight:bold'>quantum_volume</font></td><td>1</td></tr><tr><td><font style='font-weight:bold'>operational</font></td><td>True</td></tr><tr><td><font style='font-weight:bold'>status_msg</font></td><td>active</td></tr><tr><td><font style='font-weight:bold'>pending_jobs</font></td><td>0</td></tr><tr><td><font style='font-weight:bold'>backend_version</font></td><td>2.4.26</td></tr><tr><td><font style='font-weight:bold'>basis_gates</font></td><td>['id', 'rz', 'sx', 'x']</td></tr><tr><td><font style='font-weight:bold'>max_shots</font></td><td>20000</td></tr><tr><td><font style='font-weight:bold'>max_experiments</font></td><td>100</td></tr></table>"
      }
     },
     "86f50f1a59a0433ea25d678549cf2d05": {
      "model_module": "@jupyter-widgets/controls",
      "model_module_version": "1.5.0",
      "model_name": "HTMLModel",
      "state": {
       "layout": "IPY_MODEL_2f9ba7d3383249ce93769cacc68fb3ab",
       "style": "IPY_MODEL_09ac137228d0421fa03bed7a6792a568",
       "value": "<p style='font-family: IBM Plex Sans, Arial, Helvetica, sans-serif; font-size: 20px; font-weight: medium;'>Circuit Properties</p>"
      }
     },
     "89812740bc9a43faa8d65d63d1fa9bdf": {
      "model_module": "@jupyter-widgets/base",
      "model_module_version": "1.2.0",
      "model_name": "LayoutModel",
      "state": {}
     },
     "8aee322debce4f4693f789fbc1eb250f": {
      "model_module": "@jupyter-widgets/controls",
      "model_module_version": "1.5.0",
      "model_name": "HTMLModel",
      "state": {
       "layout": "IPY_MODEL_9268e5964dc0431592b71edf2748e588",
       "style": "IPY_MODEL_5242ce9ca8744d59941fab20365c9e9b",
       "value": "<table><style>\ntable {\n    border-collapse: collapse;\n    width: auto;\n}\n\nth, td {\n    text-align: left;\n    padding: 8px;\n}\n\ntr:nth-child(even) {background-color: #f6f6f6;}\n</style><tr><th></th><th>Frequency</th><th>T1</th><th>T2</th><th>RZ</th><th>SX</th><th>X</th><th>Readout error</th></tr><tr><td><font style='font-weight:bold'>Q0</font></td><td>4.97161 GHz</td><td>211.00886 us</td><td>265.62361 us</td><td>0</td><td>0.00024</td><td>0.00024</td><td>0.0334 </td></table>"
      }
     },
     "8beb09dfc07e4436a4f8d44ae7f41432": {
      "model_module": "@jupyter-widgets/controls",
      "model_module_version": "1.5.0",
      "model_name": "DescriptionStyleModel",
      "state": {
       "description_width": ""
      }
     },
     "8c9097a1bdea43b3be3bebf06e470079": {
      "model_module": "@jupyter-widgets/base",
      "model_module_version": "1.2.0",
      "model_name": "LayoutModel",
      "state": {
       "grid_template_areas": "\n                                       \". . . . right \"\n                                        ",
       "grid_template_columns": "20% 20% 20% 20% 20%",
       "width": "100%"
      }
     },
     "8cf58f185b524f4091bdd3f288462ded": {
      "model_module": "@jupyter-widgets/controls",
      "model_module_version": "1.5.0",
      "model_name": "DescriptionStyleModel",
      "state": {
       "description_width": ""
      }
     },
     "905ab771a5494dfb9bf1f3d537b0f7bf": {
      "model_module": "@jupyter-widgets/base",
      "model_module_version": "1.2.0",
      "model_name": "LayoutModel",
      "state": {
       "border": "4px solid #000000",
       "max_height": "650px",
       "min_height": "650px",
       "overflow_y": "hidden"
      }
     },
     "91c423c9a91c462ca755b4d5feed4b3f": {
      "model_module": "@jupyter-widgets/controls",
      "model_module_version": "1.5.0",
      "model_name": "HTMLModel",
      "state": {
       "layout": "IPY_MODEL_f5510e305ac24df2b22ec4be73e56389",
       "style": "IPY_MODEL_3f7a86afb31243408ebfa6db98a38d14",
       "value": "<div><font style='font-weight:bold'>last_update_date</font>: 2022-01-26 05:08:03+00:00</div>"
      }
     },
     "9268e5964dc0431592b71edf2748e588": {
      "model_module": "@jupyter-widgets/base",
      "model_module_version": "1.2.0",
      "model_name": "LayoutModel",
      "state": {}
     },
     "94b3bc27efb04c86b98bf7cc5c37454e": {
      "model_module": "@jupyter-widgets/controls",
      "model_module_version": "1.5.0",
      "model_name": "DescriptionStyleModel",
      "state": {
       "description_width": ""
      }
     },
     "9af58c42741246fd956e93db322610f3": {
      "model_module": "@jupyter-widgets/base",
      "model_module_version": "1.2.0",
      "model_name": "LayoutModel",
      "state": {
       "margin": "0px 0px 0px 0px"
      }
     },
     "9b1978ba679147c2ada27706f7fd7d5e": {
      "model_module": "@jupyter-widgets/controls",
      "model_module_version": "1.5.0",
      "model_name": "GridBoxModel",
      "state": {
       "children": [
        "IPY_MODEL_91c423c9a91c462ca755b4d5feed4b3f",
        "IPY_MODEL_357f8a6e886a4e62899192630cb649a5",
        "IPY_MODEL_f891a501a839429d94df4e12cace7a0d",
        "IPY_MODEL_cf14ca27c7ba4befa76c5ed2adee4d72"
       ],
       "layout": "IPY_MODEL_bbab462c3dda4fa98b3a993ea75fbe53"
      }
     },
     "9ee1d3fc3a3f492aa51af780ea05f5d5": {
      "model_module": "@jupyter-widgets/base",
      "model_module_version": "1.2.0",
      "model_name": "LayoutModel",
      "state": {
       "grid_area": "bottom",
       "width": "auto"
      }
     },
     "9eeaa010bda249699431bff47f595384": {
      "model_module": "@jupyter-widgets/controls",
      "model_module_version": "1.5.0",
      "model_name": "GridBoxModel",
      "state": {
       "children": [
        "IPY_MODEL_7967d68bc3af4ae8accf62754c3b4a49",
        "IPY_MODEL_ca6340d5261c4cdd9c0bf607ea40bf18",
        "IPY_MODEL_bb2f358770884896ac810e1dd1ef4502",
        "IPY_MODEL_5e89bce7764b40d9a51301d05e955a62"
       ],
       "layout": "IPY_MODEL_c80bffdf2cbe43ecb236761e4e0acf1c"
      }
     },
     "a91df6ce3f4443d1a4cfbf924c37adc0": {
      "model_module": "@jupyter-widgets/base",
      "model_module_version": "1.2.0",
      "model_name": "LayoutModel",
      "state": {
       "align_items": "center",
       "display": "flex-inline",
       "grid_area": "right",
       "max_height": "325px",
       "padding": "10px 10px 10px 10px",
       "width": "auto"
      }
     },
     "a9231254a73e47bba66750b759b04b6d": {
      "model_module": "@jupyter-widgets/controls",
      "model_module_version": "1.5.0",
      "model_name": "DescriptionStyleModel",
      "state": {
       "description_width": ""
      }
     },
     "b43bdb8c366246f3bcc9408507ed802c": {
      "model_module": "@jupyter-widgets/base",
      "model_module_version": "1.2.0",
      "model_name": "LayoutModel",
      "state": {
       "max_height": "620px"
      }
     },
     "b4d96640ff864e57857fc7371896e75d": {
      "model_module": "@jupyter-widgets/controls",
      "model_module_version": "1.5.0",
      "model_name": "DescriptionStyleModel",
      "state": {
       "description_width": ""
      }
     },
     "b6a825277ed043a8ba088b14cda31b17": {
      "model_module": "@jupyter-widgets/controls",
      "model_module_version": "1.5.0",
      "model_name": "TabModel",
      "state": {
       "_titles": {
        "0": "Year",
        "1": "Month",
        "2": "Week"
       },
       "children": [
        "IPY_MODEL_bd8d1a8797ef4d6da53ed2b0e60356c6",
        "IPY_MODEL_6772defe30f54a5ab9eca717890aedc5",
        "IPY_MODEL_fe169f8956254a21bbfa759218c630e0"
       ],
       "layout": "IPY_MODEL_b43bdb8c366246f3bcc9408507ed802c",
       "selected_index": 1
      }
     },
     "b7226074efe54dd9a8c2c54c7c7e03f8": {
      "model_module": "@jupyter-widgets/base",
      "model_module_version": "1.2.0",
      "model_name": "LayoutModel",
      "state": {
       "grid_area": "middle"
      }
     },
     "bb2f358770884896ac810e1dd1ef4502": {
      "model_module": "@jupyter-widgets/controls",
      "model_module_version": "1.5.0",
      "model_name": "HTMLModel",
      "state": {
       "layout": "IPY_MODEL_7653d78efe004a72a2e5cdde1202aedf",
       "style": "IPY_MODEL_de028b18b36942ddb511c731195e20dd",
       "value": "<table><style>\ntable {\n    border-collapse: collapse;\n    width: auto;\n}\n\nth, td {\n    text-align: left;\n    padding: 8px;\n}\n\ntr:nth-child(even) {background-color: #f6f6f6;};\n</style><tr><th></th><th>Type</th><th>Gate error</th></tr></table>"
      }
     },
     "bbab462c3dda4fa98b3a993ea75fbe53": {
      "model_module": "@jupyter-widgets/base",
      "model_module_version": "1.2.0",
      "model_name": "LayoutModel",
      "state": {
       "grid_gap": "0px 0px",
       "grid_template_areas": "\n                                                   \"top top top\"\n                                                   \"left middle right\"\n                                                   ",
       "grid_template_columns": "33% 33% 33%",
       "grid_template_rows": "auto auto"
      }
     },
     "bd8d1a8797ef4d6da53ed2b0e60356c6": {
      "model_module": "@jupyter-widgets/output",
      "model_module_version": "1.0.0",
      "model_name": "OutputModel",
      "state": {
       "layout": "IPY_MODEL_d672011a68ef45b6b66281f41a203cbb",
       "outputs": [
        {
         "data": {
          "image/png": "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\n",
          "text/plain": "<Figure size 396x396 with 1 Axes>"
         },
         "metadata": {},
         "output_type": "display_data"
        }
       ]
      }
     },
     "bf3345420fb447b498d75d96f6561715": {
      "model_module": "@jupyter-widgets/base",
      "model_module_version": "1.2.0",
      "model_name": "LayoutModel",
      "state": {
       "grid_gap": "0px 0px",
       "grid_template_areas": "\n                               \"left right right right\"\n                               \"bottom bottom bottom bottom\"\n                               ",
       "grid_template_columns": "31% 23% 23% 23%",
       "grid_template_rows": "auto auto"
      }
     },
     "c3f4b69416e64d87becdd52290f512dd": {
      "model_module": "@jupyter-widgets/controls",
      "model_module_version": "1.5.0",
      "model_name": "DescriptionStyleModel",
      "state": {
       "description_width": ""
      }
     },
     "c5b343a48e614e89a942ff09064d8e48": {
      "model_module": "@jupyter-widgets/controls",
      "model_module_version": "1.5.0",
      "model_name": "DescriptionStyleModel",
      "state": {
       "description_width": ""
      }
     },
     "c80bffdf2cbe43ecb236761e4e0acf1c": {
      "model_module": "@jupyter-widgets/base",
      "model_module_version": "1.2.0",
      "model_name": "LayoutModel",
      "state": {
       "grid_gap": "0px 0px",
       "grid_template_areas": "\n                                                   \"top top top\"\n                                                   \"left middle right\"\n                                                   ",
       "grid_template_columns": "33% 33% 33%",
       "grid_template_rows": "auto auto"
      }
     },
     "c89b34ed0b764667ad2eb94eb05c2251": {
      "model_module": "@jupyter-widgets/base",
      "model_module_version": "1.2.0",
      "model_name": "LayoutModel",
      "state": {
       "grid_area": "left"
      }
     },
     "ca6340d5261c4cdd9c0bf607ea40bf18": {
      "model_module": "@jupyter-widgets/controls",
      "model_module_version": "1.5.0",
      "model_name": "HTMLModel",
      "state": {
       "layout": "IPY_MODEL_d289c6c818b549b9ba0b5c1c4b649992",
       "style": "IPY_MODEL_3f24bf8093dd4ed1970d087b8a1c5624",
       "value": "<table><style>\ntable {\n    border-collapse: collapse;\n    width: auto;\n}\n\nth, td {\n    text-align: left;\n    padding: 8px;\n}\n\ntr:nth-child(even) {background-color: #f6f6f6;};\n</style><tr><th></th><th>Type</th><th>Gate error</th></tr></table>"
      }
     },
     "cb88434136cb471793a261e3f5eae7b6": {
      "model_module": "@jupyter-widgets/base",
      "model_module_version": "1.2.0",
      "model_name": "LayoutModel",
      "state": {
       "width": "70px"
      }
     },
     "cd1e806f01084147955be6a8601e748b": {
      "model_module": "@jupyter-widgets/base",
      "model_module_version": "1.2.0",
      "model_name": "LayoutModel",
      "state": {
       "grid_area": "top"
      }
     },
     "cea83030b03a41c9a526f3a1b44a7fe1": {
      "model_module": "@jupyter-widgets/base",
      "model_module_version": "1.2.0",
      "model_name": "LayoutModel",
      "state": {
       "grid_area": "bottom",
       "width": "auto"
      }
     },
     "cf14ca27c7ba4befa76c5ed2adee4d72": {
      "model_module": "@jupyter-widgets/controls",
      "model_module_version": "1.5.0",
      "model_name": "HTMLModel",
      "state": {
       "layout": "IPY_MODEL_2570ec52e94c40cfa9bf09bac5dc10a9",
       "style": "IPY_MODEL_b4d96640ff864e57857fc7371896e75d",
       "value": "<table><style>\ntable {\n    border-collapse: collapse;\n    width: auto;\n}\n\nth, td {\n    text-align: left;\n    padding: 8px;\n}\n\ntr:nth-child(even) {background-color: #f6f6f6;};\n</style><tr><th></th><th>Type</th><th>Gate error</th></tr></table>"
      }
     },
     "d0fa0b3e9e954323899f0c4599c30779": {
      "model_module": "@jupyter-widgets/base",
      "model_module_version": "1.2.0",
      "model_name": "LayoutModel",
      "state": {
       "width": "190px"
      }
     },
     "d223b79f30154da98b865b463128757d": {
      "model_module": "@jupyter-widgets/base",
      "model_module_version": "1.2.0",
      "model_name": "LayoutModel",
      "state": {
       "align_items": "center",
       "display": "flex-inline",
       "min_height": "400px"
      }
     },
     "d289c6c818b549b9ba0b5c1c4b649992": {
      "model_module": "@jupyter-widgets/base",
      "model_module_version": "1.2.0",
      "model_name": "LayoutModel",
      "state": {
       "grid_area": "left"
      }
     },
     "d29aa6975bb545e5b527325528f1daa0": {
      "model_module": "@jupyter-widgets/base",
      "model_module_version": "1.2.0",
      "model_name": "LayoutModel",
      "state": {
       "grid_area": "right"
      }
     },
     "d35a24a42e854322bf07510005a562a3": {
      "model_module": "@jupyter-widgets/controls",
      "model_module_version": "1.5.0",
      "model_name": "GridBoxModel",
      "state": {
       "children": [
        "IPY_MODEL_5c84ede074de4b298c41003d50cf38f3",
        "IPY_MODEL_e55c9a1f145b463790941273f7a3235f",
        "IPY_MODEL_65703ceb5c7a42e2bbd91a90f4aea1c4"
       ],
       "layout": "IPY_MODEL_3578420c61124b39ba628bde9f80c851"
      }
     },
     "d5052e758a804e63a47837770ae6e164": {
      "model_module": "@jupyter-widgets/base",
      "model_module_version": "1.2.0",
      "model_name": "LayoutModel",
      "state": {
       "grid_area": "left",
       "width": "100%"
      }
     },
     "d5e3b2ce60b54d4ab0f8a9ea35b10235": {
      "model_module": "@jupyter-widgets/base",
      "model_module_version": "1.2.0",
      "model_name": "LayoutModel",
      "state": {}
     },
     "d66e14bd7b3b447fac368d56e76560c3": {
      "model_module": "@jupyter-widgets/base",
      "model_module_version": "1.2.0",
      "model_name": "LayoutModel",
      "state": {}
     },
     "d672011a68ef45b6b66281f41a203cbb": {
      "model_module": "@jupyter-widgets/base",
      "model_module_version": "1.2.0",
      "model_name": "LayoutModel",
      "state": {
       "align_items": "center",
       "display": "flex-inline",
       "min_height": "400px"
      }
     },
     "d7fcd9ad005548179e50b649be59bce6": {
      "model_module": "@jupyter-widgets/controls",
      "model_module_version": "1.5.0",
      "model_name": "GridBoxModel",
      "state": {
       "children": [
        "IPY_MODEL_834d24e1808e49489e7020cf28d8b0d6",
        "IPY_MODEL_300fb5347b1f4b66a8d2eb57607ecfb6",
        "IPY_MODEL_34d4eff04cf74e7db58135165086f008"
       ],
       "layout": "IPY_MODEL_bf3345420fb447b498d75d96f6561715"
      }
     },
     "db24ef1214ae4c179b8ef1b3327b62fb": {
      "model_module": "@jupyter-widgets/controls",
      "model_module_version": "1.5.0",
      "model_name": "GridBoxModel",
      "state": {
       "children": [
        "IPY_MODEL_11d2a33967464376b1dbb9ab42801403"
       ],
       "layout": "IPY_MODEL_8c9097a1bdea43b3be3bebf06e470079"
      }
     },
     "de028b18b36942ddb511c731195e20dd": {
      "model_module": "@jupyter-widgets/controls",
      "model_module_version": "1.5.0",
      "model_name": "DescriptionStyleModel",
      "state": {
       "description_width": ""
      }
     },
     "e0b9de85867a4a478d244cce167d3169": {
      "model_module": "@jupyter-widgets/controls",
      "model_module_version": "1.5.0",
      "model_name": "DescriptionStyleModel",
      "state": {
       "description_width": ""
      }
     },
     "e3d14fe8899948eb94bbf76db8c3e1c3": {
      "model_module": "@jupyter-widgets/controls",
      "model_module_version": "1.5.0",
      "model_name": "DescriptionStyleModel",
      "state": {
       "description_width": ""
      }
     },
     "e43172ea689e47bbb2d8b710b537dcfd": {
      "model_module": "@jupyter-widgets/base",
      "model_module_version": "1.2.0",
      "model_name": "LayoutModel",
      "state": {}
     },
     "e4ae4259b4a04cff9cada397e7c465f7": {
      "model_module": "@jupyter-widgets/controls",
      "model_module_version": "1.5.0",
      "model_name": "DescriptionStyleModel",
      "state": {
       "description_width": ""
      }
     },
     "e55c9a1f145b463790941273f7a3235f": {
      "model_module": "@jupyter-widgets/output",
      "model_module_version": "1.0.0",
      "model_name": "OutputModel",
      "state": {
       "layout": "IPY_MODEL_ef46205790c54362a2363df28a32ab60",
       "outputs": [
        {
         "data": {
          "image/png": "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\n",
          "text/plain": "<Figure size 360x360 with 1 Axes>"
         },
         "metadata": {},
         "output_type": "display_data"
        }
       ]
      }
     },
     "ef46205790c54362a2363df28a32ab60": {
      "model_module": "@jupyter-widgets/base",
      "model_module_version": "1.2.0",
      "model_name": "LayoutModel",
      "state": {
       "align_items": "center",
       "display": "flex-inline",
       "grid_area": "right",
       "max_height": "325px",
       "padding": "10px 10px 10px 10px",
       "width": "auto"
      }
     },
     "f17b02f8c61247a98de89f2816aeccfd": {
      "model_module": "@jupyter-widgets/controls",
      "model_module_version": "1.5.0",
      "model_name": "ButtonStyleModel",
      "state": {}
     },
     "f235c903c9084768a0bf76acd43ca619": {
      "model_module": "@jupyter-widgets/controls",
      "model_module_version": "1.5.0",
      "model_name": "DescriptionStyleModel",
      "state": {
       "description_width": ""
      }
     },
     "f4f7ddfa1b2c45519e8e18410bc64667": {
      "model_module": "@jupyter-widgets/controls",
      "model_module_version": "1.5.0",
      "model_name": "VBoxModel",
      "state": {
       "children": [
        "IPY_MODEL_45962a6b06854b328ad1e2f4b851fe2f",
        "IPY_MODEL_8aee322debce4f4693f789fbc1eb250f"
       ],
       "layout": "IPY_MODEL_e43172ea689e47bbb2d8b710b537dcfd"
      }
     },
     "f5510e305ac24df2b22ec4be73e56389": {
      "model_module": "@jupyter-widgets/base",
      "model_module_version": "1.2.0",
      "model_name": "LayoutModel",
      "state": {
       "grid_area": "top"
      }
     },
     "f891a501a839429d94df4e12cace7a0d": {
      "model_module": "@jupyter-widgets/controls",
      "model_module_version": "1.5.0",
      "model_name": "HTMLModel",
      "state": {
       "layout": "IPY_MODEL_b7226074efe54dd9a8c2c54c7c7e03f8",
       "style": "IPY_MODEL_94b3bc27efb04c86b98bf7cc5c37454e",
       "value": "<table><style>\ntable {\n    border-collapse: collapse;\n    width: auto;\n}\n\nth, td {\n    text-align: left;\n    padding: 8px;\n}\n\ntr:nth-child(even) {background-color: #f6f6f6;};\n</style><tr><th></th><th>Type</th><th>Gate error</th></tr></table>"
      }
     },
     "fad6503fc96b47ceb420e31352710f48": {
      "model_module": "@jupyter-widgets/base",
      "model_module_version": "1.2.0",
      "model_name": "LayoutModel",
      "state": {}
     },
     "fe169f8956254a21bbfa759218c630e0": {
      "model_module": "@jupyter-widgets/output",
      "model_module_version": "1.0.0",
      "model_name": "OutputModel",
      "state": {
       "layout": "IPY_MODEL_d223b79f30154da98b865b463128757d",
       "outputs": [
        {
         "data": {
          "image/png": "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\n",
          "text/plain": "<Figure size 396x396 with 1 Axes>"
         },
         "metadata": {},
         "output_type": "display_data"
        }
       ]
      }
     }
    },
    "version_major": 2,
    "version_minor": 0
   }
  }
 },
 "nbformat": 4,
 "nbformat_minor": 5
}
