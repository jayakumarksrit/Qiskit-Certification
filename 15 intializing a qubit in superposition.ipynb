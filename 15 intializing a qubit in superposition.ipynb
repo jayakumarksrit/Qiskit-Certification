{
 "cells": [
  {
   "cell_type": "code",
   "execution_count": 2,
   "id": "691d314f-7241-4e6f-a593-ea719d019600",
   "metadata": {},
   "outputs": [
    {
     "name": "stderr",
     "output_type": "stream",
     "text": [
      "ibmqfactory.load_account:WARNING:2022-01-19 21:58:12,102: Credentials are already in use. The existing account in the session will be replaced.\n"
     ]
    }
   ],
   "source": [
    "import numpy as np\n",
    "\n",
    "# Importing standard Qiskit libraries\n",
    "from qiskit import QuantumCircuit, transpile, Aer, IBMQ\n",
    "from qiskit.tools.jupyter import *\n",
    "from qiskit.visualization import *\n",
    "from ibm_quantum_widgets import *\n",
    "from qiskit.providers.aer import QasmSimulator\n",
    "\n",
    "# Loading your IBM Quantum account(s)\n",
    "provider = IBMQ.load_account()"
   ]
  },
  {
   "cell_type": "code",
   "execution_count": 4,
   "id": "c2263eb8-c6a7-4b31-b041-0ca28439af26",
   "metadata": {},
   "outputs": [
    {
     "name": "stdout",
     "output_type": "stream",
     "text": [
      "{'1': 492, '0': 532}\n"
     ]
    }
   ],
   "source": [
    "from math import sqrt\n",
    "from qiskit.visualization import plot_histogram\n",
    "from qiskit import qiskit\n",
    "\n",
    "qc=QuantumCircuit(1,1)\n",
    "state_vector=[1/sqrt(2),1j/sqrt(2)]\n",
    "qc.initialize(state_vector,0)\n",
    "qc.measure(0,0)\n",
    "\n",
    "job=qiskit.execute(qc,qiskit.BasicAer.get_backend('qasm_simulator'))\n",
    "figure=plot_histogram(job.result().get_counts())\n",
    "print(job.result().get_counts())\n",
    "figure.savefig('historgram1.png')"
   ]
  },
  {
   "cell_type": "code",
   "execution_count": 5,
   "id": "6dda805b-ec80-4c8d-9090-18b4302de123",
   "metadata": {},
   "outputs": [
    {
     "name": "stdout",
     "output_type": "stream",
     "text": [
      "[0.5773502691896257, 0.816496580927726]\n",
      "{'1': 664, '0': 360}\n"
     ]
    },
    {
     "data": {
      "image/png": "[encoded data removed]",
      "text/plain": [
       "<Figure size 504x360 with 1 Axes>"
      ]
     },
     "execution_count": 5,
     "metadata": {},
     "output_type": "execute_result"
    }
   ],
   "source": [
    "qc1=QuantumCircuit(1,1)\n",
    "prob=1/3\n",
    "value=1-prob\n",
    "state_vector=[sqrt(1-value),sqrt(value)]\n",
    "print(state_vector)\n",
    "qc.initialize(state_vector,0)\n",
    "qc.measure(0,0)\n",
    "\n",
    "shots=1024\n",
    "job=qiskit.execute(qc,qiskit.BasicAer.get_backend('qasm_simulator'),shots=shots)\n",
    "print(job.result().get_counts())\n",
    "plot_histogram(job.result().get_counts())"
   ]
  },
  {
   "cell_type": "code",
   "execution_count": 7,
   "id": "3521d625-276b-4a50-968c-ddc6b667e631",
   "metadata": {},
   "outputs": [
    {
     "name": "stdout",
     "output_type": "stream",
     "text": [
      "0.01822916666666663<0.03=True\n"
     ]
    }
   ],
   "source": [
    "#vertify the probability of a 1 is 2/3.\n",
    "target=2/3\n",
    "threshold=0.03\n",
    "count=job.result().get_counts()['1']\n",
    "diff=abs(target-count/shots)\n",
    "print('{}<{}={}'.format(diff,threshold,diff<threshold))"
   ]
  },
  {
   "cell_type": "code",
   "execution_count": 8,
   "id": "81398093-bc4a-4cc2-93a4-5cc05079a7d9",
   "metadata": {},
   "outputs": [],
   "source": [
    "count0=job.result().get_counts()['0']\n"
   ]
  },
  {
   "cell_type": "code",
   "execution_count": 9,
   "id": "a33baa8b-1be2-4ba8-9ec3-54d2234a5c91",
   "metadata": {},
   "outputs": [
    {
     "data": {
      "text/plain": [
       "360"
      ]
     },
     "execution_count": 9,
     "metadata": {},
     "output_type": "execute_result"
    }
   ],
   "source": [
    "count0"
   ]
  },
  {
   "cell_type": "code",
   "execution_count": 10,
   "id": "7b8b1a32-ad8b-448a-8ab2-e4f9f5acb4ae",
   "metadata": {},
   "outputs": [
    {
     "data": {
      "text/plain": [
       "664"
      ]
     },
     "execution_count": 10,
     "metadata": {},
     "output_type": "execute_result"
    }
   ],
   "source": [
    "count"
   ]
  },
  {
   "cell_type": "code",
   "execution_count": null,
   "id": "5cb302aa-f64d-45ee-b4c6-05fcbee11d66",
   "metadata": {},
   "outputs": [],
   "source": []
  }
 ],
 "metadata": {
  "kernelspec": {
   "display_name": "Qiskit v0.34.1 (ipykernel)",
   "language": "python",
   "name": "python3"
  },
  "language_info": {
   "codemirror_mode": {
    "name": "ipython",
    "version": 3
   },
   "file_extension": ".py",
   "mimetype": "text/x-python",
   "name": "python",
   "nbconvert_exporter": "python",
   "pygments_lexer": "ipython3",
   "version": "3.8.12"
  },
  "widgets": {
   "application/vnd.jupyter.widget-state+json": {
    "state": {},
    "version_major": 2,
    "version_minor": 0
   }
  }
 },
 "nbformat": 4,
 "nbformat_minor": 5
}
