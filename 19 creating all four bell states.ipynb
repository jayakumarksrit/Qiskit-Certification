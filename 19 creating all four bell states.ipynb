{
 "cells": [
  {
   "cell_type": "code",
   "execution_count": 3,
   "id": "bc109086-6cd0-4503-8c9e-f9e23c7555d8",
   "metadata": {},
   "outputs": [
    {
     "name": "stderr",
     "output_type": "stream",
     "text": [
      "ibmqfactory.load_account:WARNING:2022-01-20 05:38:01,111: Credentials are already in use. The existing account in the session will be replaced.\n"
     ]
    }
   ],
   "source": [
    "import numpy as np\n",
    "\n",
    "# Importing standard Qiskit libraries\n",
    "from qiskit import QuantumCircuit, transpile, Aer, IBMQ, assemble\n",
    "from qiskit.tools.jupyter import *\n",
    "from qiskit.visualization import *\n",
    "from ibm_quantum_widgets import *\n",
    "from qiskit.providers.aer import QasmSimulator\n",
    "\n",
    "# Loading your IBM Quantum account(s)\n",
    "provider = IBMQ.load_account()"
   ]
  },
  {
   "cell_type": "code",
   "execution_count": 7,
   "id": "bb3359ad-eca2-437b-89d0-3a586c01175f",
   "metadata": {},
   "outputs": [
    {
     "name": "stdout",
     "output_type": "stream",
     "text": [
      "Statevector([0.70710678+0.j, 0.        +0.j, 0.        +0.j,\n",
      "             0.70710678+0.j],\n",
      "            dims=(2, 2))\n",
      "Statevector([0.        +0.j, 0.70710678+0.j, 0.70710678+0.j,\n",
      "             0.        +0.j],\n",
      "            dims=(2, 2))\n",
      "Statevector([ 0.70710678+0.j, -0.        +0.j,  0.        +0.j,\n",
      "             -0.70710678+0.j],\n",
      "            dims=(2, 2))\n",
      "Statevector([ 0.        +0.j, -0.70710678+0.j,  0.70710678+0.j,\n",
      "             -0.        +0.j],\n",
      "            dims=(2, 2))\n"
     ]
    }
   ],
   "source": [
    "def four_bell_states():\n",
    "    qc1=QuantumCircuit(2)\n",
    "    qc1.h(0)\n",
    "    qc1.cx(0,1)\n",
    "    execute_bell(qc1,'00-11')\n",
    "    \n",
    "    qc2=QuantumCircuit(2)\n",
    "    qc2.h(0)\n",
    "    qc2.cx(0,1)\n",
    "    qc2.x(1)\n",
    "    execute_bell(qc2,'01-10')\n",
    "    \n",
    "    qc3=QuantumCircuit(2)\n",
    "    qc3.h(0)\n",
    "    qc3.cx(0,1)\n",
    "    qc3.z(0)\n",
    "    execute_bell(qc3,'11-00')\n",
    "    \n",
    "    qc4=QuantumCircuit(2)\n",
    "    qc4.h(0)\n",
    "    qc4.cx(0,1)\n",
    "    qc4.z(0)\n",
    "    qc4.x(1)\n",
    "    execute_bell(qc4,'10-01')\n",
    "    \n",
    "def execute_bell(qc,name):\n",
    "    simulator=Aer.get_backend('statevector_simulator')\n",
    "    qobj=assemble(qc)\n",
    "    result=simulator.run(qobj).result()\n",
    "    output_state=result.get_statevector(qc)\n",
    "    print(output_state)\n",
    "    figure=plot_histogram(result.get_counts())\n",
    "    figure.savefig('bellstate-{}.png'.format(name))\n",
    "    \n",
    "four_bell_states()"
   ]
  },
  {
   "cell_type": "code",
   "execution_count": null,
   "id": "d4785c2c-107c-420c-b1de-1206236434dc",
   "metadata": {},
   "outputs": [],
   "source": []
  }
 ],
 "metadata": {
  "kernelspec": {
   "display_name": "Qiskit v0.34.1 (ipykernel)",
   "language": "python",
   "name": "python3"
  },
  "language_info": {
   "codemirror_mode": {
    "name": "ipython",
    "version": 3
   },
   "file_extension": ".py",
   "mimetype": "text/x-python",
   "name": "python",
   "nbconvert_exporter": "python",
   "pygments_lexer": "ipython3",
   "version": "3.8.12"
  },
  "widgets": {
   "application/vnd.jupyter.widget-state+json": {
    "state": {
     "02760f644aec4d1b9b10024d4d137bfb": {
      "model_module": "@jupyter-widgets/controls",
      "model_module_version": "1.5.0",
      "model_name": "DescriptionStyleModel",
      "state": {
       "description_width": ""
      }
     },
     "104f33411dc143708d98b7f4ff5f99cf": {
      "model_module": "@jupyter-widgets/controls",
      "model_module_version": "1.5.0",
      "model_name": "DescriptionStyleModel",
      "state": {
       "description_width": ""
      }
     },
     "15797bf1d02f4c7a81f69d0bd1e1cd07": {
      "model_module": "@jupyter-widgets/controls",
      "model_module_version": "1.5.0",
      "model_name": "DescriptionStyleModel",
      "state": {
       "description_width": ""
      }
     },
     "1e466ba0de8141f385a9b1ec3d5e9ff3": {
      "model_module": "@jupyter-widgets/controls",
      "model_module_version": "1.5.0",
      "model_name": "HTMLModel",
      "state": {
       "layout": "IPY_MODEL_5541003591254cdd90c3de1eaa7591f6",
       "style": "IPY_MODEL_104f33411dc143708d98b7f4ff5f99cf",
       "value": "<p style='font-family: IBM Plex Sans, Arial, Helvetica, sans-serif; font-size: 20px; font-weight: medium;'>Circuit Properties</p>"
      }
     },
     "1ea8632008484f00b69b77283d6eea1a": {
      "model_module": "@jupyter-widgets/base",
      "model_module_version": "1.2.0",
      "model_name": "LayoutModel",
      "state": {
       "grid_template_areas": "\n                                       \". . . . right \"\n                                        ",
       "grid_template_columns": "20% 20% 20% 20% 20%",
       "width": "100%"
      }
     },
     "2284c062c2754c53a3e549c2f8d38e19": {
      "model_module": "@jupyter-widgets/controls",
      "model_module_version": "1.5.0",
      "model_name": "HTMLModel",
      "state": {
       "layout": "IPY_MODEL_eeabedf9043e4300ab9e3b257a794d97",
       "style": "IPY_MODEL_02760f644aec4d1b9b10024d4d137bfb",
       "value": "<h5>Status</h5>"
      }
     },
     "40feca28ac5b4822b185ab514bb70d98": {
      "model_module": "@jupyter-widgets/controls",
      "model_module_version": "1.5.0",
      "model_name": "DescriptionStyleModel",
      "state": {
       "description_width": ""
      }
     },
     "46b1880d07c64bf1aaafd81a1db026f8": {
      "model_module": "@jupyter-widgets/base",
      "model_module_version": "1.2.0",
      "model_name": "LayoutModel",
      "state": {
       "margin": "0px 0px 0px 37px",
       "width": "600px"
      }
     },
     "5541003591254cdd90c3de1eaa7591f6": {
      "model_module": "@jupyter-widgets/base",
      "model_module_version": "1.2.0",
      "model_name": "LayoutModel",
      "state": {
       "margin": "0px 0px 10px 0px"
      }
     },
     "55f56a7b990746e996eb99cc21bd1253": {
      "model_module": "@jupyter-widgets/controls",
      "model_module_version": "1.5.0",
      "model_name": "HTMLModel",
      "state": {
       "layout": "IPY_MODEL_fcea0d5eacee48c5b23ca58ab3c200c1",
       "style": "IPY_MODEL_15797bf1d02f4c7a81f69d0bd1e1cd07",
       "value": "<h5>Backend</h5>"
      }
     },
     "70e119199fc54788a50822bd34b68634": {
      "model_module": "@jupyter-widgets/controls",
      "model_module_version": "1.5.0",
      "model_name": "ButtonModel",
      "state": {
       "button_style": "primary",
       "description": "Clear",
       "layout": "IPY_MODEL_87b588eb16cd4419987e56a138aa0029",
       "style": "IPY_MODEL_86d17ec8077d45658c2a3deaa7350e3f"
      }
     },
     "86d17ec8077d45658c2a3deaa7350e3f": {
      "model_module": "@jupyter-widgets/controls",
      "model_module_version": "1.5.0",
      "model_name": "ButtonStyleModel",
      "state": {}
     },
     "87b588eb16cd4419987e56a138aa0029": {
      "model_module": "@jupyter-widgets/base",
      "model_module_version": "1.2.0",
      "model_name": "LayoutModel",
      "state": {
       "grid_area": "right",
       "padding": "0px 0px 0px 0px",
       "width": "70px"
      }
     },
     "9ca4d710d9ab4dfb80af156153a85866": {
      "model_module": "@jupyter-widgets/controls",
      "model_module_version": "1.5.0",
      "model_name": "HTMLModel",
      "state": {
       "layout": "IPY_MODEL_aad87f1d9abe4b6daec57a8c60de0195",
       "style": "IPY_MODEL_40feca28ac5b4822b185ab514bb70d98",
       "value": "<h5>Job ID</h5>"
      }
     },
     "a2f6675294d0449c924df135a8e275d3": {
      "model_module": "@jupyter-widgets/controls",
      "model_module_version": "1.5.0",
      "model_name": "GridBoxModel",
      "state": {
       "children": [
        "IPY_MODEL_70e119199fc54788a50822bd34b68634"
       ],
       "layout": "IPY_MODEL_1ea8632008484f00b69b77283d6eea1a"
      }
     },
     "aad87f1d9abe4b6daec57a8c60de0195": {
      "model_module": "@jupyter-widgets/base",
      "model_module_version": "1.2.0",
      "model_name": "LayoutModel",
      "state": {
       "width": "190px"
      }
     },
     "cadade40d9cb4eea919027e3ab08e8ec": {
      "model_module": "@jupyter-widgets/base",
      "model_module_version": "1.2.0",
      "model_name": "LayoutModel",
      "state": {
       "width": "70px"
      }
     },
     "d051962e99d74567af4f51018d7975a5": {
      "model_module": "@jupyter-widgets/controls",
      "model_module_version": "1.5.0",
      "model_name": "DescriptionStyleModel",
      "state": {
       "description_width": ""
      }
     },
     "d2f63af02c7a4028a6aa0b8e6a33b947": {
      "model_module": "@jupyter-widgets/controls",
      "model_module_version": "1.5.0",
      "model_name": "HBoxModel",
      "state": {
       "children": [
        "IPY_MODEL_9ca4d710d9ab4dfb80af156153a85866",
        "IPY_MODEL_55f56a7b990746e996eb99cc21bd1253",
        "IPY_MODEL_2284c062c2754c53a3e549c2f8d38e19",
        "IPY_MODEL_fd49ca59298f416fbc84d0d85fffc0e2",
        "IPY_MODEL_fb82fe899fb74ea6b59b828920e9ce7e"
       ],
       "layout": "IPY_MODEL_46b1880d07c64bf1aaafd81a1db026f8"
      }
     },
     "e939544a8494406386d8d4b0210fc919": {
      "model_module": "@jupyter-widgets/base",
      "model_module_version": "1.2.0",
      "model_name": "LayoutModel",
      "state": {}
     },
     "eeabedf9043e4300ab9e3b257a794d97": {
      "model_module": "@jupyter-widgets/base",
      "model_module_version": "1.2.0",
      "model_name": "LayoutModel",
      "state": {
       "width": "95px"
      }
     },
     "fae9f48cccc34e889cc76275d819c836": {
      "model_module": "@jupyter-widgets/controls",
      "model_module_version": "1.5.0",
      "model_name": "DescriptionStyleModel",
      "state": {
       "description_width": ""
      }
     },
     "fb82fe899fb74ea6b59b828920e9ce7e": {
      "model_module": "@jupyter-widgets/controls",
      "model_module_version": "1.5.0",
      "model_name": "HTMLModel",
      "state": {
       "layout": "IPY_MODEL_e939544a8494406386d8d4b0210fc919",
       "style": "IPY_MODEL_d051962e99d74567af4f51018d7975a5",
       "value": "<h5>Message</h5>"
      }
     },
     "fcea0d5eacee48c5b23ca58ab3c200c1": {
      "model_module": "@jupyter-widgets/base",
      "model_module_version": "1.2.0",
      "model_name": "LayoutModel",
      "state": {
       "width": "145px"
      }
     },
     "fd49ca59298f416fbc84d0d85fffc0e2": {
      "model_module": "@jupyter-widgets/controls",
      "model_module_version": "1.5.0",
      "model_name": "HTMLModel",
      "state": {
       "layout": "IPY_MODEL_cadade40d9cb4eea919027e3ab08e8ec",
       "style": "IPY_MODEL_fae9f48cccc34e889cc76275d819c836",
       "value": "<h5>Queue</h5>"
      }
     }
    },
    "version_major": 2,
    "version_minor": 0
   }
  }
 },
 "nbformat": 4,
 "nbformat_minor": 5
}
