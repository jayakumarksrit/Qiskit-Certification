{
 "cells": [
  {
   "cell_type": "code",
   "execution_count": 1,
   "id": "f020aae2-80fc-48ba-8bae-6bfba7040e21",
   "metadata": {},
   "outputs": [],
   "source": [
    "import numpy as np\n",
    "\n",
    "# Importing standard Qiskit libraries\n",
    "from qiskit import QuantumCircuit, transpile, Aer, IBMQ\n",
    "from qiskit.tools.jupyter import *\n",
    "from qiskit.visualization import *\n",
    "from ibm_quantum_widgets import *\n",
    "from qiskit.providers.aer import QasmSimulator\n",
    "\n",
    "# Loading your IBM Quantum account(s)\n",
    "provider = IBMQ.load_account()"
   ]
  },
  {
   "cell_type": "code",
   "execution_count": 4,
   "id": "ea0ab2c2-f2df-4f9e-ba61-06a86ff407fb",
   "metadata": {},
   "outputs": [],
   "source": [
    "from qiskit.tools import job_monitor\n",
    "from qiskit import qiskit"
   ]
  },
  {
   "cell_type": "code",
   "execution_count": 5,
   "id": "a0a92955-fffd-45a4-bccb-20ce87352f26",
   "metadata": {},
   "outputs": [],
   "source": [
    "backend2=qiskit.BasicAer.get_backend('qasm_simulator')"
   ]
  },
  {
   "cell_type": "code",
   "execution_count": 6,
   "id": "dbf557fe-5d01-4345-9077-589503dc64bc",
   "metadata": {},
   "outputs": [
    {
     "data": {
      "text/plain": [
       "<QasmSimulatorPy('qasm_simulator')>"
      ]
     },
     "execution_count": 6,
     "metadata": {},
     "output_type": "execute_result"
    }
   ],
   "source": [
    "backend2"
   ]
  },
  {
   "cell_type": "code",
   "execution_count": 7,
   "id": "0bec8062-78b6-4a8f-a39d-1db9341ddca3",
   "metadata": {},
   "outputs": [
    {
     "data": {
      "text/plain": [
       "'qasm_simulator'"
      ]
     },
     "execution_count": 7,
     "metadata": {},
     "output_type": "execute_result"
    }
   ],
   "source": [
    "backend2.name()"
   ]
  },
  {
   "cell_type": "code",
   "execution_count": 8,
   "id": "513d0467-f500-4eea-9bf0-154d906970c4",
   "metadata": {},
   "outputs": [
    {
     "data": {
      "text/plain": [
       "1"
      ]
     },
     "execution_count": 8,
     "metadata": {},
     "output_type": "execute_result"
    }
   ],
   "source": [
    "backend2.version"
   ]
  },
  {
   "cell_type": "code",
   "execution_count": 9,
   "id": "17bbf37b-372a-47f5-be9a-bb0472f56d1d",
   "metadata": {},
   "outputs": [
    {
     "data": {
      "text/plain": [
       "[<QasmSimulatorPy('qasm_simulator')>,\n",
       " <StatevectorSimulatorPy('statevector_simulator')>,\n",
       " <UnitarySimulatorPy('unitary_simulator')>]"
      ]
     },
     "execution_count": 9,
     "metadata": {},
     "output_type": "execute_result"
    }
   ],
   "source": [
    "backend2.provider().backends()"
   ]
  },
  {
   "cell_type": "code",
   "execution_count": 12,
   "id": "12039548-ddee-43d7-b15d-6ff16f4ebd8b",
   "metadata": {},
   "outputs": [],
   "source": [
    "qc=QuantumCircuit(2,2)\n",
    "qc.h(0)\n",
    "qc.cx(0,1)\n",
    "qc.measure([0,1],[0,1])\n",
    "\n",
    "job=qiskit.execute(qc,backend2)"
   ]
  },
  {
   "cell_type": "code",
   "execution_count": 13,
   "id": "e0027282-a509-48be-bc46-2972460b80c0",
   "metadata": {},
   "outputs": [
    {
     "data": {
      "text/plain": [
       "<qiskit.providers.basicaer.basicaerjob.BasicAerJob at 0x7ff958e1b4c0>"
      ]
     },
     "execution_count": 13,
     "metadata": {},
     "output_type": "execute_result"
    }
   ],
   "source": [
    "job"
   ]
  },
  {
   "cell_type": "code",
   "execution_count": 14,
   "id": "6e221d06-c46c-4baa-9bdd-d135e2e650df",
   "metadata": {},
   "outputs": [
    {
     "data": {
      "text/plain": [
       "qiskit.providers.basicaer.basicaerjob.BasicAerJob"
      ]
     },
     "execution_count": 14,
     "metadata": {},
     "output_type": "execute_result"
    }
   ],
   "source": [
    "type(job)"
   ]
  },
  {
   "cell_type": "code",
   "execution_count": 15,
   "id": "fe76df6a-d090-4ef1-a0d3-a9fd9a9b8e48",
   "metadata": {},
   "outputs": [
    {
     "name": "stdout",
     "output_type": "stream",
     "text": [
      "<class 'qiskit.providers.basicaer.basicaerjob.BasicAerJob'>\n"
     ]
    }
   ],
   "source": [
    "print(type(job))"
   ]
  },
  {
   "cell_type": "code",
   "execution_count": 16,
   "id": "f919566c-9c6a-4d4b-a90f-9500fbfa0161",
   "metadata": {},
   "outputs": [
    {
     "name": "stdout",
     "output_type": "stream",
     "text": [
      "Job Status: job has successfully run\n"
     ]
    }
   ],
   "source": [
    "job_monitor(job)"
   ]
  },
  {
   "cell_type": "code",
   "execution_count": 17,
   "id": "a042401d-d353-4dfb-bcd2-753d55911aef",
   "metadata": {},
   "outputs": [
    {
     "data": {
      "text/plain": [
       "<JobStatus.DONE: 'job has successfully run'>"
      ]
     },
     "execution_count": 17,
     "metadata": {},
     "output_type": "execute_result"
    }
   ],
   "source": [
    "job.status()"
   ]
  },
  {
   "cell_type": "code",
   "execution_count": 18,
   "id": "28f47a8e-98c8-4f59-9066-0a21e7c3433f",
   "metadata": {},
   "outputs": [
    {
     "data": {
      "text/plain": [
       "{'00': 512, '11': 512}"
      ]
     },
     "execution_count": 18,
     "metadata": {},
     "output_type": "execute_result"
    }
   ],
   "source": [
    "job.result().get_counts()"
   ]
  },
  {
   "cell_type": "code",
   "execution_count": null,
   "id": "4bab3eae-0b98-42eb-92a9-d2cf91fd3719",
   "metadata": {},
   "outputs": [],
   "source": []
  }
 ],
 "metadata": {
  "kernelspec": {
   "display_name": "Qiskit v0.34.1 (ipykernel)",
   "language": "python",
   "name": "python3"
  },
  "language_info": {
   "codemirror_mode": {
    "name": "ipython",
    "version": 3
   },
   "file_extension": ".py",
   "mimetype": "text/x-python",
   "name": "python",
   "nbconvert_exporter": "python",
   "pygments_lexer": "ipython3",
   "version": "3.8.12"
  },
  "widgets": {
   "application/vnd.jupyter.widget-state+json": {
    "state": {
     "08c5f8e5e8c5491e99931e42d774003b": {
      "model_module": "@jupyter-widgets/controls",
      "model_module_version": "1.5.0",
      "model_name": "DescriptionStyleModel",
      "state": {
       "description_width": ""
      }
     },
     "11205dac2d9648079ff18657929cdba2": {
      "model_module": "@jupyter-widgets/base",
      "model_module_version": "1.2.0",
      "model_name": "LayoutModel",
      "state": {}
     },
     "2daa99acacfe4c7691e2311aa2621dff": {
      "model_module": "@jupyter-widgets/controls",
      "model_module_version": "1.5.0",
      "model_name": "DescriptionStyleModel",
      "state": {
       "description_width": ""
      }
     },
     "50fc18fa6aae49d4ba5348259c2b67b9": {
      "model_module": "@jupyter-widgets/controls",
      "model_module_version": "1.5.0",
      "model_name": "HTMLModel",
      "state": {
       "layout": "IPY_MODEL_6685ad3131dd47be81b9364e1ad3ff12",
       "style": "IPY_MODEL_a646431e3f5c4de3bc9df9b8a2d9f8f7",
       "value": "<p style='font-family: IBM Plex Sans, Arial, Helvetica, sans-serif; font-size: 20px; font-weight: medium;'>Circuit Properties</p>"
      }
     },
     "55f3fd72ef0d4601881088e5b98f3ae5": {
      "model_module": "@jupyter-widgets/base",
      "model_module_version": "1.2.0",
      "model_name": "LayoutModel",
      "state": {
       "width": "145px"
      }
     },
     "59c756a940fc4f20ac7fead50dc3116d": {
      "model_module": "@jupyter-widgets/controls",
      "model_module_version": "1.5.0",
      "model_name": "GridBoxModel",
      "state": {
       "children": [
        "IPY_MODEL_a729cead2f21438f8ef57166039ee357"
       ],
       "layout": "IPY_MODEL_f5d64669cdaf419cb0149a73568eb796"
      }
     },
     "6685ad3131dd47be81b9364e1ad3ff12": {
      "model_module": "@jupyter-widgets/base",
      "model_module_version": "1.2.0",
      "model_name": "LayoutModel",
      "state": {
       "margin": "0px 0px 10px 0px"
      }
     },
     "68725fa6c669475db3e31780224f19c1": {
      "model_module": "@jupyter-widgets/controls",
      "model_module_version": "1.5.0",
      "model_name": "HTMLModel",
      "state": {
       "layout": "IPY_MODEL_11205dac2d9648079ff18657929cdba2",
       "style": "IPY_MODEL_7bb17f6bbcc24d94b73a3e6576787be8",
       "value": "<h5>Message</h5>"
      }
     },
     "795f15b1a9c041739b71d370685d0c89": {
      "model_module": "@jupyter-widgets/controls",
      "model_module_version": "1.5.0",
      "model_name": "DescriptionStyleModel",
      "state": {
       "description_width": ""
      }
     },
     "7bb17f6bbcc24d94b73a3e6576787be8": {
      "model_module": "@jupyter-widgets/controls",
      "model_module_version": "1.5.0",
      "model_name": "DescriptionStyleModel",
      "state": {
       "description_width": ""
      }
     },
     "8b87bac1a36f476b82ade81fcbd4e622": {
      "model_module": "@jupyter-widgets/base",
      "model_module_version": "1.2.0",
      "model_name": "LayoutModel",
      "state": {
       "grid_area": "right",
       "padding": "0px 0px 0px 0px",
       "width": "70px"
      }
     },
     "999ce26589fd438d9035bb9f8f5c6148": {
      "model_module": "@jupyter-widgets/controls",
      "model_module_version": "1.5.0",
      "model_name": "HTMLModel",
      "state": {
       "layout": "IPY_MODEL_efc035f0bd0b4f208b200630bb5a8623",
       "style": "IPY_MODEL_08c5f8e5e8c5491e99931e42d774003b",
       "value": "<h5>Queue</h5>"
      }
     },
     "a646431e3f5c4de3bc9df9b8a2d9f8f7": {
      "model_module": "@jupyter-widgets/controls",
      "model_module_version": "1.5.0",
      "model_name": "DescriptionStyleModel",
      "state": {
       "description_width": ""
      }
     },
     "a729cead2f21438f8ef57166039ee357": {
      "model_module": "@jupyter-widgets/controls",
      "model_module_version": "1.5.0",
      "model_name": "ButtonModel",
      "state": {
       "button_style": "primary",
       "description": "Clear",
       "layout": "IPY_MODEL_8b87bac1a36f476b82ade81fcbd4e622",
       "style": "IPY_MODEL_ea078ac4a2c0440fa9bc53cdd7185581"
      }
     },
     "aaaf8fc4c1f44bc58d4aee5664270ad9": {
      "model_module": "@jupyter-widgets/base",
      "model_module_version": "1.2.0",
      "model_name": "LayoutModel",
      "state": {
       "width": "95px"
      }
     },
     "b0f199e0e78c45289574ed361ffb2219": {
      "model_module": "@jupyter-widgets/base",
      "model_module_version": "1.2.0",
      "model_name": "LayoutModel",
      "state": {
       "width": "190px"
      }
     },
     "b8d45db5b2254013a9ab9795d4e404ea": {
      "model_module": "@jupyter-widgets/base",
      "model_module_version": "1.2.0",
      "model_name": "LayoutModel",
      "state": {
       "margin": "0px 0px 0px 37px",
       "width": "600px"
      }
     },
     "bce87f3c7b40437e9d804391ce5e00d5": {
      "model_module": "@jupyter-widgets/controls",
      "model_module_version": "1.5.0",
      "model_name": "HTMLModel",
      "state": {
       "layout": "IPY_MODEL_55f3fd72ef0d4601881088e5b98f3ae5",
       "style": "IPY_MODEL_e9e33cb606c148b78e11dc6e1ee2c65a",
       "value": "<h5>Backend</h5>"
      }
     },
     "c0c0fd4fad85469bb85a65d658091dd2": {
      "model_module": "@jupyter-widgets/controls",
      "model_module_version": "1.5.0",
      "model_name": "HBoxModel",
      "state": {
       "children": [
        "IPY_MODEL_f99a939022ab4a299639efb073f9dd51",
        "IPY_MODEL_bce87f3c7b40437e9d804391ce5e00d5",
        "IPY_MODEL_fd7415e8934944b196c9b7fe1ab42b28",
        "IPY_MODEL_999ce26589fd438d9035bb9f8f5c6148",
        "IPY_MODEL_68725fa6c669475db3e31780224f19c1"
       ],
       "layout": "IPY_MODEL_b8d45db5b2254013a9ab9795d4e404ea"
      }
     },
     "e9e33cb606c148b78e11dc6e1ee2c65a": {
      "model_module": "@jupyter-widgets/controls",
      "model_module_version": "1.5.0",
      "model_name": "DescriptionStyleModel",
      "state": {
       "description_width": ""
      }
     },
     "ea078ac4a2c0440fa9bc53cdd7185581": {
      "model_module": "@jupyter-widgets/controls",
      "model_module_version": "1.5.0",
      "model_name": "ButtonStyleModel",
      "state": {}
     },
     "efc035f0bd0b4f208b200630bb5a8623": {
      "model_module": "@jupyter-widgets/base",
      "model_module_version": "1.2.0",
      "model_name": "LayoutModel",
      "state": {
       "width": "70px"
      }
     },
     "f5d64669cdaf419cb0149a73568eb796": {
      "model_module": "@jupyter-widgets/base",
      "model_module_version": "1.2.0",
      "model_name": "LayoutModel",
      "state": {
       "grid_template_areas": "\n                                       \". . . . right \"\n                                        ",
       "grid_template_columns": "20% 20% 20% 20% 20%",
       "width": "100%"
      }
     },
     "f99a939022ab4a299639efb073f9dd51": {
      "model_module": "@jupyter-widgets/controls",
      "model_module_version": "1.5.0",
      "model_name": "HTMLModel",
      "state": {
       "layout": "IPY_MODEL_b0f199e0e78c45289574ed361ffb2219",
       "style": "IPY_MODEL_2daa99acacfe4c7691e2311aa2621dff",
       "value": "<h5>Job ID</h5>"
      }
     },
     "fd7415e8934944b196c9b7fe1ab42b28": {
      "model_module": "@jupyter-widgets/controls",
      "model_module_version": "1.5.0",
      "model_name": "HTMLModel",
      "state": {
       "layout": "IPY_MODEL_aaaf8fc4c1f44bc58d4aee5664270ad9",
       "style": "IPY_MODEL_795f15b1a9c041739b71d370685d0c89",
       "value": "<h5>Status</h5>"
      }
     }
    },
    "version_major": 2,
    "version_minor": 0
   }
  }
 },
 "nbformat": 4,
 "nbformat_minor": 5
}
