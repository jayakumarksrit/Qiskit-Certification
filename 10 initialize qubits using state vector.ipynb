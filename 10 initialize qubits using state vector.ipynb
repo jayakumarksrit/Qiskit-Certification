{
 "cells": [
  {
   "cell_type": "code",
   "execution_count": 16,
   "id": "6e1c829f-f4f2-4645-90bd-da4fee0fb75e",
   "metadata": {},
   "outputs": [
    {
     "name": "stderr",
     "output_type": "stream",
     "text": [
      "ibmqfactory.load_account:WARNING:2022-01-15 13:55:20,843: Credentials are already in use. The existing account in the session will be replaced.\n"
     ]
    }
   ],
   "source": [
    "#import numpy as np\n",
    "\n",
    "# Importing standard Qiskit libraries\n",
    "from qiskit import QuantumCircuit, transpile, Aer, IBMQ, assemble\n",
    "from qiskit.tools.jupyter import *\n",
    "from qiskit.visualization import *\n",
    "from ibm_quantum_widgets import *\n",
    "from qiskit.providers.aer import QasmSimulator\n",
    "\n",
    "\n",
    "\n",
    "# Loading your IBM Quantum account(s)\n",
    "provider = IBMQ.load_account()"
   ]
  },
  {
   "cell_type": "code",
   "execution_count": 17,
   "id": "e2715435-8cd0-4dda-828b-c846d3f1a843",
   "metadata": {},
   "outputs": [
    {
     "name": "stdout",
     "output_type": "stream",
     "text": [
      "Statevector([0.+0.j, 1.+0.j],\n",
      "            dims=(2,))\n"
     ]
    }
   ],
   "source": [
    "qc=QuantumCircuit(1,1)\n",
    "state_vector=[1,0]\n",
    "qc.initialize(state_vector,0)\n",
    "qc.x(0)\n",
    "qc.measure(0,0)\n",
    "sv_sim=Aer.get_backend('aer_simulator')\n",
    "qc.save_statevector()\n",
    "qobj=assemble(qc)\n",
    "job=sv_sim.run(qobj)\n",
    "ket=job.result().get_statevector()\n",
    "print(ket)"
   ]
  },
  {
   "cell_type": "code",
   "execution_count": 5,
   "id": "3c4ed252-6284-4fcb-aed3-e4bcc19b7793",
   "metadata": {},
   "outputs": [
    {
     "name": "stdout",
     "output_type": "stream",
     "text": [
      "     ┌─────────────────┐┌───┐┌─┐ ░ \n",
      "  q: ┤ Initialize(1,0) ├┤ X ├┤M├─░─\n",
      "     └─────────────────┘└───┘└╥┘ ░ \n",
      "c: 1/═════════════════════════╩════\n",
      "                              0    \n"
     ]
    }
   ],
   "source": [
    "print(qc)"
   ]
  },
  {
   "cell_type": "code",
   "execution_count": 6,
   "id": "c8716922-5439-4b45-91fe-8ae558c1d171",
   "metadata": {},
   "outputs": [
    {
     "data": {
      "image/png": "[encoded data removed]",
      "text/plain": [
       "<Figure size 314.126x144.48 with 1 Axes>"
      ]
     },
     "execution_count": 6,
     "metadata": {},
     "output_type": "execute_result"
    }
   ],
   "source": [
    "qc.draw()"
   ]
  },
  {
   "cell_type": "code",
   "execution_count": 8,
   "id": "71ec6845-654b-4b14-b01d-7739d4c32e27",
   "metadata": {},
   "outputs": [
    {
     "name": "stdout",
     "output_type": "stream",
     "text": [
      "Statevector([1.+0.j, 0.+0.j],\n",
      "            dims=(2,))\n"
     ]
    }
   ],
   "source": [
    "qc1=QuantumCircuit(1,1)\n",
    "state_vector=[0,1]\n",
    "qc1.initialize(state_vector,0)\n",
    "qc1.x(0)\n",
    "qc1.measure(0,0)\n",
    "sv_sim=Aer.get_backend('aer_simulator')\n",
    "qc1.save_statevector()\n",
    "qobj=assemble(qc1)\n",
    "job=sv_sim.run(qobj)\n",
    "ket=job.result().get_statevector()\n",
    "print(ket)"
   ]
  },
  {
   "cell_type": "code",
   "execution_count": null,
   "id": "4446bb5b-32ce-4546-b599-896cab240cab",
   "metadata": {},
   "outputs": [],
   "source": []
  }
 ],
 "metadata": {
  "kernelspec": {
   "display_name": "Qiskit v0.34.1 (ipykernel)",
   "language": "python",
   "name": "python3"
  },
  "language_info": {
   "codemirror_mode": {
    "name": "ipython",
    "version": 3
   },
   "file_extension": ".py",
   "mimetype": "text/x-python",
   "name": "python",
   "nbconvert_exporter": "python",
   "pygments_lexer": "ipython3",
   "version": "3.8.12"
  },
  "widgets": {
   "application/vnd.jupyter.widget-state+json": {
    "state": {
     "060616ee2d3c43ea84e6ab226ce182f4": {
      "model_module": "@jupyter-widgets/controls",
      "model_module_version": "1.5.0",
      "model_name": "DescriptionStyleModel",
      "state": {
       "description_width": ""
      }
     },
     "09ce49dcfc8647bbb40f007616b389e8": {
      "model_module": "@jupyter-widgets/controls",
      "model_module_version": "1.5.0",
      "model_name": "HTMLModel",
      "state": {
       "layout": "IPY_MODEL_0c3ffa2ee4644374abd6075715250cb3",
       "style": "IPY_MODEL_20a6712a13cf42babb9a7a45a8bc8313",
       "value": "<h5>Backend</h5>"
      }
     },
     "0c3ffa2ee4644374abd6075715250cb3": {
      "model_module": "@jupyter-widgets/base",
      "model_module_version": "1.2.0",
      "model_name": "LayoutModel",
      "state": {
       "width": "145px"
      }
     },
     "11c57b8684ad4031bec1fd885ffbd5e4": {
      "model_module": "@jupyter-widgets/controls",
      "model_module_version": "1.5.0",
      "model_name": "GridBoxModel",
      "state": {
       "children": [
        "IPY_MODEL_8e95d39f121a4adbafc0d9489e766c30"
       ],
       "layout": "IPY_MODEL_444dd1cbe36a41f09bfbdb51f70bc0cf"
      }
     },
     "1a6b23282dcd4e24a95ba1ffbe236fd1": {
      "model_module": "@jupyter-widgets/base",
      "model_module_version": "1.2.0",
      "model_name": "LayoutModel",
      "state": {}
     },
     "1e09552be565443ca36f3de8356fd2d0": {
      "model_module": "@jupyter-widgets/controls",
      "model_module_version": "1.5.0",
      "model_name": "DescriptionStyleModel",
      "state": {
       "description_width": ""
      }
     },
     "1e8a82c4b6c8464f9a79c6ea48bb142f": {
      "model_module": "@jupyter-widgets/controls",
      "model_module_version": "1.5.0",
      "model_name": "HBoxModel",
      "state": {
       "children": [
        "IPY_MODEL_29304f1a7b2f475cb606759a2cdd5b8c",
        "IPY_MODEL_09ce49dcfc8647bbb40f007616b389e8",
        "IPY_MODEL_7aebe0bd716c4213afcca96728ea0259",
        "IPY_MODEL_21c992dc34dc41f78702ce8df03b8654",
        "IPY_MODEL_7e2bad7a9477454094e7b3dd2b5b73a9"
       ],
       "layout": "IPY_MODEL_6aa6c56698be4fc4b6236b8f8437d22d"
      }
     },
     "20a6712a13cf42babb9a7a45a8bc8313": {
      "model_module": "@jupyter-widgets/controls",
      "model_module_version": "1.5.0",
      "model_name": "DescriptionStyleModel",
      "state": {
       "description_width": ""
      }
     },
     "21c992dc34dc41f78702ce8df03b8654": {
      "model_module": "@jupyter-widgets/controls",
      "model_module_version": "1.5.0",
      "model_name": "HTMLModel",
      "state": {
       "layout": "IPY_MODEL_b376b710decb43138d384d3f93683bc1",
       "style": "IPY_MODEL_a1e850b56e7e4e62a6896e09f81b7b91",
       "value": "<h5>Queue</h5>"
      }
     },
     "29304f1a7b2f475cb606759a2cdd5b8c": {
      "model_module": "@jupyter-widgets/controls",
      "model_module_version": "1.5.0",
      "model_name": "HTMLModel",
      "state": {
       "layout": "IPY_MODEL_d92027ba782b4680bba9dd96f12b564d",
       "style": "IPY_MODEL_a189461235fc4aee84da0183e6d7f793",
       "value": "<h5>Job ID</h5>"
      }
     },
     "2fe819a9f9824ec5aa970d88297d475a": {
      "model_module": "@jupyter-widgets/base",
      "model_module_version": "1.2.0",
      "model_name": "LayoutModel",
      "state": {
       "width": "95px"
      }
     },
     "444dd1cbe36a41f09bfbdb51f70bc0cf": {
      "model_module": "@jupyter-widgets/base",
      "model_module_version": "1.2.0",
      "model_name": "LayoutModel",
      "state": {
       "grid_template_areas": "\n                                       \". . . . right \"\n                                        ",
       "grid_template_columns": "20% 20% 20% 20% 20%",
       "width": "100%"
      }
     },
     "49574adf1c504929bcd9e3a714ed5a04": {
      "model_module": "@jupyter-widgets/base",
      "model_module_version": "1.2.0",
      "model_name": "LayoutModel",
      "state": {
       "margin": "0px 0px 10px 0px"
      }
     },
     "6aa6c56698be4fc4b6236b8f8437d22d": {
      "model_module": "@jupyter-widgets/base",
      "model_module_version": "1.2.0",
      "model_name": "LayoutModel",
      "state": {
       "margin": "0px 0px 0px 37px",
       "width": "600px"
      }
     },
     "7aebe0bd716c4213afcca96728ea0259": {
      "model_module": "@jupyter-widgets/controls",
      "model_module_version": "1.5.0",
      "model_name": "HTMLModel",
      "state": {
       "layout": "IPY_MODEL_2fe819a9f9824ec5aa970d88297d475a",
       "style": "IPY_MODEL_a2f89d3069c541ad8884b84e3117a900",
       "value": "<h5>Status</h5>"
      }
     },
     "7e2bad7a9477454094e7b3dd2b5b73a9": {
      "model_module": "@jupyter-widgets/controls",
      "model_module_version": "1.5.0",
      "model_name": "HTMLModel",
      "state": {
       "layout": "IPY_MODEL_1a6b23282dcd4e24a95ba1ffbe236fd1",
       "style": "IPY_MODEL_060616ee2d3c43ea84e6ab226ce182f4",
       "value": "<h5>Message</h5>"
      }
     },
     "8e95d39f121a4adbafc0d9489e766c30": {
      "model_module": "@jupyter-widgets/controls",
      "model_module_version": "1.5.0",
      "model_name": "ButtonModel",
      "state": {
       "button_style": "primary",
       "description": "Clear",
       "layout": "IPY_MODEL_b8cdc117e122498d89259da0dea2a45d",
       "style": "IPY_MODEL_cf90f7044f6a43a695ff23276bd7d3f0"
      }
     },
     "a189461235fc4aee84da0183e6d7f793": {
      "model_module": "@jupyter-widgets/controls",
      "model_module_version": "1.5.0",
      "model_name": "DescriptionStyleModel",
      "state": {
       "description_width": ""
      }
     },
     "a1e850b56e7e4e62a6896e09f81b7b91": {
      "model_module": "@jupyter-widgets/controls",
      "model_module_version": "1.5.0",
      "model_name": "DescriptionStyleModel",
      "state": {
       "description_width": ""
      }
     },
     "a2f89d3069c541ad8884b84e3117a900": {
      "model_module": "@jupyter-widgets/controls",
      "model_module_version": "1.5.0",
      "model_name": "DescriptionStyleModel",
      "state": {
       "description_width": ""
      }
     },
     "b376b710decb43138d384d3f93683bc1": {
      "model_module": "@jupyter-widgets/base",
      "model_module_version": "1.2.0",
      "model_name": "LayoutModel",
      "state": {
       "width": "70px"
      }
     },
     "b8cdc117e122498d89259da0dea2a45d": {
      "model_module": "@jupyter-widgets/base",
      "model_module_version": "1.2.0",
      "model_name": "LayoutModel",
      "state": {
       "grid_area": "right",
       "padding": "0px 0px 0px 0px",
       "width": "70px"
      }
     },
     "cf90f7044f6a43a695ff23276bd7d3f0": {
      "model_module": "@jupyter-widgets/controls",
      "model_module_version": "1.5.0",
      "model_name": "ButtonStyleModel",
      "state": {}
     },
     "d92027ba782b4680bba9dd96f12b564d": {
      "model_module": "@jupyter-widgets/base",
      "model_module_version": "1.2.0",
      "model_name": "LayoutModel",
      "state": {
       "width": "190px"
      }
     },
     "dd1ed78adb4047da9ed239035b12b089": {
      "model_module": "@jupyter-widgets/controls",
      "model_module_version": "1.5.0",
      "model_name": "HTMLModel",
      "state": {
       "layout": "IPY_MODEL_49574adf1c504929bcd9e3a714ed5a04",
       "style": "IPY_MODEL_1e09552be565443ca36f3de8356fd2d0",
       "value": "<p style='font-family: IBM Plex Sans, Arial, Helvetica, sans-serif; font-size: 20px; font-weight: medium;'>Circuit Properties</p>"
      }
     }
    },
    "version_major": 2,
    "version_minor": 0
   }
  }
 },
 "nbformat": 4,
 "nbformat_minor": 5
}
