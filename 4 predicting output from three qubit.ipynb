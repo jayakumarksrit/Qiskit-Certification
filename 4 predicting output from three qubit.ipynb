{
 "cells": [
  {
   "cell_type": "code",
   "execution_count": 1,
   "id": "6bbd4fc5-ccc6-482b-97b8-d52a7614deb4",
   "metadata": {},
   "outputs": [],
   "source": [
    "import numpy as np\n",
    "\n",
    "# Importing standard Qiskit libraries\n",
    "from qiskit import qiskit, QuantumCircuit, transpile, Aer, IBMQ, BasicAer\n",
    "from qiskit.tools.jupyter import *\n",
    "from qiskit.visualization import *\n",
    "from ibm_quantum_widgets import *\n",
    "from qiskit.providers.aer import QasmSimulator\n",
    "\n",
    "# Loading your IBM Quantum account(s)\n",
    "provider = IBMQ.load_account()"
   ]
  },
  {
   "cell_type": "code",
   "execution_count": 6,
   "id": "f8c3f667-a563-485b-bbbc-909d6b618ec4",
   "metadata": {},
   "outputs": [
    {
     "name": "stdout",
     "output_type": "stream",
     "text": [
      "{'011': 516, '010': 484}\n"
     ]
    }
   ],
   "source": [
    "qc=QuantumCircuit(3,3)\n",
    "qc.h(0)\n",
    "qc.x(1)\n",
    "qc.measure(range(3),range(3))\n",
    "backend=BasicAer.get_backend('qasm_simulator')\n",
    "result=qiskit.execute(qc,backend,shots=1000).result()\n",
    "print(result.get_counts())\n"
   ]
  },
  {
   "cell_type": "code",
   "execution_count": 9,
   "id": "fab0e104-c7ff-4cc4-9ef3-da1532e8ee2a",
   "metadata": {},
   "outputs": [
    {
     "name": "stdout",
     "output_type": "stream",
     "text": [
      "{'101': 136, '010': 118, '111': 125, '001': 123, '011': 120, '000': 132, '110': 134, '100': 112}\n"
     ]
    }
   ],
   "source": [
    "qc=QuantumCircuit(3,3)\n",
    "qc.h(0)\n",
    "qc.h(1)\n",
    "qc.h(2)\n",
    "#qc.x(1)\n",
    "qc.measure(range(3),range(3))\n",
    "backend=BasicAer.get_backend('qasm_simulator')\n",
    "result=qiskit.execute(qc,backend,shots=1000).result()\n",
    "print(result.get_counts())"
   ]
  },
  {
   "cell_type": "code",
   "execution_count": null,
   "id": "28a1c09e-ac72-4939-9b0f-9b2f24c7f208",
   "metadata": {},
   "outputs": [],
   "source": []
  }
 ],
 "metadata": {
  "kernelspec": {
   "display_name": "Qiskit v0.34.1 (ipykernel)",
   "language": "python",
   "name": "python3"
  },
  "language_info": {
   "codemirror_mode": {
    "name": "ipython",
    "version": 3
   },
   "file_extension": ".py",
   "mimetype": "text/x-python",
   "name": "python",
   "nbconvert_exporter": "python",
   "pygments_lexer": "ipython3",
   "version": "3.8.10"
  },
  "widgets": {
   "application/vnd.jupyter.widget-state+json": {
    "state": {
     "0ad0e255949e4425a4c3f78c6bda00e5": {
      "model_module": "@jupyter-widgets/controls",
      "model_module_version": "1.5.0",
      "model_name": "HTMLModel",
      "state": {
       "layout": "IPY_MODEL_dad25203a0654ae2a4d7bb798eae3c30",
       "style": "IPY_MODEL_e83a47567cd14e81897c7331fb70e214",
       "value": "<h5>Backend</h5>"
      }
     },
     "21641613199146568e8ed4116a4fabe0": {
      "model_module": "@jupyter-widgets/base",
      "model_module_version": "1.2.0",
      "model_name": "LayoutModel",
      "state": {
       "grid_area": "right",
       "padding": "0px 0px 0px 0px",
       "width": "70px"
      }
     },
     "293d57f4cbef476eb57167008bdb8885": {
      "model_module": "@jupyter-widgets/base",
      "model_module_version": "1.2.0",
      "model_name": "LayoutModel",
      "state": {
       "grid_template_areas": "\n                                       \". . . . right \"\n                                        ",
       "grid_template_columns": "20% 20% 20% 20% 20%",
       "width": "100%"
      }
     },
     "2a47e067dd274b049d5bc838ac515f95": {
      "model_module": "@jupyter-widgets/base",
      "model_module_version": "1.2.0",
      "model_name": "LayoutModel",
      "state": {
       "width": "95px"
      }
     },
     "32c62bf635ac4989a78f77bcccf8e6dd": {
      "model_module": "@jupyter-widgets/base",
      "model_module_version": "1.2.0",
      "model_name": "LayoutModel",
      "state": {
       "width": "190px"
      }
     },
     "376988b7dffc4cc3a7b93eacfb4a1455": {
      "model_module": "@jupyter-widgets/controls",
      "model_module_version": "1.5.0",
      "model_name": "DescriptionStyleModel",
      "state": {
       "description_width": ""
      }
     },
     "41e32e23a3f145b3a0f312861c89eb3a": {
      "model_module": "@jupyter-widgets/base",
      "model_module_version": "1.2.0",
      "model_name": "LayoutModel",
      "state": {
       "margin": "0px 0px 0px 37px",
       "width": "600px"
      }
     },
     "4980a9c232de4988870ec662b878bd9f": {
      "model_module": "@jupyter-widgets/controls",
      "model_module_version": "1.5.0",
      "model_name": "GridBoxModel",
      "state": {
       "children": [
        "IPY_MODEL_e7f14992bbc946c0af9b2085d932024b"
       ],
       "layout": "IPY_MODEL_293d57f4cbef476eb57167008bdb8885"
      }
     },
     "4d19ff56189a43f3adb32d22f06a4a32": {
      "model_module": "@jupyter-widgets/controls",
      "model_module_version": "1.5.0",
      "model_name": "HTMLModel",
      "state": {
       "layout": "IPY_MODEL_933cc9549edd46879f7fd6b29277664b",
       "style": "IPY_MODEL_a9226c0d29ed4a3ba25949e11b2095ec",
       "value": "<h5>Queue</h5>"
      }
     },
     "6e7f3244bde9483c8d7588bac1b3f866": {
      "model_module": "@jupyter-widgets/controls",
      "model_module_version": "1.5.0",
      "model_name": "DescriptionStyleModel",
      "state": {
       "description_width": ""
      }
     },
     "7fcaa19249be444a9da8db7e050f40e3": {
      "model_module": "@jupyter-widgets/controls",
      "model_module_version": "1.5.0",
      "model_name": "HBoxModel",
      "state": {
       "children": [
        "IPY_MODEL_a1fff1c0605644da8d694a2f456cb462",
        "IPY_MODEL_0ad0e255949e4425a4c3f78c6bda00e5",
        "IPY_MODEL_e5e190ae2ba04ff3b993061d3d97a3fa",
        "IPY_MODEL_4d19ff56189a43f3adb32d22f06a4a32",
        "IPY_MODEL_f1b775a31aec4bc29470c5637b7a4f25"
       ],
       "layout": "IPY_MODEL_41e32e23a3f145b3a0f312861c89eb3a"
      }
     },
     "933cc9549edd46879f7fd6b29277664b": {
      "model_module": "@jupyter-widgets/base",
      "model_module_version": "1.2.0",
      "model_name": "LayoutModel",
      "state": {
       "width": "70px"
      }
     },
     "9a4bc96b935b42f8b1bb65abac6b8c6c": {
      "model_module": "@jupyter-widgets/controls",
      "model_module_version": "1.5.0",
      "model_name": "DescriptionStyleModel",
      "state": {
       "description_width": ""
      }
     },
     "a1fff1c0605644da8d694a2f456cb462": {
      "model_module": "@jupyter-widgets/controls",
      "model_module_version": "1.5.0",
      "model_name": "HTMLModel",
      "state": {
       "layout": "IPY_MODEL_32c62bf635ac4989a78f77bcccf8e6dd",
       "style": "IPY_MODEL_6e7f3244bde9483c8d7588bac1b3f866",
       "value": "<h5>Job ID</h5>"
      }
     },
     "a5abd243b4ff42058b9941f109f422e6": {
      "model_module": "@jupyter-widgets/controls",
      "model_module_version": "1.5.0",
      "model_name": "DescriptionStyleModel",
      "state": {
       "description_width": ""
      }
     },
     "a9226c0d29ed4a3ba25949e11b2095ec": {
      "model_module": "@jupyter-widgets/controls",
      "model_module_version": "1.5.0",
      "model_name": "DescriptionStyleModel",
      "state": {
       "description_width": ""
      }
     },
     "cb7492a5475d435094373c77a2abbec7": {
      "model_module": "@jupyter-widgets/base",
      "model_module_version": "1.2.0",
      "model_name": "LayoutModel",
      "state": {}
     },
     "dad25203a0654ae2a4d7bb798eae3c30": {
      "model_module": "@jupyter-widgets/base",
      "model_module_version": "1.2.0",
      "model_name": "LayoutModel",
      "state": {
       "width": "145px"
      }
     },
     "e5e190ae2ba04ff3b993061d3d97a3fa": {
      "model_module": "@jupyter-widgets/controls",
      "model_module_version": "1.5.0",
      "model_name": "HTMLModel",
      "state": {
       "layout": "IPY_MODEL_2a47e067dd274b049d5bc838ac515f95",
       "style": "IPY_MODEL_a5abd243b4ff42058b9941f109f422e6",
       "value": "<h5>Status</h5>"
      }
     },
     "e7f14992bbc946c0af9b2085d932024b": {
      "model_module": "@jupyter-widgets/controls",
      "model_module_version": "1.5.0",
      "model_name": "ButtonModel",
      "state": {
       "button_style": "primary",
       "description": "Clear",
       "layout": "IPY_MODEL_21641613199146568e8ed4116a4fabe0",
       "style": "IPY_MODEL_f9539838c1864f8a856dd90a90e59083"
      }
     },
     "e83a47567cd14e81897c7331fb70e214": {
      "model_module": "@jupyter-widgets/controls",
      "model_module_version": "1.5.0",
      "model_name": "DescriptionStyleModel",
      "state": {
       "description_width": ""
      }
     },
     "f1b775a31aec4bc29470c5637b7a4f25": {
      "model_module": "@jupyter-widgets/controls",
      "model_module_version": "1.5.0",
      "model_name": "HTMLModel",
      "state": {
       "layout": "IPY_MODEL_cb7492a5475d435094373c77a2abbec7",
       "style": "IPY_MODEL_9a4bc96b935b42f8b1bb65abac6b8c6c",
       "value": "<h5>Message</h5>"
      }
     },
     "f78d3fcad17c489aa123fcddc7fcc2ab": {
      "model_module": "@jupyter-widgets/controls",
      "model_module_version": "1.5.0",
      "model_name": "HTMLModel",
      "state": {
       "layout": "IPY_MODEL_ffc00ae687db4b99bb712b65002b9eef",
       "style": "IPY_MODEL_376988b7dffc4cc3a7b93eacfb4a1455",
       "value": "<p style='font-family: IBM Plex Sans, Arial, Helvetica, sans-serif; font-size: 20px; font-weight: medium;'>Circuit Properties</p>"
      }
     },
     "f9539838c1864f8a856dd90a90e59083": {
      "model_module": "@jupyter-widgets/controls",
      "model_module_version": "1.5.0",
      "model_name": "ButtonStyleModel",
      "state": {}
     },
     "ffc00ae687db4b99bb712b65002b9eef": {
      "model_module": "@jupyter-widgets/base",
      "model_module_version": "1.2.0",
      "model_name": "LayoutModel",
      "state": {
       "margin": "0px 0px 10px 0px"
      }
     }
    },
    "version_major": 2,
    "version_minor": 0
   }
  }
 },
 "nbformat": 4,
 "nbformat_minor": 5
}
