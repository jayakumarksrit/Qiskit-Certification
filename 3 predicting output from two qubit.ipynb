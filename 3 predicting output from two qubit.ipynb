{
 "cells": [
  {
   "cell_type": "code",
   "execution_count": 11,
   "id": "a318de9e-b00d-4cdd-a2a7-1fc20a70ec1d",
   "metadata": {},
   "outputs": [
    {
     "name": "stderr",
     "output_type": "stream",
     "text": [
      "ibmqfactory.load_account:WARNING:2022-01-09 14:45:20,905: Credentials are already in use. The existing account in the session will be replaced.\n"
     ]
    }
   ],
   "source": [
    "import numpy as np\n",
    "\n",
    "# Importing standard Qiskit libraries\n",
    "from qiskit import qiskit, QuantumCircuit, transpile, Aer, IBMQ, BasicAer\n",
    "from qiskit.tools.jupyter import *\n",
    "from qiskit.visualization import *\n",
    "from ibm_quantum_widgets import *\n",
    "from qiskit.providers.aer import QasmSimulator\n",
    "\n",
    "# Loading your IBM Quantum account(s)\n",
    "provider = IBMQ.load_account()"
   ]
  },
  {
   "cell_type": "code",
   "execution_count": 14,
   "id": "337e55ad-295f-412a-9553-e038877c3e70",
   "metadata": {},
   "outputs": [
    {
     "name": "stdout",
     "output_type": "stream",
     "text": [
      "{'00': 1000}\n"
     ]
    }
   ],
   "source": [
    "qc=QuantumCircuit(2,2)\n",
    "qc.measure([0,1],[0,1])\n",
    "backend=BasicAer.get_backend('qasm_simulator')\n",
    "result=qiskit.execute(qc,backend,shots=1000).result()\n",
    "print(result.get_counts())"
   ]
  },
  {
   "cell_type": "code",
   "execution_count": 15,
   "id": "337246ba-2a6d-42b3-8289-6322d33a074f",
   "metadata": {},
   "outputs": [
    {
     "name": "stdout",
     "output_type": "stream",
     "text": [
      "{'10': 1000}\n"
     ]
    }
   ],
   "source": [
    "qc=QuantumCircuit(2,2)\n",
    "qc.x(1)\n",
    "qc.measure([0,1],[0,1])\n",
    "backend=BasicAer.get_backend('qasm_simulator')\n",
    "result=qiskit.execute(qc,backend,shots=1000).result()\n",
    "print(result.get_counts())"
   ]
  },
  {
   "cell_type": "code",
   "execution_count": 16,
   "id": "dee3692e-f4a2-49e6-94eb-ff796031ec0a",
   "metadata": {},
   "outputs": [
    {
     "name": "stdout",
     "output_type": "stream",
     "text": [
      "{'10': 504, '00': 496}\n"
     ]
    }
   ],
   "source": [
    "qc=QuantumCircuit(2,2)\n",
    "qc.h(1)\n",
    "qc.measure([0,1],[0,1])\n",
    "backend=BasicAer.get_backend('qasm_simulator')\n",
    "result=qiskit.execute(qc,backend,shots=1000).result()\n",
    "print(result.get_counts())"
   ]
  },
  {
   "cell_type": "code",
   "execution_count": 18,
   "id": "4ed09cf7-5755-490c-918e-469012564715",
   "metadata": {},
   "outputs": [
    {
     "name": "stdout",
     "output_type": "stream",
     "text": [
      "{'00': 263, '11': 229, '01': 276, '10': 232}\n"
     ]
    }
   ],
   "source": [
    "qc=QuantumCircuit(2,2)\n",
    "qc.h(0)\n",
    "qc.h(1)\n",
    "qc.measure([0,1],[0,1])\n",
    "backend=BasicAer.get_backend('qasm_simulator')\n",
    "result=qiskit.execute(qc,backend,shots=1000).result()\n",
    "print(result.get_counts())"
   ]
  },
  {
   "cell_type": "code",
   "execution_count": null,
   "id": "b9aef156-11d9-4060-9c07-30517ce4476b",
   "metadata": {},
   "outputs": [],
   "source": []
  }
 ],
 "metadata": {
  "kernelspec": {
   "display_name": "Qiskit v0.34.1 (ipykernel)",
   "language": "python",
   "name": "python3"
  },
  "language_info": {
   "codemirror_mode": {
    "name": "ipython",
    "version": 3
   },
   "file_extension": ".py",
   "mimetype": "text/x-python",
   "name": "python",
   "nbconvert_exporter": "python",
   "pygments_lexer": "ipython3",
   "version": "3.8.10"
  },
  "widgets": {
   "application/vnd.jupyter.widget-state+json": {
    "state": {
     "0121074c69bd4f448368796728c6f547": {
      "model_module": "@jupyter-widgets/controls",
      "model_module_version": "1.5.0",
      "model_name": "DescriptionStyleModel",
      "state": {
       "description_width": ""
      }
     },
     "0d124c24b8df4e6db337d468c5760b97": {
      "model_module": "@jupyter-widgets/base",
      "model_module_version": "1.2.0",
      "model_name": "LayoutModel",
      "state": {
       "width": "70px"
      }
     },
     "21b806976b2742e482b43d44059b3d62": {
      "model_module": "@jupyter-widgets/controls",
      "model_module_version": "1.5.0",
      "model_name": "HTMLModel",
      "state": {
       "layout": "IPY_MODEL_34385f2bedc64a44840e36d46f447ea7",
       "style": "IPY_MODEL_4e757d046f8745708737c832b549c8c5",
       "value": "<h5>Job ID</h5>"
      }
     },
     "2e8a11f056554b60a22625bb57b8a108": {
      "model_module": "@jupyter-widgets/controls",
      "model_module_version": "1.5.0",
      "model_name": "ButtonModel",
      "state": {
       "button_style": "primary",
       "description": "Clear",
       "layout": "IPY_MODEL_5f7c1fa0071e4ed59413f159d34ef802",
       "style": "IPY_MODEL_575eda8e85634565855e9df3fd890cb9"
      }
     },
     "34385f2bedc64a44840e36d46f447ea7": {
      "model_module": "@jupyter-widgets/base",
      "model_module_version": "1.2.0",
      "model_name": "LayoutModel",
      "state": {
       "width": "190px"
      }
     },
     "357fcee3502543a594cca3648dd87d92": {
      "model_module": "@jupyter-widgets/base",
      "model_module_version": "1.2.0",
      "model_name": "LayoutModel",
      "state": {
       "grid_template_areas": "\n                                       \". . . . right \"\n                                        ",
       "grid_template_columns": "20% 20% 20% 20% 20%",
       "width": "100%"
      }
     },
     "372a946273dd49b995f7b007accb2a7c": {
      "model_module": "@jupyter-widgets/controls",
      "model_module_version": "1.5.0",
      "model_name": "HTMLModel",
      "state": {
       "layout": "IPY_MODEL_d90e16829d9b4704af3efc259ff22ade",
       "style": "IPY_MODEL_7bd9fc9c8b874a31b08a1b022b67627e",
       "value": "<h5>Status</h5>"
      }
     },
     "3ea6e04f3128491fac767dc0c0a19142": {
      "model_module": "@jupyter-widgets/base",
      "model_module_version": "1.2.0",
      "model_name": "LayoutModel",
      "state": {
       "width": "145px"
      }
     },
     "4e757d046f8745708737c832b549c8c5": {
      "model_module": "@jupyter-widgets/controls",
      "model_module_version": "1.5.0",
      "model_name": "DescriptionStyleModel",
      "state": {
       "description_width": ""
      }
     },
     "575eda8e85634565855e9df3fd890cb9": {
      "model_module": "@jupyter-widgets/controls",
      "model_module_version": "1.5.0",
      "model_name": "ButtonStyleModel",
      "state": {}
     },
     "5f7c1fa0071e4ed59413f159d34ef802": {
      "model_module": "@jupyter-widgets/base",
      "model_module_version": "1.2.0",
      "model_name": "LayoutModel",
      "state": {
       "grid_area": "right",
       "padding": "0px 0px 0px 0px",
       "width": "70px"
      }
     },
     "7b430f1f688a439a97d61713d5c94c24": {
      "model_module": "@jupyter-widgets/controls",
      "model_module_version": "1.5.0",
      "model_name": "HTMLModel",
      "state": {
       "layout": "IPY_MODEL_0d124c24b8df4e6db337d468c5760b97",
       "style": "IPY_MODEL_c95b895f06a34504b80c75a8c0298a2e",
       "value": "<h5>Queue</h5>"
      }
     },
     "7bd9fc9c8b874a31b08a1b022b67627e": {
      "model_module": "@jupyter-widgets/controls",
      "model_module_version": "1.5.0",
      "model_name": "DescriptionStyleModel",
      "state": {
       "description_width": ""
      }
     },
     "8e4c71f2674b4c40bed102f628012285": {
      "model_module": "@jupyter-widgets/base",
      "model_module_version": "1.2.0",
      "model_name": "LayoutModel",
      "state": {
       "margin": "0px 0px 10px 0px"
      }
     },
     "8f636dd3e4354b1082c25b51de4512d7": {
      "model_module": "@jupyter-widgets/controls",
      "model_module_version": "1.5.0",
      "model_name": "DescriptionStyleModel",
      "state": {
       "description_width": ""
      }
     },
     "b0e98d0c6c1645559da2a6e272463a1f": {
      "model_module": "@jupyter-widgets/controls",
      "model_module_version": "1.5.0",
      "model_name": "HTMLModel",
      "state": {
       "layout": "IPY_MODEL_be2df455e8a14f74854ef1412eca6589",
       "style": "IPY_MODEL_0121074c69bd4f448368796728c6f547",
       "value": "<h5>Message</h5>"
      }
     },
     "bd2f26a3009a4f48b592c33b3b75614a": {
      "model_module": "@jupyter-widgets/controls",
      "model_module_version": "1.5.0",
      "model_name": "DescriptionStyleModel",
      "state": {
       "description_width": ""
      }
     },
     "be2df455e8a14f74854ef1412eca6589": {
      "model_module": "@jupyter-widgets/base",
      "model_module_version": "1.2.0",
      "model_name": "LayoutModel",
      "state": {}
     },
     "c1b92c7e53504f87a8137940732cb5c7": {
      "model_module": "@jupyter-widgets/base",
      "model_module_version": "1.2.0",
      "model_name": "LayoutModel",
      "state": {
       "margin": "0px 0px 0px 37px",
       "width": "600px"
      }
     },
     "c733519231274e579ec85a4553bf1c19": {
      "model_module": "@jupyter-widgets/controls",
      "model_module_version": "1.5.0",
      "model_name": "HBoxModel",
      "state": {
       "children": [
        "IPY_MODEL_21b806976b2742e482b43d44059b3d62",
        "IPY_MODEL_e4c3771cc86f4b49adbf337e7754155a",
        "IPY_MODEL_372a946273dd49b995f7b007accb2a7c",
        "IPY_MODEL_7b430f1f688a439a97d61713d5c94c24",
        "IPY_MODEL_b0e98d0c6c1645559da2a6e272463a1f"
       ],
       "layout": "IPY_MODEL_c1b92c7e53504f87a8137940732cb5c7"
      }
     },
     "c95b895f06a34504b80c75a8c0298a2e": {
      "model_module": "@jupyter-widgets/controls",
      "model_module_version": "1.5.0",
      "model_name": "DescriptionStyleModel",
      "state": {
       "description_width": ""
      }
     },
     "d90e16829d9b4704af3efc259ff22ade": {
      "model_module": "@jupyter-widgets/base",
      "model_module_version": "1.2.0",
      "model_name": "LayoutModel",
      "state": {
       "width": "95px"
      }
     },
     "e4c3771cc86f4b49adbf337e7754155a": {
      "model_module": "@jupyter-widgets/controls",
      "model_module_version": "1.5.0",
      "model_name": "HTMLModel",
      "state": {
       "layout": "IPY_MODEL_3ea6e04f3128491fac767dc0c0a19142",
       "style": "IPY_MODEL_8f636dd3e4354b1082c25b51de4512d7",
       "value": "<h5>Backend</h5>"
      }
     },
     "f42831b701c94e22bee79dc6f14ddbc2": {
      "model_module": "@jupyter-widgets/controls",
      "model_module_version": "1.5.0",
      "model_name": "HTMLModel",
      "state": {
       "layout": "IPY_MODEL_8e4c71f2674b4c40bed102f628012285",
       "style": "IPY_MODEL_bd2f26a3009a4f48b592c33b3b75614a",
       "value": "<p style='font-family: IBM Plex Sans, Arial, Helvetica, sans-serif; font-size: 20px; font-weight: medium;'>Circuit Properties</p>"
      }
     },
     "fdfc3e79696948f6822987140666b50f": {
      "model_module": "@jupyter-widgets/controls",
      "model_module_version": "1.5.0",
      "model_name": "GridBoxModel",
      "state": {
       "children": [
        "IPY_MODEL_2e8a11f056554b60a22625bb57b8a108"
       ],
       "layout": "IPY_MODEL_357fcee3502543a594cca3648dd87d92"
      }
     }
    },
    "version_major": 2,
    "version_minor": 0
   }
  }
 },
 "nbformat": 4,
 "nbformat_minor": 5
}
