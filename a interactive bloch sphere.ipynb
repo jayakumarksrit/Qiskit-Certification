{
 "cells": [
  {
   "cell_type": "code",
   "execution_count": 1,
   "id": "b42020f1-2195-4b4c-8103-8df48dc37cbe",
   "metadata": {},
   "outputs": [],
   "source": [
    "import numpy as np\n",
    "\n",
    "# Importing standard Qiskit libraries\n",
    "from qiskit import QuantumCircuit, transpile, Aer, IBMQ\n",
    "from qiskit.tools.jupyter import *\n",
    "from qiskit.visualization import *\n",
    "from ibm_quantum_widgets import *\n",
    "from qiskit.providers.aer import QasmSimulator\n",
    "\n",
    "# Loading your IBM Quantum account(s)\n",
    "provider = IBMQ.load_account()"
   ]
  },
  {
   "cell_type": "code",
   "execution_count": null,
   "id": "34585f69-a9d1-490e-a054-a772326a01c1",
   "metadata": {},
   "outputs": [
    {
     "name": "stdout",
     "output_type": "stream",
     "text": [
      "Traceback \u001b[1;36m(most recent call last)\u001b[0m:\n",
      "  Input \u001b[0;32mIn [2]\u001b[0m in \u001b[0;35m<module>\u001b[0m\n",
      "    import kaleidoscope.qiskit\n",
      "  File \u001b[0;32m/opt/conda/lib/python3.8/site-packages/kaleidoscope/__init__.py:26\u001b[0m in \u001b[0;35m<module>\u001b[0m\n",
      "    from kaleidoscope.interactive import *\n",
      "  File \u001b[0;32m/opt/conda/lib/python3.8/site-packages/kaleidoscope/interactive/__init__.py:51\u001b[0m in \u001b[0;35m<module>\u001b[0m\n",
      "    from .bloch.bloch2d import bloch_disc, bloch_multi_disc\n",
      "  File \u001b[0;32m/opt/conda/lib/python3.8/site-packages/kaleidoscope/interactive/bloch/__init__.py:15\u001b[0m in \u001b[0;35m<module>\u001b[0m\n",
      "    from .bloch2d import bloch_disc, bloch_multi_disc\n",
      "  File \u001b[0;32m/opt/conda/lib/python3.8/site-packages/kaleidoscope/interactive/bloch/bloch2d.py:26\u001b[0m in \u001b[0;35m<module>\u001b[0m\n",
      "    from kaleidoscope.interactive.bloch.utils import bloch_components\n",
      "  File \u001b[0;32m/opt/conda/lib/python3.8/site-packages/kaleidoscope/interactive/bloch/utils.py:19\u001b[0m in \u001b[0;35m<module>\u001b[0m\n",
      "    from numba import vectorize, uint32, int32, complex128, jit, prange\n",
      "  File \u001b[0;32m/opt/conda/lib/python3.8/site-packages/numba/__init__.py:200\u001b[0m in \u001b[0;35m<module>\u001b[0m\n",
      "    _ensure_critical_deps()\n",
      "\u001b[1;36m  File \u001b[1;32m/opt/conda/lib/python3.8/site-packages/numba/__init__.py:140\u001b[1;36m in \u001b[1;35m_ensure_critical_deps\u001b[1;36m\u001b[0m\n",
      "\u001b[1;33m    raise ImportError(\"Numba needs NumPy 1.21 or less\")\u001b[0m\n",
      "\u001b[1;31mImportError\u001b[0m\u001b[1;31m:\u001b[0m Numba needs NumPy 1.21 or less\n",
      "\n",
      "Use %tb to get the full traceback.\n"
     ]
    },
    {
     "data": {
      "text/html": [
       "\n",
       "<style>\n",
       ".button {\n",
       "  border: none;\n",
       "  color: white;\n",
       "  padding: 4px 8px;\n",
       "  text-align: center;\n",
       "  text-decoration: none;\n",
       "  display: inline-block;\n",
       "  font-size: 12px;\n",
       "  margin: 4px 2px;\n",
       "  transition-duration: 0.2s;\n",
       "  cursor: pointer;\n",
       "}\n",
       ".iqx-button {\n",
       "  background-color: #0f62fe; \n",
       "  color: white; \n",
       "}\n",
       ".iqx-button:hover {\n",
       "  background-color: #0043ce;\n",
       "  color: white;\n",
       "}\n",
       "</style>\n",
       "<a href=\"https://stackoverflow.com/search?q=ImportError: Numba needs NumPy 1.21 or less\" target='_blank'><button class='button iqx-button'>Search for solution online</button></a>\n"
      ],
      "text/plain": [
       "<IPython.core.display.HTML object>"
      ]
     },
     "metadata": {},
     "output_type": "display_data"
    }
   ],
   "source": [
    "from qiskit import QuantumCircuit\n",
    "from qiskit.quantum_info import Statevector\n",
    "import kaleidoscope.qiskit\n",
    "from kaleidoscope.interactive import qsphere\n",
    "\n",
    "qc = QuantumCircuit(3)\n",
    "qc.h(range(3))\n",
    "qc.ch(0,1)\n",
    "qc.s(2)\n",
    "qc.cz(2,1)\n",
    "state = qc.statevector()\n",
    "\n",
    "qsphere(state)\n"
   ]
  },
  {
   "cell_type": "code",
   "execution_count": null,
   "id": "2e2a1648-297c-46b4-bea6-7081617c0729",
   "metadata": {},
   "outputs": [],
   "source": []
  }
 ],
 "metadata": {
  "kernelspec": {
   "display_name": "Qiskit v0.34.1 (ipykernel)",
   "language": "python",
   "name": "python3"
  },
  "language_info": {
   "codemirror_mode": {
    "name": "ipython",
    "version": 3
   },
   "file_extension": ".py",
   "mimetype": "text/x-python",
   "name": "python",
   "nbconvert_exporter": "python",
   "pygments_lexer": "ipython3",
   "version": "3.8.12"
  },
  "widgets": {
   "application/vnd.jupyter.widget-state+json": {
    "state": {
     "01613bf0f24542d2a9f692a14731854c": {
      "model_module": "@jupyter-widgets/controls",
      "model_module_version": "1.5.0",
      "model_name": "DescriptionStyleModel",
      "state": {
       "description_width": ""
      }
     },
     "0fb164bafc7c474090e62b2e3f26e886": {
      "model_module": "@jupyter-widgets/base",
      "model_module_version": "1.2.0",
      "model_name": "LayoutModel",
      "state": {
       "margin": "0px 0px 10px 0px"
      }
     },
     "0fb371d87d3f4d28aee83ce5e1ab9907": {
      "model_module": "@jupyter-widgets/controls",
      "model_module_version": "1.5.0",
      "model_name": "DescriptionStyleModel",
      "state": {
       "description_width": ""
      }
     },
     "135d637fe8484b33adfd1156fdc667d3": {
      "model_module": "@jupyter-widgets/base",
      "model_module_version": "1.2.0",
      "model_name": "LayoutModel",
      "state": {
       "grid_template_areas": "\n                                       \". . . . right \"\n                                        ",
       "grid_template_columns": "20% 20% 20% 20% 20%",
       "width": "100%"
      }
     },
     "196d9d00aa2347548d940f84233ae5a8": {
      "model_module": "@jupyter-widgets/base",
      "model_module_version": "1.2.0",
      "model_name": "LayoutModel",
      "state": {
       "width": "95px"
      }
     },
     "1b3258f603a84165aba88713a8e1f696": {
      "model_module": "@jupyter-widgets/controls",
      "model_module_version": "1.5.0",
      "model_name": "DescriptionStyleModel",
      "state": {
       "description_width": ""
      }
     },
     "29984bbd0d06469f8f3b246544061d3d": {
      "model_module": "@jupyter-widgets/base",
      "model_module_version": "1.2.0",
      "model_name": "LayoutModel",
      "state": {
       "width": "70px"
      }
     },
     "34e1fd2522794994b481f8982260be76": {
      "model_module": "@jupyter-widgets/base",
      "model_module_version": "1.2.0",
      "model_name": "LayoutModel",
      "state": {
       "width": "190px"
      }
     },
     "3756fd9796b841e3adc185d0ceba0dca": {
      "model_module": "@jupyter-widgets/controls",
      "model_module_version": "1.5.0",
      "model_name": "ButtonModel",
      "state": {
       "button_style": "primary",
       "description": "Clear",
       "layout": "IPY_MODEL_99d08ceb924a4799bdb55845e4ac3082",
       "style": "IPY_MODEL_b8ca9d2f56b0482197539b2fc0f77fed"
      }
     },
     "3dfd6416a98f4920ae6cd20db958ff0b": {
      "model_module": "@jupyter-widgets/base",
      "model_module_version": "1.2.0",
      "model_name": "LayoutModel",
      "state": {}
     },
     "4307fbcc145a4b9d9f8ddb3f0ea06f34": {
      "model_module": "@jupyter-widgets/base",
      "model_module_version": "1.2.0",
      "model_name": "LayoutModel",
      "state": {
       "width": "145px"
      }
     },
     "4941322f85dd4935a28f20e90f235c7a": {
      "model_module": "@jupyter-widgets/controls",
      "model_module_version": "1.5.0",
      "model_name": "HTMLModel",
      "state": {
       "layout": "IPY_MODEL_34e1fd2522794994b481f8982260be76",
       "style": "IPY_MODEL_fc8eca36e3f54559aa7a8d58494fb62a",
       "value": "<h5>Job ID</h5>"
      }
     },
     "57555d2e78714ccda6bb8f87675cd7b9": {
      "model_module": "@jupyter-widgets/controls",
      "model_module_version": "1.5.0",
      "model_name": "HTMLModel",
      "state": {
       "layout": "IPY_MODEL_196d9d00aa2347548d940f84233ae5a8",
       "style": "IPY_MODEL_cb7f65ca64c64d1e96de5a3660341bcd",
       "value": "<h5>Status</h5>"
      }
     },
     "6e7415804ef944af8b54894167d89b1b": {
      "model_module": "@jupyter-widgets/controls",
      "model_module_version": "1.5.0",
      "model_name": "HTMLModel",
      "state": {
       "layout": "IPY_MODEL_0fb164bafc7c474090e62b2e3f26e886",
       "style": "IPY_MODEL_7a14b8b94c7c42428656e1ceb99995d0",
       "value": "<p style='font-family: IBM Plex Sans, Arial, Helvetica, sans-serif; font-size: 20px; font-weight: medium;'>Circuit Properties</p>"
      }
     },
     "7a14b8b94c7c42428656e1ceb99995d0": {
      "model_module": "@jupyter-widgets/controls",
      "model_module_version": "1.5.0",
      "model_name": "DescriptionStyleModel",
      "state": {
       "description_width": ""
      }
     },
     "7c47dd7df90d471c9c2b9e4cfd741831": {
      "model_module": "@jupyter-widgets/controls",
      "model_module_version": "1.5.0",
      "model_name": "HTMLModel",
      "state": {
       "layout": "IPY_MODEL_4307fbcc145a4b9d9f8ddb3f0ea06f34",
       "style": "IPY_MODEL_0fb371d87d3f4d28aee83ce5e1ab9907",
       "value": "<h5>Backend</h5>"
      }
     },
     "828e6df026a248dd9d75d1391370efc5": {
      "model_module": "@jupyter-widgets/controls",
      "model_module_version": "1.5.0",
      "model_name": "HBoxModel",
      "state": {
       "children": [
        "IPY_MODEL_4941322f85dd4935a28f20e90f235c7a",
        "IPY_MODEL_7c47dd7df90d471c9c2b9e4cfd741831",
        "IPY_MODEL_57555d2e78714ccda6bb8f87675cd7b9",
        "IPY_MODEL_f4d6b8944e034247a901bc4ffbb379a8",
        "IPY_MODEL_882077b72a434fc7ba342163b2dbd7e8"
       ],
       "layout": "IPY_MODEL_fbd323f285644c75b60fde84cb108ef8"
      }
     },
     "87bbfa048759411c98bfd87e264ad20e": {
      "model_module": "@jupyter-widgets/controls",
      "model_module_version": "1.5.0",
      "model_name": "GridBoxModel",
      "state": {
       "children": [
        "IPY_MODEL_3756fd9796b841e3adc185d0ceba0dca"
       ],
       "layout": "IPY_MODEL_135d637fe8484b33adfd1156fdc667d3"
      }
     },
     "882077b72a434fc7ba342163b2dbd7e8": {
      "model_module": "@jupyter-widgets/controls",
      "model_module_version": "1.5.0",
      "model_name": "HTMLModel",
      "state": {
       "layout": "IPY_MODEL_3dfd6416a98f4920ae6cd20db958ff0b",
       "style": "IPY_MODEL_1b3258f603a84165aba88713a8e1f696",
       "value": "<h5>Message</h5>"
      }
     },
     "99d08ceb924a4799bdb55845e4ac3082": {
      "model_module": "@jupyter-widgets/base",
      "model_module_version": "1.2.0",
      "model_name": "LayoutModel",
      "state": {
       "grid_area": "right",
       "padding": "0px 0px 0px 0px",
       "width": "70px"
      }
     },
     "b8ca9d2f56b0482197539b2fc0f77fed": {
      "model_module": "@jupyter-widgets/controls",
      "model_module_version": "1.5.0",
      "model_name": "ButtonStyleModel",
      "state": {}
     },
     "cb7f65ca64c64d1e96de5a3660341bcd": {
      "model_module": "@jupyter-widgets/controls",
      "model_module_version": "1.5.0",
      "model_name": "DescriptionStyleModel",
      "state": {
       "description_width": ""
      }
     },
     "f4d6b8944e034247a901bc4ffbb379a8": {
      "model_module": "@jupyter-widgets/controls",
      "model_module_version": "1.5.0",
      "model_name": "HTMLModel",
      "state": {
       "layout": "IPY_MODEL_29984bbd0d06469f8f3b246544061d3d",
       "style": "IPY_MODEL_01613bf0f24542d2a9f692a14731854c",
       "value": "<h5>Queue</h5>"
      }
     },
     "fbd323f285644c75b60fde84cb108ef8": {
      "model_module": "@jupyter-widgets/base",
      "model_module_version": "1.2.0",
      "model_name": "LayoutModel",
      "state": {
       "margin": "0px 0px 0px 37px",
       "width": "600px"
      }
     },
     "fc8eca36e3f54559aa7a8d58494fb62a": {
      "model_module": "@jupyter-widgets/controls",
      "model_module_version": "1.5.0",
      "model_name": "DescriptionStyleModel",
      "state": {
       "description_width": ""
      }
     }
    },
    "version_major": 2,
    "version_minor": 0
   }
  }
 },
 "nbformat": 4,
 "nbformat_minor": 5
}
