{
 "cells": [
  {
   "cell_type": "code",
   "execution_count": 3,
   "id": "b51d03c4-587c-4f5d-9a35-17a8a02ef9d1",
   "metadata": {},
   "outputs": [
    {
     "name": "stderr",
     "output_type": "stream",
     "text": [
      "ibmqfactory.load_account:WARNING:2022-01-20 06:23:04,969: Credentials are already in use. The existing account in the session will be replaced.\n"
     ]
    }
   ],
   "source": [
    "import numpy as np\n",
    "\n",
    "# Importing standard Qiskit libraries\n",
    "from qiskit import QuantumCircuit, transpile, Aer, IBMQ, qiskit\n",
    "from qiskit.tools.jupyter import *\n",
    "from qiskit.visualization import *\n",
    "from ibm_quantum_widgets import *\n",
    "from qiskit.providers.aer import QasmSimulator\n",
    "\n",
    "# Loading your IBM Quantum account(s)\n",
    "provider = IBMQ.load_account()"
   ]
  },
  {
   "cell_type": "code",
   "execution_count": 4,
   "id": "6b7df937-644d-45ab-b9b4-647999125aa3",
   "metadata": {},
   "outputs": [
    {
     "name": "stdout",
     "output_type": "stream",
     "text": [
      "{'000': 534, '111': 490}\n"
     ]
    }
   ],
   "source": [
    "qc=QuantumCircuit(3)\n",
    "qc.h(0)\n",
    "qc.cx(0,1)\n",
    "qc.cx(0,2)\n",
    "qc.measure_all()\n",
    "job=qiskit.execute(qc,qiskit.BasicAer.get_backend('qasm_simulator'))\n",
    "print(job.result().get_counts())"
   ]
  },
  {
   "cell_type": "code",
   "execution_count": 5,
   "id": "ea258f83-679d-4267-9c9e-5b8c663a1bd8",
   "metadata": {},
   "outputs": [
    {
     "data": {
      "image/png": "[encoded data removed]",
      "text/plain": [
       "<Figure size 538.279x264.88 with 1 Axes>"
      ]
     },
     "execution_count": 5,
     "metadata": {},
     "output_type": "execute_result"
    }
   ],
   "source": [
    "qc.draw()"
   ]
  },
  {
   "cell_type": "code",
   "execution_count": null,
   "id": "13c000b2-33f0-410c-a2ec-19aa3f522377",
   "metadata": {},
   "outputs": [],
   "source": []
  }
 ],
 "metadata": {
  "kernelspec": {
   "display_name": "Qiskit v0.34.1 (ipykernel)",
   "language": "python",
   "name": "python3"
  },
  "language_info": {
   "codemirror_mode": {
    "name": "ipython",
    "version": 3
   },
   "file_extension": ".py",
   "mimetype": "text/x-python",
   "name": "python",
   "nbconvert_exporter": "python",
   "pygments_lexer": "ipython3",
   "version": "3.8.12"
  },
  "widgets": {
   "application/vnd.jupyter.widget-state+json": {
    "state": {
     "0796587ae8ca4a0eb87e32c505074178": {
      "model_module": "@jupyter-widgets/controls",
      "model_module_version": "1.5.0",
      "model_name": "DescriptionStyleModel",
      "state": {
       "description_width": ""
      }
     },
     "0b1a6e65a6e54f2bbbc186dc64ae7840": {
      "model_module": "@jupyter-widgets/base",
      "model_module_version": "1.2.0",
      "model_name": "LayoutModel",
      "state": {
       "grid_template_areas": "\n                                       \". . . . right \"\n                                        ",
       "grid_template_columns": "20% 20% 20% 20% 20%",
       "width": "100%"
      }
     },
     "1300e64fb7dd4f35b33612566a6d7de5": {
      "model_module": "@jupyter-widgets/controls",
      "model_module_version": "1.5.0",
      "model_name": "DescriptionStyleModel",
      "state": {
       "description_width": ""
      }
     },
     "24f8eb21e95b480aa62e0d892a51b268": {
      "model_module": "@jupyter-widgets/controls",
      "model_module_version": "1.5.0",
      "model_name": "HTMLModel",
      "state": {
       "layout": "IPY_MODEL_410dded7d4e8417e88b9312703c2702c",
       "style": "IPY_MODEL_1300e64fb7dd4f35b33612566a6d7de5",
       "value": "<h5>Job ID</h5>"
      }
     },
     "410dded7d4e8417e88b9312703c2702c": {
      "model_module": "@jupyter-widgets/base",
      "model_module_version": "1.2.0",
      "model_name": "LayoutModel",
      "state": {
       "width": "190px"
      }
     },
     "446f94f5a81a47bb8de1d0257cbd5304": {
      "model_module": "@jupyter-widgets/base",
      "model_module_version": "1.2.0",
      "model_name": "LayoutModel",
      "state": {}
     },
     "58682a79c11d4ac9906c6cd141260a34": {
      "model_module": "@jupyter-widgets/controls",
      "model_module_version": "1.5.0",
      "model_name": "ButtonModel",
      "state": {
       "button_style": "primary",
       "description": "Clear",
       "layout": "IPY_MODEL_598ba497f65b4018a97e4237dfddeb3d",
       "style": "IPY_MODEL_c0a7ef1907a74b88a8401bdc25f3a979"
      }
     },
     "598ba497f65b4018a97e4237dfddeb3d": {
      "model_module": "@jupyter-widgets/base",
      "model_module_version": "1.2.0",
      "model_name": "LayoutModel",
      "state": {
       "grid_area": "right",
       "padding": "0px 0px 0px 0px",
       "width": "70px"
      }
     },
     "6f2fa600a545412b8b423d661e650f62": {
      "model_module": "@jupyter-widgets/controls",
      "model_module_version": "1.5.0",
      "model_name": "HTMLModel",
      "state": {
       "layout": "IPY_MODEL_b20f7b8768574d6782fdd73676ba0dbe",
       "style": "IPY_MODEL_f6f1c2dfb1894df89a2f028f6d3da64c",
       "value": "<p style='font-family: IBM Plex Sans, Arial, Helvetica, sans-serif; font-size: 20px; font-weight: medium;'>Circuit Properties</p>"
      }
     },
     "7d5f95cb63a84af091a9368dca535a06": {
      "model_module": "@jupyter-widgets/base",
      "model_module_version": "1.2.0",
      "model_name": "LayoutModel",
      "state": {
       "width": "70px"
      }
     },
     "8d98b7dff2cd4bb18f84df85399731ec": {
      "model_module": "@jupyter-widgets/base",
      "model_module_version": "1.2.0",
      "model_name": "LayoutModel",
      "state": {
       "width": "145px"
      }
     },
     "9410def19d804fed8ba1db1dfe28b6ff": {
      "model_module": "@jupyter-widgets/controls",
      "model_module_version": "1.5.0",
      "model_name": "HTMLModel",
      "state": {
       "layout": "IPY_MODEL_446f94f5a81a47bb8de1d0257cbd5304",
       "style": "IPY_MODEL_d78aa26b03e34c3a8cf62d734b153156",
       "value": "<h5>Message</h5>"
      }
     },
     "95054e2ffc484b999db164dba3002c61": {
      "model_module": "@jupyter-widgets/base",
      "model_module_version": "1.2.0",
      "model_name": "LayoutModel",
      "state": {
       "margin": "0px 0px 0px 37px",
       "width": "600px"
      }
     },
     "9897abd765f54c33862d873495f41cff": {
      "model_module": "@jupyter-widgets/controls",
      "model_module_version": "1.5.0",
      "model_name": "GridBoxModel",
      "state": {
       "children": [
        "IPY_MODEL_58682a79c11d4ac9906c6cd141260a34"
       ],
       "layout": "IPY_MODEL_0b1a6e65a6e54f2bbbc186dc64ae7840"
      }
     },
     "b20f7b8768574d6782fdd73676ba0dbe": {
      "model_module": "@jupyter-widgets/base",
      "model_module_version": "1.2.0",
      "model_name": "LayoutModel",
      "state": {
       "margin": "0px 0px 10px 0px"
      }
     },
     "b3ae3680e7d746f590950acbe3bf9a79": {
      "model_module": "@jupyter-widgets/controls",
      "model_module_version": "1.5.0",
      "model_name": "DescriptionStyleModel",
      "state": {
       "description_width": ""
      }
     },
     "b8c1a9b69a374597bd384e04eca27dbf": {
      "model_module": "@jupyter-widgets/controls",
      "model_module_version": "1.5.0",
      "model_name": "HTMLModel",
      "state": {
       "layout": "IPY_MODEL_7d5f95cb63a84af091a9368dca535a06",
       "style": "IPY_MODEL_b3ae3680e7d746f590950acbe3bf9a79",
       "value": "<h5>Queue</h5>"
      }
     },
     "bfe15d2c4459421b88bd6828ce04de6d": {
      "model_module": "@jupyter-widgets/controls",
      "model_module_version": "1.5.0",
      "model_name": "HTMLModel",
      "state": {
       "layout": "IPY_MODEL_cc7c31774cdd45869a1e66c2ef13982c",
       "style": "IPY_MODEL_f1ba28b2cb97469c8b25b4ec8f3a14fc",
       "value": "<h5>Status</h5>"
      }
     },
     "c0a7ef1907a74b88a8401bdc25f3a979": {
      "model_module": "@jupyter-widgets/controls",
      "model_module_version": "1.5.0",
      "model_name": "ButtonStyleModel",
      "state": {}
     },
     "cc7c31774cdd45869a1e66c2ef13982c": {
      "model_module": "@jupyter-widgets/base",
      "model_module_version": "1.2.0",
      "model_name": "LayoutModel",
      "state": {
       "width": "95px"
      }
     },
     "d78aa26b03e34c3a8cf62d734b153156": {
      "model_module": "@jupyter-widgets/controls",
      "model_module_version": "1.5.0",
      "model_name": "DescriptionStyleModel",
      "state": {
       "description_width": ""
      }
     },
     "f1ba28b2cb97469c8b25b4ec8f3a14fc": {
      "model_module": "@jupyter-widgets/controls",
      "model_module_version": "1.5.0",
      "model_name": "DescriptionStyleModel",
      "state": {
       "description_width": ""
      }
     },
     "f6f1c2dfb1894df89a2f028f6d3da64c": {
      "model_module": "@jupyter-widgets/controls",
      "model_module_version": "1.5.0",
      "model_name": "DescriptionStyleModel",
      "state": {
       "description_width": ""
      }
     },
     "f881a1235a8e46b9bbe00cba9c5f69aa": {
      "model_module": "@jupyter-widgets/controls",
      "model_module_version": "1.5.0",
      "model_name": "HBoxModel",
      "state": {
       "children": [
        "IPY_MODEL_24f8eb21e95b480aa62e0d892a51b268",
        "IPY_MODEL_fd575e237f0b4795971164b08de568d6",
        "IPY_MODEL_bfe15d2c4459421b88bd6828ce04de6d",
        "IPY_MODEL_b8c1a9b69a374597bd384e04eca27dbf",
        "IPY_MODEL_9410def19d804fed8ba1db1dfe28b6ff"
       ],
       "layout": "IPY_MODEL_95054e2ffc484b999db164dba3002c61"
      }
     },
     "fd575e237f0b4795971164b08de568d6": {
      "model_module": "@jupyter-widgets/controls",
      "model_module_version": "1.5.0",
      "model_name": "HTMLModel",
      "state": {
       "layout": "IPY_MODEL_8d98b7dff2cd4bb18f84df85399731ec",
       "style": "IPY_MODEL_0796587ae8ca4a0eb87e32c505074178",
       "value": "<h5>Backend</h5>"
      }
     }
    },
    "version_major": 2,
    "version_minor": 0
   }
  }
 },
 "nbformat": 4,
 "nbformat_minor": 5
}
