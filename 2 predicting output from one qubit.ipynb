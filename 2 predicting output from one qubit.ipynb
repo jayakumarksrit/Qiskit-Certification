{
 "cells": [
  {
   "cell_type": "code",
   "execution_count": 4,
   "id": "aec46618-8b87-4540-ab5e-5971c93c39b9",
   "metadata": {},
   "outputs": [
    {
     "name": "stderr",
     "output_type": "stream",
     "text": [
      "ibmqfactory.load_account:WARNING:2022-01-09 14:33:58,258: Credentials are already in use. The existing account in the session will be replaced.\n"
     ]
    }
   ],
   "source": [
    "import numpy as np\n",
    "\n",
    "# Importing standard Qiskit libraries\n",
    "from qiskit import qiskit, QuantumCircuit, transpile, Aer, IBMQ, BasicAer\n",
    "from qiskit.tools.jupyter import *\n",
    "from qiskit.visualization import *\n",
    "from ibm_quantum_widgets import *\n",
    "from qiskit.providers.aer import QasmSimulator\n",
    "\n",
    "# Loading your IBM Quantum account(s)\n",
    "provider = IBMQ.load_account()"
   ]
  },
  {
   "cell_type": "code",
   "execution_count": 8,
   "id": "07dc5166-7429-46c5-b74e-870ec085d8a0",
   "metadata": {},
   "outputs": [
    {
     "name": "stdout",
     "output_type": "stream",
     "text": [
      "{'0': 1000}\n"
     ]
    }
   ],
   "source": [
    "qc=QuantumCircuit(1,1)\n",
    "qc.measure(0,0)\n",
    "backend=BasicAer.get_backend('qasm_simulator')\n",
    "result=qiskit.execute(qc,backend,shots=1000).result()\n",
    "print(result.get_counts())"
   ]
  },
  {
   "cell_type": "code",
   "execution_count": 14,
   "id": "1de31ace-60b5-42e8-9f7f-b9b0c6787126",
   "metadata": {},
   "outputs": [
    {
     "name": "stdout",
     "output_type": "stream",
     "text": [
      "{'1': 502, '0': 498}\n"
     ]
    }
   ],
   "source": [
    "qc=QuantumCircuit(1,1)\n",
    "qc.h(0)\n",
    "qc.measure(0,0)\n",
    "backend=BasicAer.get_backend('qasm_simulator')\n",
    "result=qiskit.execute(qc,backend,shots=1000).result()\n",
    "print(result.get_counts())"
   ]
  },
  {
   "cell_type": "code",
   "execution_count": null,
   "id": "5549206b-80d3-42a5-b502-20fa1b4755b0",
   "metadata": {},
   "outputs": [],
   "source": []
  },
  {
   "cell_type": "code",
   "execution_count": null,
   "id": "32c73ad5-bf21-4bc9-8b36-2bab965c4cf9",
   "metadata": {},
   "outputs": [],
   "source": []
  },
  {
   "cell_type": "code",
   "execution_count": null,
   "id": "6482ff2a-24ca-4772-9bc0-b4d64c12e7ad",
   "metadata": {},
   "outputs": [],
   "source": []
  }
 ],
 "metadata": {
  "kernelspec": {
   "display_name": "Qiskit v0.34.1 (ipykernel)",
   "language": "python",
   "name": "python3"
  },
  "language_info": {
   "codemirror_mode": {
    "name": "ipython",
    "version": 3
   },
   "file_extension": ".py",
   "mimetype": "text/x-python",
   "name": "python",
   "nbconvert_exporter": "python",
   "pygments_lexer": "ipython3",
   "version": "3.8.10"
  },
  "widgets": {
   "application/vnd.jupyter.widget-state+json": {
    "state": {
     "00fb9d7df7e541a6b8234236f0aedb3d": {
      "model_module": "@jupyter-widgets/controls",
      "model_module_version": "1.5.0",
      "model_name": "GridBoxModel",
      "state": {
       "children": [
        "IPY_MODEL_1c6ece8bf3924652942030c6b58e796d"
       ],
       "layout": "IPY_MODEL_b07007158c844d949a8805423777ee59"
      }
     },
     "083527068fbb4a2ba33c006066b74152": {
      "model_module": "@jupyter-widgets/base",
      "model_module_version": "1.2.0",
      "model_name": "LayoutModel",
      "state": {
       "width": "145px"
      }
     },
     "0aa866bdd8974cfcb972979598a109e7": {
      "model_module": "@jupyter-widgets/base",
      "model_module_version": "1.2.0",
      "model_name": "LayoutModel",
      "state": {
       "margin": "0px 0px 10px 0px"
      }
     },
     "10a98aed4a174aea9e82336e36a3912d": {
      "model_module": "@jupyter-widgets/base",
      "model_module_version": "1.2.0",
      "model_name": "LayoutModel",
      "state": {
       "width": "190px"
      }
     },
     "124abe46654d468c8f75a3daa675ec09": {
      "model_module": "@jupyter-widgets/controls",
      "model_module_version": "1.5.0",
      "model_name": "DescriptionStyleModel",
      "state": {
       "description_width": ""
      }
     },
     "1c6ece8bf3924652942030c6b58e796d": {
      "model_module": "@jupyter-widgets/controls",
      "model_module_version": "1.5.0",
      "model_name": "ButtonModel",
      "state": {
       "button_style": "primary",
       "description": "Clear",
       "layout": "IPY_MODEL_624683b7783740e8aad6c85539e79e6a",
       "style": "IPY_MODEL_c4656f6dfcdc42e9b3dac18b6f956a8d"
      }
     },
     "27d8065042be4bb9a9f6cde1ea4560c2": {
      "model_module": "@jupyter-widgets/controls",
      "model_module_version": "1.5.0",
      "model_name": "HBoxModel",
      "state": {
       "children": [
        "IPY_MODEL_b68ff443d6ba40d7819aa5664393226c",
        "IPY_MODEL_9f4154245049453a96d937118e7330bd",
        "IPY_MODEL_4250c7e4675444cdab558f9d1a9e9455",
        "IPY_MODEL_85a0b460793d4aa982254efad48d1067",
        "IPY_MODEL_4ce41d71663e46a9b410fa73dfe36410"
       ],
       "layout": "IPY_MODEL_6884d71e51e14cb88a3ee202a7e7f73e"
      }
     },
     "2957f5d5a51640e8849fe7e993fe7bc7": {
      "model_module": "@jupyter-widgets/base",
      "model_module_version": "1.2.0",
      "model_name": "LayoutModel",
      "state": {}
     },
     "4250c7e4675444cdab558f9d1a9e9455": {
      "model_module": "@jupyter-widgets/controls",
      "model_module_version": "1.5.0",
      "model_name": "HTMLModel",
      "state": {
       "layout": "IPY_MODEL_65b0849316384897b63741c84e6bf1fb",
       "style": "IPY_MODEL_9bfd5d02a6ce4028b95e8939225080a2",
       "value": "<h5>Status</h5>"
      }
     },
     "4ce41d71663e46a9b410fa73dfe36410": {
      "model_module": "@jupyter-widgets/controls",
      "model_module_version": "1.5.0",
      "model_name": "HTMLModel",
      "state": {
       "layout": "IPY_MODEL_2957f5d5a51640e8849fe7e993fe7bc7",
       "style": "IPY_MODEL_dc1a35de40c04e9f84ab39d1bab963a5",
       "value": "<h5>Message</h5>"
      }
     },
     "624683b7783740e8aad6c85539e79e6a": {
      "model_module": "@jupyter-widgets/base",
      "model_module_version": "1.2.0",
      "model_name": "LayoutModel",
      "state": {
       "grid_area": "right",
       "padding": "0px 0px 0px 0px",
       "width": "70px"
      }
     },
     "65b0849316384897b63741c84e6bf1fb": {
      "model_module": "@jupyter-widgets/base",
      "model_module_version": "1.2.0",
      "model_name": "LayoutModel",
      "state": {
       "width": "95px"
      }
     },
     "6884d71e51e14cb88a3ee202a7e7f73e": {
      "model_module": "@jupyter-widgets/base",
      "model_module_version": "1.2.0",
      "model_name": "LayoutModel",
      "state": {
       "margin": "0px 0px 0px 37px",
       "width": "600px"
      }
     },
     "85a0b460793d4aa982254efad48d1067": {
      "model_module": "@jupyter-widgets/controls",
      "model_module_version": "1.5.0",
      "model_name": "HTMLModel",
      "state": {
       "layout": "IPY_MODEL_e75ac25a17ad4e90917703d58c1696f5",
       "style": "IPY_MODEL_124abe46654d468c8f75a3daa675ec09",
       "value": "<h5>Queue</h5>"
      }
     },
     "9896eaddbd0a4bf6981f05287b2e12fb": {
      "model_module": "@jupyter-widgets/controls",
      "model_module_version": "1.5.0",
      "model_name": "HTMLModel",
      "state": {
       "layout": "IPY_MODEL_0aa866bdd8974cfcb972979598a109e7",
       "style": "IPY_MODEL_b81887c8829a458588e4fbee4046003d",
       "value": "<p style='font-family: IBM Plex Sans, Arial, Helvetica, sans-serif; font-size: 20px; font-weight: medium;'>Circuit Properties</p>"
      }
     },
     "9bfd5d02a6ce4028b95e8939225080a2": {
      "model_module": "@jupyter-widgets/controls",
      "model_module_version": "1.5.0",
      "model_name": "DescriptionStyleModel",
      "state": {
       "description_width": ""
      }
     },
     "9f4154245049453a96d937118e7330bd": {
      "model_module": "@jupyter-widgets/controls",
      "model_module_version": "1.5.0",
      "model_name": "HTMLModel",
      "state": {
       "layout": "IPY_MODEL_083527068fbb4a2ba33c006066b74152",
       "style": "IPY_MODEL_c70630d4c12341b9b4874d47ee9fee3c",
       "value": "<h5>Backend</h5>"
      }
     },
     "b07007158c844d949a8805423777ee59": {
      "model_module": "@jupyter-widgets/base",
      "model_module_version": "1.2.0",
      "model_name": "LayoutModel",
      "state": {
       "grid_template_areas": "\n                                       \". . . . right \"\n                                        ",
       "grid_template_columns": "20% 20% 20% 20% 20%",
       "width": "100%"
      }
     },
     "b68ff443d6ba40d7819aa5664393226c": {
      "model_module": "@jupyter-widgets/controls",
      "model_module_version": "1.5.0",
      "model_name": "HTMLModel",
      "state": {
       "layout": "IPY_MODEL_10a98aed4a174aea9e82336e36a3912d",
       "style": "IPY_MODEL_cd36237cbfbc47ccbd2b9cd9f28c59a2",
       "value": "<h5>Job ID</h5>"
      }
     },
     "b81887c8829a458588e4fbee4046003d": {
      "model_module": "@jupyter-widgets/controls",
      "model_module_version": "1.5.0",
      "model_name": "DescriptionStyleModel",
      "state": {
       "description_width": ""
      }
     },
     "c4656f6dfcdc42e9b3dac18b6f956a8d": {
      "model_module": "@jupyter-widgets/controls",
      "model_module_version": "1.5.0",
      "model_name": "ButtonStyleModel",
      "state": {}
     },
     "c70630d4c12341b9b4874d47ee9fee3c": {
      "model_module": "@jupyter-widgets/controls",
      "model_module_version": "1.5.0",
      "model_name": "DescriptionStyleModel",
      "state": {
       "description_width": ""
      }
     },
     "cd36237cbfbc47ccbd2b9cd9f28c59a2": {
      "model_module": "@jupyter-widgets/controls",
      "model_module_version": "1.5.0",
      "model_name": "DescriptionStyleModel",
      "state": {
       "description_width": ""
      }
     },
     "dc1a35de40c04e9f84ab39d1bab963a5": {
      "model_module": "@jupyter-widgets/controls",
      "model_module_version": "1.5.0",
      "model_name": "DescriptionStyleModel",
      "state": {
       "description_width": ""
      }
     },
     "e75ac25a17ad4e90917703d58c1696f5": {
      "model_module": "@jupyter-widgets/base",
      "model_module_version": "1.2.0",
      "model_name": "LayoutModel",
      "state": {
       "width": "70px"
      }
     }
    },
    "version_major": 2,
    "version_minor": 0
   }
  }
 },
 "nbformat": 4,
 "nbformat_minor": 5
}
