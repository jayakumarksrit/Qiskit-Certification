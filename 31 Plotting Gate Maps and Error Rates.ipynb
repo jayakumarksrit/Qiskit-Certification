{
 "cells": [
  {
   "cell_type": "code",
   "execution_count": 1,
   "id": "27c557cb-5e6d-420f-bc86-b17c2de63f4e",
   "metadata": {},
   "outputs": [],
   "source": [
    "import numpy as np\n",
    "\n",
    "# Importing standard Qiskit libraries\n",
    "from qiskit import QuantumCircuit, transpile, Aer, IBMQ\n",
    "from qiskit.tools.jupyter import *\n",
    "from qiskit.visualization import *\n",
    "from ibm_quantum_widgets import *\n",
    "from qiskit.providers.aer import QasmSimulator\n",
    "\n",
    "# Loading your IBM Quantum account(s)\n",
    "provider = IBMQ.load_account()"
   ]
  },
  {
   "cell_type": "code",
   "execution_count": 4,
   "id": "868cec87-2361-4b03-99c5-29a4844bb1bb",
   "metadata": {},
   "outputs": [
    {
     "name": "stdout",
     "output_type": "stream",
     "text": [
      "using backend ibmq_santiago\n"
     ]
    }
   ],
   "source": [
    "from qiskit.visualization import plot_gate_map, plot_error_map\n",
    "\n",
    "backend=provider.backends(simulator=False)[1]\n",
    "\n",
    "print('using backend {}'.format(backend.name()))\n",
    "\n",
    "fig=plot_gate_map(backend)\n",
    "fig.savefig('gate_map.png')\n",
    "\n",
    "fig=plot_error_map(backend)\n",
    "fig.savefig('error_map.png')"
   ]
  },
  {
   "cell_type": "code",
   "execution_count": null,
   "id": "00e75bef-a8bd-4b85-b5a1-91fee3e3b69e",
   "metadata": {},
   "outputs": [],
   "source": []
  }
 ],
 "metadata": {
  "kernelspec": {
   "display_name": "Qiskit v0.34.1 (ipykernel)",
   "language": "python",
   "name": "python3"
  },
  "language_info": {
   "codemirror_mode": {
    "name": "ipython",
    "version": 3
   },
   "file_extension": ".py",
   "mimetype": "text/x-python",
   "name": "python",
   "nbconvert_exporter": "python",
   "pygments_lexer": "ipython3",
   "version": "3.8.12"
  },
  "widgets": {
   "application/vnd.jupyter.widget-state+json": {
    "state": {
     "031363d71e3a425c8ee7cba3a5e3c3c2": {
      "model_module": "@jupyter-widgets/base",
      "model_module_version": "1.2.0",
      "model_name": "LayoutModel",
      "state": {
       "margin": "0px 0px 0px 37px",
       "width": "600px"
      }
     },
     "08854d1011be48f98fa28c21ad243509": {
      "model_module": "@jupyter-widgets/base",
      "model_module_version": "1.2.0",
      "model_name": "LayoutModel",
      "state": {
       "margin": "0px 0px 10px 0px"
      }
     },
     "0f3048825c994969896c25375a2e5057": {
      "model_module": "@jupyter-widgets/controls",
      "model_module_version": "1.5.0",
      "model_name": "DescriptionStyleModel",
      "state": {
       "description_width": ""
      }
     },
     "1349d1aaa5ee43148e9b0f1de2c48db2": {
      "model_module": "@jupyter-widgets/controls",
      "model_module_version": "1.5.0",
      "model_name": "HTMLModel",
      "state": {
       "layout": "IPY_MODEL_8ca9733ebfd649a7ba51f0bcc728c519",
       "style": "IPY_MODEL_68c582a1e2e2452a908e936d9bbae047",
       "value": "<h5>Backend</h5>"
      }
     },
     "1de8f6bed37f43bb8ab55220ad331221": {
      "model_module": "@jupyter-widgets/base",
      "model_module_version": "1.2.0",
      "model_name": "LayoutModel",
      "state": {
       "grid_template_areas": "\n                                       \". . . . right \"\n                                        ",
       "grid_template_columns": "20% 20% 20% 20% 20%",
       "width": "100%"
      }
     },
     "254cb68157d24c3685bef0d4546e4102": {
      "model_module": "@jupyter-widgets/base",
      "model_module_version": "1.2.0",
      "model_name": "LayoutModel",
      "state": {
       "grid_area": "right",
       "padding": "0px 0px 0px 0px",
       "width": "70px"
      }
     },
     "48412ac82ba44938a154dea850926e8d": {
      "model_module": "@jupyter-widgets/controls",
      "model_module_version": "1.5.0",
      "model_name": "GridBoxModel",
      "state": {
       "children": [
        "IPY_MODEL_a0fcbf3bc3964beca0c11ebed45c04f7"
       ],
       "layout": "IPY_MODEL_1de8f6bed37f43bb8ab55220ad331221"
      }
     },
     "505453262fd241a7833f8f6b71dd1a7b": {
      "model_module": "@jupyter-widgets/controls",
      "model_module_version": "1.5.0",
      "model_name": "DescriptionStyleModel",
      "state": {
       "description_width": ""
      }
     },
     "56974b75b4de49a49c2f13d62cf5c2fa": {
      "model_module": "@jupyter-widgets/base",
      "model_module_version": "1.2.0",
      "model_name": "LayoutModel",
      "state": {}
     },
     "68c582a1e2e2452a908e936d9bbae047": {
      "model_module": "@jupyter-widgets/controls",
      "model_module_version": "1.5.0",
      "model_name": "DescriptionStyleModel",
      "state": {
       "description_width": ""
      }
     },
     "71bd72aa76f14159a881767a6ea99589": {
      "model_module": "@jupyter-widgets/base",
      "model_module_version": "1.2.0",
      "model_name": "LayoutModel",
      "state": {
       "width": "95px"
      }
     },
     "7e70fb02f72b42348e531c74c9b516f4": {
      "model_module": "@jupyter-widgets/controls",
      "model_module_version": "1.5.0",
      "model_name": "DescriptionStyleModel",
      "state": {
       "description_width": ""
      }
     },
     "7f7c3af08055474fabacd21af4c3873f": {
      "model_module": "@jupyter-widgets/controls",
      "model_module_version": "1.5.0",
      "model_name": "HTMLModel",
      "state": {
       "layout": "IPY_MODEL_853370c200ef4adfb6239d3cbc0124f0",
       "style": "IPY_MODEL_0f3048825c994969896c25375a2e5057",
       "value": "<h5>Queue</h5>"
      }
     },
     "853370c200ef4adfb6239d3cbc0124f0": {
      "model_module": "@jupyter-widgets/base",
      "model_module_version": "1.2.0",
      "model_name": "LayoutModel",
      "state": {
       "width": "70px"
      }
     },
     "865670946e394643a8c8fc209ce302cc": {
      "model_module": "@jupyter-widgets/controls",
      "model_module_version": "1.5.0",
      "model_name": "HTMLModel",
      "state": {
       "layout": "IPY_MODEL_08854d1011be48f98fa28c21ad243509",
       "style": "IPY_MODEL_ec31422edbc94bcb8189cca0eaf2a26a",
       "value": "<p style='font-family: IBM Plex Sans, Arial, Helvetica, sans-serif; font-size: 20px; font-weight: medium;'>Circuit Properties</p>"
      }
     },
     "8ca9733ebfd649a7ba51f0bcc728c519": {
      "model_module": "@jupyter-widgets/base",
      "model_module_version": "1.2.0",
      "model_name": "LayoutModel",
      "state": {
       "width": "145px"
      }
     },
     "90ed5d4efc5846f79201af60c838d90d": {
      "model_module": "@jupyter-widgets/controls",
      "model_module_version": "1.5.0",
      "model_name": "HBoxModel",
      "state": {
       "children": [
        "IPY_MODEL_c70c2e5cda4c40a0b37f91ae8ccac246",
        "IPY_MODEL_1349d1aaa5ee43148e9b0f1de2c48db2",
        "IPY_MODEL_a91fdea51257416186359a28f5e1b3d0",
        "IPY_MODEL_7f7c3af08055474fabacd21af4c3873f",
        "IPY_MODEL_aeff340c5a2e444aa3e92211c7174ee2"
       ],
       "layout": "IPY_MODEL_031363d71e3a425c8ee7cba3a5e3c3c2"
      }
     },
     "926c0909aa944ff18b496c4d811b2318": {
      "model_module": "@jupyter-widgets/controls",
      "model_module_version": "1.5.0",
      "model_name": "DescriptionStyleModel",
      "state": {
       "description_width": ""
      }
     },
     "98418107d9eb4afbaaf5d61ab2ef60c6": {
      "model_module": "@jupyter-widgets/controls",
      "model_module_version": "1.5.0",
      "model_name": "ButtonStyleModel",
      "state": {}
     },
     "a0fcbf3bc3964beca0c11ebed45c04f7": {
      "model_module": "@jupyter-widgets/controls",
      "model_module_version": "1.5.0",
      "model_name": "ButtonModel",
      "state": {
       "button_style": "primary",
       "description": "Clear",
       "layout": "IPY_MODEL_254cb68157d24c3685bef0d4546e4102",
       "style": "IPY_MODEL_98418107d9eb4afbaaf5d61ab2ef60c6"
      }
     },
     "a91fdea51257416186359a28f5e1b3d0": {
      "model_module": "@jupyter-widgets/controls",
      "model_module_version": "1.5.0",
      "model_name": "HTMLModel",
      "state": {
       "layout": "IPY_MODEL_71bd72aa76f14159a881767a6ea99589",
       "style": "IPY_MODEL_505453262fd241a7833f8f6b71dd1a7b",
       "value": "<h5>Status</h5>"
      }
     },
     "aeff340c5a2e444aa3e92211c7174ee2": {
      "model_module": "@jupyter-widgets/controls",
      "model_module_version": "1.5.0",
      "model_name": "HTMLModel",
      "state": {
       "layout": "IPY_MODEL_56974b75b4de49a49c2f13d62cf5c2fa",
       "style": "IPY_MODEL_7e70fb02f72b42348e531c74c9b516f4",
       "value": "<h5>Message</h5>"
      }
     },
     "c70c2e5cda4c40a0b37f91ae8ccac246": {
      "model_module": "@jupyter-widgets/controls",
      "model_module_version": "1.5.0",
      "model_name": "HTMLModel",
      "state": {
       "layout": "IPY_MODEL_d184e2218ca44fe3984ebe683cb6f066",
       "style": "IPY_MODEL_926c0909aa944ff18b496c4d811b2318",
       "value": "<h5>Job ID</h5>"
      }
     },
     "d184e2218ca44fe3984ebe683cb6f066": {
      "model_module": "@jupyter-widgets/base",
      "model_module_version": "1.2.0",
      "model_name": "LayoutModel",
      "state": {
       "width": "190px"
      }
     },
     "ec31422edbc94bcb8189cca0eaf2a26a": {
      "model_module": "@jupyter-widgets/controls",
      "model_module_version": "1.5.0",
      "model_name": "DescriptionStyleModel",
      "state": {
       "description_width": ""
      }
     }
    },
    "version_major": 2,
    "version_minor": 0
   }
  }
 },
 "nbformat": 4,
 "nbformat_minor": 5
}
