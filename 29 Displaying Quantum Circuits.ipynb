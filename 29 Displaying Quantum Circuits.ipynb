{
 "cells": [
  {
   "cell_type": "code",
   "execution_count": 1,
   "id": "f324ae81-8d99-494b-8bbb-34e8f84a3c81",
   "metadata": {},
   "outputs": [],
   "source": [
    "import numpy as np\n",
    "\n",
    "# Importing standard Qiskit libraries\n",
    "from qiskit import QuantumCircuit, transpile, Aer, IBMQ\n",
    "from qiskit.tools.jupyter import *\n",
    "from qiskit.visualization import *\n",
    "from ibm_quantum_widgets import *\n",
    "from qiskit.providers.aer import QasmSimulator\n",
    "\n",
    "# Loading your IBM Quantum account(s)\n",
    "provider = IBMQ.load_account()"
   ]
  },
  {
   "cell_type": "code",
   "execution_count": 3,
   "id": "b4309510-ae5f-4814-8423-c809f3ec221a",
   "metadata": {},
   "outputs": [
    {
     "data": {
      "image/png": "[encoded data removed]",
      "text/plain": [
       "<Figure size 267.197x204.68 with 1 Axes>"
      ]
     },
     "execution_count": 3,
     "metadata": {},
     "output_type": "execute_result"
    }
   ],
   "source": [
    "ghz=QuantumCircuit(3)\n",
    "ghz.h(0)\n",
    "ghz.cx(0,1)\n",
    "ghz.cx(0,2)\n",
    "ghz.draw('mpl')"
   ]
  },
  {
   "cell_type": "code",
   "execution_count": 4,
   "id": "606108b6-cf82-42af-a8c5-6afb69cd3235",
   "metadata": {},
   "outputs": [
    {
     "data": {
      "text/html": [
       "<pre style=\"word-wrap: normal;white-space: pre;background: #fff0;line-height: 1.1;font-family: &quot;Courier New&quot;,Courier,monospace\">     ┌───┐          \n",
       "q_0: ┤ H ├──■────■──\n",
       "     └───┘┌─┴─┐  │  \n",
       "q_1: ─────┤ X ├──┼──\n",
       "          └───┘┌─┴─┐\n",
       "q_2: ──────────┤ X ├\n",
       "               └───┘</pre>"
      ],
      "text/plain": [
       "     ┌───┐          \n",
       "q_0: ┤ H ├──■────■──\n",
       "     └───┘┌─┴─┐  │  \n",
       "q_1: ─────┤ X ├──┼──\n",
       "          └───┘┌─┴─┐\n",
       "q_2: ──────────┤ X ├\n",
       "               └───┘"
      ]
     },
     "execution_count": 4,
     "metadata": {},
     "output_type": "execute_result"
    }
   ],
   "source": [
    "ghz.draw('text')"
   ]
  },
  {
   "cell_type": "code",
   "execution_count": 5,
   "id": "d3112a1e-0271-4cf0-a236-2ff93ec256f9",
   "metadata": {},
   "outputs": [
    {
     "data": {
      "image/png": "[encoded data removed]",
      "text/plain": [
       "<PIL.Image.Image image mode=RGB size=206x85 at 0x7FC9DF56D3D0>"
      ]
     },
     "execution_count": 5,
     "metadata": {},
     "output_type": "execute_result"
    }
   ],
   "source": [
    "ghz.draw('latex')"
   ]
  },
  {
   "cell_type": "code",
   "execution_count": 6,
   "id": "662216bc-e498-4686-b980-37cdd56dd8df",
   "metadata": {},
   "outputs": [
    {
     "data": {
      "image/png": "[encoded data removed]",
      "text/plain": [
       "<Figure size 267.197x204.68 with 1 Axes>"
      ]
     },
     "execution_count": 6,
     "metadata": {},
     "output_type": "execute_result"
    }
   ],
   "source": [
    "ghz.draw('mpl',reverse_bits=True)"
   ]
  },
  {
   "cell_type": "code",
   "execution_count": 7,
   "id": "8dc7fc86-52e0-4a53-bf2b-e694b368283b",
   "metadata": {},
   "outputs": [
    {
     "data": {
      "image/png": "[encoded data removed]",
      "text/plain": [
       "<Figure size 267.197x204.68 with 1 Axes>"
      ]
     },
     "execution_count": 7,
     "metadata": {},
     "output_type": "execute_result"
    }
   ],
   "source": [
    "ghz.draw('mpl',plot_barriers=False)"
   ]
  },
  {
   "cell_type": "code",
   "execution_count": 8,
   "id": "46b4cdcf-243b-4e8b-8f45-d9e5ac9d820a",
   "metadata": {},
   "outputs": [
    {
     "data": {
      "image/png": "[encoded data removed]",
      "text/plain": [
       "<Figure size 267.197x204.68 with 1 Axes>"
      ]
     },
     "execution_count": 8,
     "metadata": {},
     "output_type": "execute_result"
    }
   ],
   "source": [
    "style={'backgroundcolor':'pink'}\n",
    "ghz.draw('mpl',style=style)"
   ]
  },
  {
   "cell_type": "code",
   "execution_count": null,
   "id": "9fc22d80-02aa-478f-b988-187f31101a5b",
   "metadata": {},
   "outputs": [],
   "source": []
  }
 ],
 "metadata": {
  "kernelspec": {
   "display_name": "Qiskit v0.34.1 (ipykernel)",
   "language": "python",
   "name": "python3"
  },
  "language_info": {
   "codemirror_mode": {
    "name": "ipython",
    "version": 3
   },
   "file_extension": ".py",
   "mimetype": "text/x-python",
   "name": "python",
   "nbconvert_exporter": "python",
   "pygments_lexer": "ipython3",
   "version": "3.8.12"
  },
  "widgets": {
   "application/vnd.jupyter.widget-state+json": {
    "state": {
     "05d426e582df42d7b32e6bf032d198c1": {
      "model_module": "@jupyter-widgets/controls",
      "model_module_version": "1.5.0",
      "model_name": "HTMLModel",
      "state": {
       "layout": "IPY_MODEL_f0e739117d984f399c02ec715b54c9b0",
       "style": "IPY_MODEL_d16f06d1bd494d5d8f1750e5acc5cce2",
       "value": "<h5>Message</h5>"
      }
     },
     "0dc43d9905e44d5b8b7d2d0d9d987098": {
      "model_module": "@jupyter-widgets/controls",
      "model_module_version": "1.5.0",
      "model_name": "DescriptionStyleModel",
      "state": {
       "description_width": ""
      }
     },
     "0f1934a9540e418f8d3945209ad062cb": {
      "model_module": "@jupyter-widgets/controls",
      "model_module_version": "1.5.0",
      "model_name": "HTMLModel",
      "state": {
       "layout": "IPY_MODEL_cd7fb4343ef244959b4cb170ccc66215",
       "style": "IPY_MODEL_fdc3afca1e704a149d159f91aa3a1bf6",
       "value": "<h5>Backend</h5>"
      }
     },
     "11e1680dc60a4347a2254276b823a6af": {
      "model_module": "@jupyter-widgets/controls",
      "model_module_version": "1.5.0",
      "model_name": "DescriptionStyleModel",
      "state": {
       "description_width": ""
      }
     },
     "1d3c703587284d11b7ec076176fa0994": {
      "model_module": "@jupyter-widgets/base",
      "model_module_version": "1.2.0",
      "model_name": "LayoutModel",
      "state": {
       "margin": "0px 0px 10px 0px"
      }
     },
     "244d5802607e43f382e63c54600e4688": {
      "model_module": "@jupyter-widgets/controls",
      "model_module_version": "1.5.0",
      "model_name": "HTMLModel",
      "state": {
       "layout": "IPY_MODEL_dff9afb0c10840289e85647d3950e94e",
       "style": "IPY_MODEL_11e1680dc60a4347a2254276b823a6af",
       "value": "<h5>Job ID</h5>"
      }
     },
     "340d5b15aeb144128c94072cbbe20be5": {
      "model_module": "@jupyter-widgets/controls",
      "model_module_version": "1.5.0",
      "model_name": "ButtonStyleModel",
      "state": {}
     },
     "50309eed0ce544e0ae59566a29c70524": {
      "model_module": "@jupyter-widgets/controls",
      "model_module_version": "1.5.0",
      "model_name": "HTMLModel",
      "state": {
       "layout": "IPY_MODEL_b189632a6a3842bbbd372a6a76add6ea",
       "style": "IPY_MODEL_57222ef1b4bd456587fb49d2f3f27b91",
       "value": "<h5>Status</h5>"
      }
     },
     "57222ef1b4bd456587fb49d2f3f27b91": {
      "model_module": "@jupyter-widgets/controls",
      "model_module_version": "1.5.0",
      "model_name": "DescriptionStyleModel",
      "state": {
       "description_width": ""
      }
     },
     "5f1763c4fe084da495d824c1773eedc5": {
      "model_module": "@jupyter-widgets/controls",
      "model_module_version": "1.5.0",
      "model_name": "GridBoxModel",
      "state": {
       "children": [
        "IPY_MODEL_e72a73f412f8494cbbadd714ba7bf3be"
       ],
       "layout": "IPY_MODEL_85caf8f6560f420aae8f57d07d2d8d40"
      }
     },
     "676e4de473414ad29f88e05f7e98e79e": {
      "model_module": "@jupyter-widgets/base",
      "model_module_version": "1.2.0",
      "model_name": "LayoutModel",
      "state": {
       "width": "70px"
      }
     },
     "829eee3af552498aa8dee03671d1be29": {
      "model_module": "@jupyter-widgets/base",
      "model_module_version": "1.2.0",
      "model_name": "LayoutModel",
      "state": {
       "margin": "0px 0px 0px 37px",
       "width": "600px"
      }
     },
     "85caf8f6560f420aae8f57d07d2d8d40": {
      "model_module": "@jupyter-widgets/base",
      "model_module_version": "1.2.0",
      "model_name": "LayoutModel",
      "state": {
       "grid_template_areas": "\n                                       \". . . . right \"\n                                        ",
       "grid_template_columns": "20% 20% 20% 20% 20%",
       "width": "100%"
      }
     },
     "b189632a6a3842bbbd372a6a76add6ea": {
      "model_module": "@jupyter-widgets/base",
      "model_module_version": "1.2.0",
      "model_name": "LayoutModel",
      "state": {
       "width": "95px"
      }
     },
     "bbf8cf14d9fb4b16bbe8ec5c96288bb2": {
      "model_module": "@jupyter-widgets/controls",
      "model_module_version": "1.5.0",
      "model_name": "DescriptionStyleModel",
      "state": {
       "description_width": ""
      }
     },
     "cd7fb4343ef244959b4cb170ccc66215": {
      "model_module": "@jupyter-widgets/base",
      "model_module_version": "1.2.0",
      "model_name": "LayoutModel",
      "state": {
       "width": "145px"
      }
     },
     "d16f06d1bd494d5d8f1750e5acc5cce2": {
      "model_module": "@jupyter-widgets/controls",
      "model_module_version": "1.5.0",
      "model_name": "DescriptionStyleModel",
      "state": {
       "description_width": ""
      }
     },
     "dff9afb0c10840289e85647d3950e94e": {
      "model_module": "@jupyter-widgets/base",
      "model_module_version": "1.2.0",
      "model_name": "LayoutModel",
      "state": {
       "width": "190px"
      }
     },
     "e1d5fd5b0d06417086b57f4715e92dcd": {
      "model_module": "@jupyter-widgets/controls",
      "model_module_version": "1.5.0",
      "model_name": "HTMLModel",
      "state": {
       "layout": "IPY_MODEL_1d3c703587284d11b7ec076176fa0994",
       "style": "IPY_MODEL_bbf8cf14d9fb4b16bbe8ec5c96288bb2",
       "value": "<p style='font-family: IBM Plex Sans, Arial, Helvetica, sans-serif; font-size: 20px; font-weight: medium;'>Circuit Properties</p>"
      }
     },
     "e72a73f412f8494cbbadd714ba7bf3be": {
      "model_module": "@jupyter-widgets/controls",
      "model_module_version": "1.5.0",
      "model_name": "ButtonModel",
      "state": {
       "button_style": "primary",
       "description": "Clear",
       "layout": "IPY_MODEL_ea1a81c6ff444eeeaacdc8ab58ba533a",
       "style": "IPY_MODEL_340d5b15aeb144128c94072cbbe20be5"
      }
     },
     "ea1a81c6ff444eeeaacdc8ab58ba533a": {
      "model_module": "@jupyter-widgets/base",
      "model_module_version": "1.2.0",
      "model_name": "LayoutModel",
      "state": {
       "grid_area": "right",
       "padding": "0px 0px 0px 0px",
       "width": "70px"
      }
     },
     "f0bef7de6bee4b68b3d1c0c83665ecb5": {
      "model_module": "@jupyter-widgets/controls",
      "model_module_version": "1.5.0",
      "model_name": "HTMLModel",
      "state": {
       "layout": "IPY_MODEL_676e4de473414ad29f88e05f7e98e79e",
       "style": "IPY_MODEL_0dc43d9905e44d5b8b7d2d0d9d987098",
       "value": "<h5>Queue</h5>"
      }
     },
     "f0e739117d984f399c02ec715b54c9b0": {
      "model_module": "@jupyter-widgets/base",
      "model_module_version": "1.2.0",
      "model_name": "LayoutModel",
      "state": {}
     },
     "fd41378a87874021830adbfbd11af4b5": {
      "model_module": "@jupyter-widgets/controls",
      "model_module_version": "1.5.0",
      "model_name": "HBoxModel",
      "state": {
       "children": [
        "IPY_MODEL_244d5802607e43f382e63c54600e4688",
        "IPY_MODEL_0f1934a9540e418f8d3945209ad062cb",
        "IPY_MODEL_50309eed0ce544e0ae59566a29c70524",
        "IPY_MODEL_f0bef7de6bee4b68b3d1c0c83665ecb5",
        "IPY_MODEL_05d426e582df42d7b32e6bf032d198c1"
       ],
       "layout": "IPY_MODEL_829eee3af552498aa8dee03671d1be29"
      }
     },
     "fdc3afca1e704a149d159f91aa3a1bf6": {
      "model_module": "@jupyter-widgets/controls",
      "model_module_version": "1.5.0",
      "model_name": "DescriptionStyleModel",
      "state": {
       "description_width": ""
      }
     }
    },
    "version_major": 2,
    "version_minor": 0
   }
  }
 },
 "nbformat": 4,
 "nbformat_minor": 5
}
