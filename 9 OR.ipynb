{
 "cells": [
  {
   "cell_type": "code",
   "execution_count": 1,
   "metadata": {},
   "outputs": [
    {
     "name": "stdout",
     "output_type": "stream",
     "text": [
      "{'100': 1000}\n"
     ]
    }
   ],
   "source": [
    "from ibm_quantum_widgets import CircuitComposer\n",
    "from qiskit import QuantumRegister, ClassicalRegister, QuantumCircuit, qiskit, BasicAer\n",
    "from numpy import pi\n",
    "\n",
    "qreg_q = QuantumRegister(3, 'q')\n",
    "creg_c = ClassicalRegister(3, 'c')\n",
    "circuit = QuantumCircuit(qreg_q, creg_c)\n",
    "\n",
    "circuit.x(qreg_q[0])\n",
    "circuit.barrier(qreg_q[0])\n",
    "circuit.x(qreg_q[1])\n",
    "circuit.barrier(qreg_q[1])\n",
    "circuit.cx(qreg_q[0], qreg_q[2])\n",
    "circuit.cx(qreg_q[1], qreg_q[2])\n",
    "circuit.ccx(qreg_q[0], qreg_q[1], qreg_q[2])\n",
    "circuit.measure(qreg_q[2], creg_c[2])\n",
    "\n",
    "\n",
    "backend=BasicAer.get_backend('qasm_simulator')\n",
    "job=qiskit.execute(circuit,backend,shots=1000).result()\n",
    "print(job.get_counts())"
   ]
  },
  {
   "cell_type": "code",
   "execution_count": 2,
   "metadata": {},
   "outputs": [],
   "source": [
    "def or_gate(a, b):\n",
    "    \"\"\"\n",
    "    OR gate\n",
    "    \"\"\"\n",
    "    qc = QuantumCircuit(3, 1)\n",
    "\n",
    "    # Set up the registers\n",
    "    if a:\n",
    "        qc.x(0)\n",
    "    if b:\n",
    "        qc.x(1)\n",
    "\n",
    "    qc.barrier()\n",
    "\n",
    "    # OR\n",
    "    # If the first bit is 1, flip the result bit to 1. Otherwise, leave it as 0.\n",
    "    qc.cx(0, 2)\n",
    "    # If the second bit is 1, flip the result bit again (to 0 if the first is 1, or 1 if the first is 0). Otherwise, leave it as-is.\n",
    "    qc.cx(1, 2)\n",
    "    # If both bits are 1, flip the result bit one more time.\n",
    "    qc.ccx(0, 1, 2)\n",
    "\n",
    "    qc.barrier()\n",
    "\n",
    "    # Measure\n",
    "    qc.measure(2, 0)\n",
    "\n",
    "    job = qiskit.execute(qc, qiskit.BasicAer.get_backend('qasm_simulator'))\n",
    "    return job.result().get_counts()"
   ]
  },
  {
   "cell_type": "code",
   "execution_count": 4,
   "metadata": {},
   "outputs": [
    {
     "name": "stdout",
     "output_type": "stream",
     "text": [
      "i= 0 j= 0\n",
      "{'0': 1024}\n",
      "i= 0 j= 1\n",
      "{'1': 1024}\n",
      "i= 1 j= 0\n",
      "{'1': 1024}\n",
      "i= 1 j= 1\n",
      "{'1': 1024}\n"
     ]
    }
   ],
   "source": [
    "for i in range(2):\n",
    "    for j in range(2):\n",
    "        print('i=',i,'j=',j)\n",
    "        print(or_gate(i,j))"
   ]
  },
  {
   "cell_type": "code",
   "execution_count": null,
   "metadata": {},
   "outputs": [],
   "source": []
  }
 ],
 "metadata": {
  "kernelspec": {
   "display_name": "Qiskit v0.34.1 (ipykernel)",
   "language": "python",
   "name": "python3"
  },
  "language_info": {
   "codemirror_mode": {
    "name": "ipython",
    "version": 3
   },
   "file_extension": ".py",
   "mimetype": "text/x-python",
   "name": "python",
   "nbconvert_exporter": "python",
   "pygments_lexer": "ipython3",
   "version": "3.8.12"
  },
  "widgets": {
   "application/vnd.jupyter.widget-state+json": {
    "state": {},
    "version_major": 2,
    "version_minor": 0
   }
  }
 },
 "nbformat": 4,
 "nbformat_minor": 4
}
