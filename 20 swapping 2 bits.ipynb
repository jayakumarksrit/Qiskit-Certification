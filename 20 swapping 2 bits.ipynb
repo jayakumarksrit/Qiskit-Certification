{
 "cells": [
  {
   "cell_type": "code",
   "execution_count": 2,
   "id": "644cd1b5-3c7e-4f83-b423-ede3649e3904",
   "metadata": {},
   "outputs": [
    {
     "name": "stderr",
     "output_type": "stream",
     "text": [
      "ibmqfactory.load_account:WARNING:2022-01-20 05:52:39,064: Credentials are already in use. The existing account in the session will be replaced.\n"
     ]
    }
   ],
   "source": [
    "import numpy as np\n",
    "\n",
    "# Importing standard Qiskit libraries\n",
    "from qiskit import QuantumCircuit, transpile, Aer, IBMQ, qiskit\n",
    "from qiskit.tools.jupyter import *\n",
    "from qiskit.visualization import *\n",
    "from ibm_quantum_widgets import *\n",
    "from qiskit.providers.aer import QasmSimulator\n",
    "\n",
    "# Loading your IBM Quantum account(s)\n",
    "provider = IBMQ.load_account()"
   ]
  },
  {
   "cell_type": "code",
   "execution_count": 11,
   "id": "1320746a-700c-4144-96c6-955326c27aef",
   "metadata": {},
   "outputs": [
    {
     "data": {
      "text/plain": [
       "{'01': 1024}"
      ]
     },
     "execution_count": 11,
     "metadata": {},
     "output_type": "execute_result"
    }
   ],
   "source": [
    "def swap(b,a):\n",
    "    swap=QuantumCircuit(2)\n",
    "    if a:\n",
    "        swap.x(0)\n",
    "    if b:\n",
    "        swap.x(1)\n",
    "    \n",
    "    swap.cx(0,1)\n",
    "    swap.cx(1,0)\n",
    "    swap.cx(0,1)\n",
    "    swap.measure_all()\n",
    "    \n",
    "    job=qiskit.execute(swap, qiskit.BasicAer.get_backend('qasm_simulator'))\n",
    "    print(swap.depth())\n",
    "    return job.result().get_counts()\n",
    "\n",
    "swap(1,0)"
   ]
  },
  {
   "cell_type": "code",
   "execution_count": 12,
   "id": "5e697959-96b9-416c-be69-89328d620422",
   "metadata": {},
   "outputs": [
    {
     "data": {
      "text/plain": [
       "{'10': 1024}"
      ]
     },
     "execution_count": 12,
     "metadata": {},
     "output_type": "execute_result"
    }
   ],
   "source": [
    "swap(0,1)"
   ]
  },
  {
   "cell_type": "code",
   "execution_count": 19,
   "id": "35988308-e884-402e-8518-7254569498e0",
   "metadata": {},
   "outputs": [
    {
     "name": "stdout",
     "output_type": "stream",
     "text": [
      " 00 => 00 ? True \n",
      " 10 => 01 ? True \n",
      " 01 => 10 ? True \n",
      " 11 => 11 ? True \n"
     ]
    }
   ],
   "source": [
    "def swap_test(b,a):\n",
    "    input=[b,a]\n",
    "    input_str='{}{}'.format(input[0],input[1])\n",
    "    output=swap(input[0],input[1])\n",
    "    output_str=list(output.keys())[0].split(' ')[0]\n",
    "    print(' {} => {} ? {} '.format(input_str,output_str,input_str[::-1]==output_str))\n",
    "        \n",
    "swap_test(0,0)\n",
    "swap_test(1,0)\n",
    "swap_test(0,1)\n",
    "swap_test(1,1)"
   ]
  },
  {
   "cell_type": "code",
   "execution_count": null,
   "id": "6a6cbcdc-df1c-461e-90aa-2e0cf035f7b7",
   "metadata": {},
   "outputs": [],
   "source": []
  }
 ],
 "metadata": {
  "kernelspec": {
   "display_name": "Qiskit v0.34.1 (ipykernel)",
   "language": "python",
   "name": "python3"
  },
  "language_info": {
   "codemirror_mode": {
    "name": "ipython",
    "version": 3
   },
   "file_extension": ".py",
   "mimetype": "text/x-python",
   "name": "python",
   "nbconvert_exporter": "python",
   "pygments_lexer": "ipython3",
   "version": "3.8.12"
  },
  "widgets": {
   "application/vnd.jupyter.widget-state+json": {
    "state": {
     "05b03ed4bc804b3a91db15d8858bdbb8": {
      "model_module": "@jupyter-widgets/controls",
      "model_module_version": "1.5.0",
      "model_name": "HTMLModel",
      "state": {
       "layout": "IPY_MODEL_e34ed484ee1542b18f5fdb42635e932b",
       "style": "IPY_MODEL_618aa0ec56b041099346e142aca41f38",
       "value": "<h5>Job ID</h5>"
      }
     },
     "08e27fa3c1e54fda8a9a8409ed1774e8": {
      "model_module": "@jupyter-widgets/controls",
      "model_module_version": "1.5.0",
      "model_name": "ButtonStyleModel",
      "state": {}
     },
     "0d13f86d990f402a840e6123b23f3be6": {
      "model_module": "@jupyter-widgets/controls",
      "model_module_version": "1.5.0",
      "model_name": "HTMLModel",
      "state": {
       "layout": "IPY_MODEL_86f584ddc49f4b34b5f30798f62b3cef",
       "style": "IPY_MODEL_54d61990525a4b8eb5799025c5491931",
       "value": "<h5>Message</h5>"
      }
     },
     "28b8ffff1138454c90659cc23ebe78ff": {
      "model_module": "@jupyter-widgets/controls",
      "model_module_version": "1.5.0",
      "model_name": "HBoxModel",
      "state": {
       "children": [
        "IPY_MODEL_05b03ed4bc804b3a91db15d8858bdbb8",
        "IPY_MODEL_f501744b1408415c88c9b1bdc0bd6f26",
        "IPY_MODEL_f59e70bf5ed540b088546c5e88d22e2c",
        "IPY_MODEL_5354fc2e20894d728804fbb079a521d1",
        "IPY_MODEL_0d13f86d990f402a840e6123b23f3be6"
       ],
       "layout": "IPY_MODEL_f41cfede53534257ab8ad33be7e98c93"
      }
     },
     "432c006163374b83940fd6ee63f55e7d": {
      "model_module": "@jupyter-widgets/controls",
      "model_module_version": "1.5.0",
      "model_name": "DescriptionStyleModel",
      "state": {
       "description_width": ""
      }
     },
     "5354fc2e20894d728804fbb079a521d1": {
      "model_module": "@jupyter-widgets/controls",
      "model_module_version": "1.5.0",
      "model_name": "HTMLModel",
      "state": {
       "layout": "IPY_MODEL_b47f56b9ca944f5cad05c33855977ff8",
       "style": "IPY_MODEL_b2bec03393954741a397f62b6a5c4f20",
       "value": "<h5>Queue</h5>"
      }
     },
     "54d61990525a4b8eb5799025c5491931": {
      "model_module": "@jupyter-widgets/controls",
      "model_module_version": "1.5.0",
      "model_name": "DescriptionStyleModel",
      "state": {
       "description_width": ""
      }
     },
     "580eb68aa6ad44a5b87cbad64c2b8390": {
      "model_module": "@jupyter-widgets/base",
      "model_module_version": "1.2.0",
      "model_name": "LayoutModel",
      "state": {
       "margin": "0px 0px 10px 0px"
      }
     },
     "5f4b6cf728954f148d1612ee0b69da09": {
      "model_module": "@jupyter-widgets/base",
      "model_module_version": "1.2.0",
      "model_name": "LayoutModel",
      "state": {
       "grid_template_areas": "\n                                       \". . . . right \"\n                                        ",
       "grid_template_columns": "20% 20% 20% 20% 20%",
       "width": "100%"
      }
     },
     "618aa0ec56b041099346e142aca41f38": {
      "model_module": "@jupyter-widgets/controls",
      "model_module_version": "1.5.0",
      "model_name": "DescriptionStyleModel",
      "state": {
       "description_width": ""
      }
     },
     "6535f61df11d4b918fd17817fefec9e0": {
      "model_module": "@jupyter-widgets/controls",
      "model_module_version": "1.5.0",
      "model_name": "GridBoxModel",
      "state": {
       "children": [
        "IPY_MODEL_f911915f223d48229299ba6cf030ae06"
       ],
       "layout": "IPY_MODEL_5f4b6cf728954f148d1612ee0b69da09"
      }
     },
     "7caeac9cf26e4d5cbfd5a517bffb863d": {
      "model_module": "@jupyter-widgets/base",
      "model_module_version": "1.2.0",
      "model_name": "LayoutModel",
      "state": {
       "width": "95px"
      }
     },
     "86f584ddc49f4b34b5f30798f62b3cef": {
      "model_module": "@jupyter-widgets/base",
      "model_module_version": "1.2.0",
      "model_name": "LayoutModel",
      "state": {}
     },
     "99235daa7d174fdbb4388fc4d915e232": {
      "model_module": "@jupyter-widgets/controls",
      "model_module_version": "1.5.0",
      "model_name": "DescriptionStyleModel",
      "state": {
       "description_width": ""
      }
     },
     "a0e41eae43834370b24fd169f5e4bfa8": {
      "model_module": "@jupyter-widgets/controls",
      "model_module_version": "1.5.0",
      "model_name": "HTMLModel",
      "state": {
       "layout": "IPY_MODEL_580eb68aa6ad44a5b87cbad64c2b8390",
       "style": "IPY_MODEL_432c006163374b83940fd6ee63f55e7d",
       "value": "<p style='font-family: IBM Plex Sans, Arial, Helvetica, sans-serif; font-size: 20px; font-weight: medium;'>Circuit Properties</p>"
      }
     },
     "b0a595d4231d4b20a0392424ccb73db8": {
      "model_module": "@jupyter-widgets/controls",
      "model_module_version": "1.5.0",
      "model_name": "DescriptionStyleModel",
      "state": {
       "description_width": ""
      }
     },
     "b2bec03393954741a397f62b6a5c4f20": {
      "model_module": "@jupyter-widgets/controls",
      "model_module_version": "1.5.0",
      "model_name": "DescriptionStyleModel",
      "state": {
       "description_width": ""
      }
     },
     "b47f56b9ca944f5cad05c33855977ff8": {
      "model_module": "@jupyter-widgets/base",
      "model_module_version": "1.2.0",
      "model_name": "LayoutModel",
      "state": {
       "width": "70px"
      }
     },
     "e34ed484ee1542b18f5fdb42635e932b": {
      "model_module": "@jupyter-widgets/base",
      "model_module_version": "1.2.0",
      "model_name": "LayoutModel",
      "state": {
       "width": "190px"
      }
     },
     "f41cfede53534257ab8ad33be7e98c93": {
      "model_module": "@jupyter-widgets/base",
      "model_module_version": "1.2.0",
      "model_name": "LayoutModel",
      "state": {
       "margin": "0px 0px 0px 37px",
       "width": "600px"
      }
     },
     "f501744b1408415c88c9b1bdc0bd6f26": {
      "model_module": "@jupyter-widgets/controls",
      "model_module_version": "1.5.0",
      "model_name": "HTMLModel",
      "state": {
       "layout": "IPY_MODEL_faaec97ec2ca4fefaf21203e1f7e7b85",
       "style": "IPY_MODEL_99235daa7d174fdbb4388fc4d915e232",
       "value": "<h5>Backend</h5>"
      }
     },
     "f59e70bf5ed540b088546c5e88d22e2c": {
      "model_module": "@jupyter-widgets/controls",
      "model_module_version": "1.5.0",
      "model_name": "HTMLModel",
      "state": {
       "layout": "IPY_MODEL_7caeac9cf26e4d5cbfd5a517bffb863d",
       "style": "IPY_MODEL_b0a595d4231d4b20a0392424ccb73db8",
       "value": "<h5>Status</h5>"
      }
     },
     "f71c80fbe2a94624b7afbab8686de40f": {
      "model_module": "@jupyter-widgets/base",
      "model_module_version": "1.2.0",
      "model_name": "LayoutModel",
      "state": {
       "grid_area": "right",
       "padding": "0px 0px 0px 0px",
       "width": "70px"
      }
     },
     "f911915f223d48229299ba6cf030ae06": {
      "model_module": "@jupyter-widgets/controls",
      "model_module_version": "1.5.0",
      "model_name": "ButtonModel",
      "state": {
       "button_style": "primary",
       "description": "Clear",
       "layout": "IPY_MODEL_f71c80fbe2a94624b7afbab8686de40f",
       "style": "IPY_MODEL_08e27fa3c1e54fda8a9a8409ed1774e8"
      }
     },
     "faaec97ec2ca4fefaf21203e1f7e7b85": {
      "model_module": "@jupyter-widgets/base",
      "model_module_version": "1.2.0",
      "model_name": "LayoutModel",
      "state": {
       "width": "145px"
      }
     }
    },
    "version_major": 2,
    "version_minor": 0
   }
  }
 },
 "nbformat": 4,
 "nbformat_minor": 5
}
