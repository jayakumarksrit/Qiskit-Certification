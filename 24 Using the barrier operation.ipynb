{
 "cells": [
  {
   "cell_type": "code",
   "execution_count": 2,
   "id": "136e5d6e-1e32-4bdc-9217-9cbfb32d16d2",
   "metadata": {},
   "outputs": [
    {
     "name": "stderr",
     "output_type": "stream",
     "text": [
      "ibmqfactory.load_account:WARNING:2022-01-26 08:25:06,772: Credentials are already in use. The existing account in the session will be replaced.\n"
     ]
    }
   ],
   "source": [
    "import numpy as np\n",
    "\n",
    "# Importing standard Qiskit libraries\n",
    "from qiskit import QuantumCircuit, transpile, Aer, IBMQ\n",
    "from qiskit.tools.jupyter import *\n",
    "from qiskit.visualization import *\n",
    "from ibm_quantum_widgets import *\n",
    "from qiskit.providers.aer import QasmSimulator\n",
    "\n",
    "# Loading your IBM Quantum account(s)\n",
    "provider = IBMQ.load_account()"
   ]
  },
  {
   "cell_type": "code",
   "execution_count": 9,
   "id": "0f4a4a00-684e-44ee-a3b7-69f2f0814059",
   "metadata": {},
   "outputs": [
    {
     "data": {
      "image/png": "[encoded data removed]",
      "text/plain": [
       "<Figure size 146.652x144.48 with 1 Axes>"
      ]
     },
     "execution_count": 9,
     "metadata": {},
     "output_type": "execute_result"
    }
   ],
   "source": [
    "qc1=QuantumCircuit(2)\n",
    "qc1.barrier()\n",
    "qc1.draw()"
   ]
  },
  {
   "cell_type": "code",
   "execution_count": 11,
   "id": "f29bcc78-28f0-47b8-93c8-bc712f57abda",
   "metadata": {},
   "outputs": [
    {
     "data": {
      "image/png": "[encoded data removed]",
      "text/plain": [
       "<Figure size 146.652x144.48 with 1 Axes>"
      ]
     },
     "execution_count": 11,
     "metadata": {},
     "output_type": "execute_result"
    }
   ],
   "source": [
    "qc2=QuantumCircuit(2)\n",
    "qc2.barrier([0,1])\n",
    "qc2.draw()"
   ]
  },
  {
   "cell_type": "code",
   "execution_count": 12,
   "id": "3102b8a4-bc7d-4063-b483-8aed9f3f54d7",
   "metadata": {},
   "outputs": [
    {
     "data": {
      "image/png": "[encoded data removed]",
      "text/plain": [
       "<Figure size 146.652x144.48 with 1 Axes>"
      ]
     },
     "execution_count": 12,
     "metadata": {},
     "output_type": "execute_result"
    }
   ],
   "source": [
    "qc3=QuantumCircuit(2)\n",
    "qc3.barrier(1)\n",
    "qc3.draw()"
   ]
  },
  {
   "cell_type": "code",
   "execution_count": 17,
   "id": "ef17e3fe-49c2-4a7d-acd1-c8b458e0aa85",
   "metadata": {},
   "outputs": [
    {
     "name": "stdout",
     "output_type": "stream",
     "text": [
      "qc1 circuit\n",
      "\n",
      "      ░ \n",
      "q_0: ─░─\n",
      "      ░ \n",
      "q_1: ─░─\n",
      "      ░ \n",
      "qc2 circuit\n",
      "\n",
      "      ░ \n",
      "q_0: ─░─\n",
      "      ░ \n",
      "q_1: ─░─\n",
      "      ░ \n",
      "qc3 circuit\n",
      "\n",
      "        \n",
      "q_0: ───\n",
      "      ░ \n",
      "q_1: ─░─\n",
      "      ░ \n"
     ]
    }
   ],
   "source": [
    "print('qc1 circuit\\n')\n",
    "print(qc1)\n",
    "print('qc2 circuit\\n')\n",
    "print(qc2)\n",
    "print('qc3 circuit\\n')\n",
    "print(qc3)"
   ]
  },
  {
   "cell_type": "code",
   "execution_count": 19,
   "id": "5c1ae5ab-0748-4197-b2f0-75a7ace16856",
   "metadata": {},
   "outputs": [
    {
     "data": {
      "image/png": "[encoded data removed]",
      "text/plain": [
       "<Figure size 146.797x204.68 with 1 Axes>"
      ]
     },
     "execution_count": 19,
     "metadata": {},
     "output_type": "execute_result"
    }
   ],
   "source": [
    "qc4=QuantumCircuit(3)\n",
    "qc4.barrier(0,2)\n",
    "qc4.draw()"
   ]
  },
  {
   "cell_type": "code",
   "execution_count": 20,
   "id": "7fae964c-6853-40b0-b90a-9862e0ebf63d",
   "metadata": {},
   "outputs": [
    {
     "data": {
      "image/png": "[encoded data removed]",
      "text/plain": [
       "<Figure size 146.797x204.68 with 1 Axes>"
      ]
     },
     "execution_count": 20,
     "metadata": {},
     "output_type": "execute_result"
    }
   ],
   "source": [
    "qc5=QuantumCircuit(3)\n",
    "qc5.barrier([0,2])\n",
    "qc5.draw()"
   ]
  },
  {
   "cell_type": "code",
   "execution_count": null,
   "id": "ab05df99-5324-4883-8cec-79140eeb5696",
   "metadata": {},
   "outputs": [],
   "source": []
  }
 ],
 "metadata": {
  "kernelspec": {
   "display_name": "Qiskit v0.34.1 (ipykernel)",
   "language": "python",
   "name": "python3"
  },
  "language_info": {
   "codemirror_mode": {
    "name": "ipython",
    "version": 3
   },
   "file_extension": ".py",
   "mimetype": "text/x-python",
   "name": "python",
   "nbconvert_exporter": "python",
   "pygments_lexer": "ipython3",
   "version": "3.8.12"
  },
  "widgets": {
   "application/vnd.jupyter.widget-state+json": {
    "state": {
     "186a6d0a58d14a56a0fddff205fb95ac": {
      "model_module": "@jupyter-widgets/controls",
      "model_module_version": "1.5.0",
      "model_name": "HTMLModel",
      "state": {
       "layout": "IPY_MODEL_48a965c9778d48eb87d5fe816335685a",
       "style": "IPY_MODEL_983e8c779794482b911bc807559589db",
       "value": "<h5>Backend</h5>"
      }
     },
     "1e87a048d6b6487a958ec60388c7f954": {
      "model_module": "@jupyter-widgets/controls",
      "model_module_version": "1.5.0",
      "model_name": "HTMLModel",
      "state": {
       "layout": "IPY_MODEL_54996d6babb14958abfa9ed4016d08f8",
       "style": "IPY_MODEL_c1b4cb287d5c49dd90173ae683223428",
       "value": "<h5>Message</h5>"
      }
     },
     "37e215bcac3e43ee90f17046cb9072a4": {
      "model_module": "@jupyter-widgets/controls",
      "model_module_version": "1.5.0",
      "model_name": "HTMLModel",
      "state": {
       "layout": "IPY_MODEL_7fc83b4a6ef44268bed1be182ee07467",
       "style": "IPY_MODEL_45d3a6bea6ab42dab656042b5fe84c0b",
       "value": "<h5>Job ID</h5>"
      }
     },
     "3b449593828d4e8e9d86a7499941e2a8": {
      "model_module": "@jupyter-widgets/controls",
      "model_module_version": "1.5.0",
      "model_name": "ButtonStyleModel",
      "state": {}
     },
     "4424caab13644d7e962508d843419347": {
      "model_module": "@jupyter-widgets/base",
      "model_module_version": "1.2.0",
      "model_name": "LayoutModel",
      "state": {
       "grid_area": "right",
       "padding": "0px 0px 0px 0px",
       "width": "70px"
      }
     },
     "45d3a6bea6ab42dab656042b5fe84c0b": {
      "model_module": "@jupyter-widgets/controls",
      "model_module_version": "1.5.0",
      "model_name": "DescriptionStyleModel",
      "state": {
       "description_width": ""
      }
     },
     "48a965c9778d48eb87d5fe816335685a": {
      "model_module": "@jupyter-widgets/base",
      "model_module_version": "1.2.0",
      "model_name": "LayoutModel",
      "state": {
       "width": "145px"
      }
     },
     "4e31e34af6024ec6bc075cf8371b0ade": {
      "model_module": "@jupyter-widgets/controls",
      "model_module_version": "1.5.0",
      "model_name": "HTMLModel",
      "state": {
       "layout": "IPY_MODEL_c2620b6013c04194bdbe67d737c224fd",
       "style": "IPY_MODEL_94c0bccfb3384757a1ed15c6a48e7a8e",
       "value": "<h5>Status</h5>"
      }
     },
     "54996d6babb14958abfa9ed4016d08f8": {
      "model_module": "@jupyter-widgets/base",
      "model_module_version": "1.2.0",
      "model_name": "LayoutModel",
      "state": {}
     },
     "594b4939cf714e78a17b738a9451e57f": {
      "model_module": "@jupyter-widgets/controls",
      "model_module_version": "1.5.0",
      "model_name": "DescriptionStyleModel",
      "state": {
       "description_width": ""
      }
     },
     "6bc02849f36a4c36a0e6927fb4237173": {
      "model_module": "@jupyter-widgets/controls",
      "model_module_version": "1.5.0",
      "model_name": "HTMLModel",
      "state": {
       "layout": "IPY_MODEL_fa7210c701474187b90af9fdab8725f5",
       "style": "IPY_MODEL_75f84fa6d670409aad60033ba59108af",
       "value": "<p style='font-family: IBM Plex Sans, Arial, Helvetica, sans-serif; font-size: 20px; font-weight: medium;'>Circuit Properties</p>"
      }
     },
     "75f84fa6d670409aad60033ba59108af": {
      "model_module": "@jupyter-widgets/controls",
      "model_module_version": "1.5.0",
      "model_name": "DescriptionStyleModel",
      "state": {
       "description_width": ""
      }
     },
     "7fc83b4a6ef44268bed1be182ee07467": {
      "model_module": "@jupyter-widgets/base",
      "model_module_version": "1.2.0",
      "model_name": "LayoutModel",
      "state": {
       "width": "190px"
      }
     },
     "8a4511ecc13b42e6a552c70a97241c60": {
      "model_module": "@jupyter-widgets/base",
      "model_module_version": "1.2.0",
      "model_name": "LayoutModel",
      "state": {
       "grid_template_areas": "\n                                       \". . . . right \"\n                                        ",
       "grid_template_columns": "20% 20% 20% 20% 20%",
       "width": "100%"
      }
     },
     "94c0bccfb3384757a1ed15c6a48e7a8e": {
      "model_module": "@jupyter-widgets/controls",
      "model_module_version": "1.5.0",
      "model_name": "DescriptionStyleModel",
      "state": {
       "description_width": ""
      }
     },
     "983e8c779794482b911bc807559589db": {
      "model_module": "@jupyter-widgets/controls",
      "model_module_version": "1.5.0",
      "model_name": "DescriptionStyleModel",
      "state": {
       "description_width": ""
      }
     },
     "9f1798c3426e438fa59221cc0e5fca87": {
      "model_module": "@jupyter-widgets/controls",
      "model_module_version": "1.5.0",
      "model_name": "HTMLModel",
      "state": {
       "layout": "IPY_MODEL_e1103ad7c5634290b1927540dddb248b",
       "style": "IPY_MODEL_594b4939cf714e78a17b738a9451e57f",
       "value": "<h5>Queue</h5>"
      }
     },
     "c1b4cb287d5c49dd90173ae683223428": {
      "model_module": "@jupyter-widgets/controls",
      "model_module_version": "1.5.0",
      "model_name": "DescriptionStyleModel",
      "state": {
       "description_width": ""
      }
     },
     "c2620b6013c04194bdbe67d737c224fd": {
      "model_module": "@jupyter-widgets/base",
      "model_module_version": "1.2.0",
      "model_name": "LayoutModel",
      "state": {
       "width": "95px"
      }
     },
     "c7567e5cd1134d368ad00bd16c2803f9": {
      "model_module": "@jupyter-widgets/controls",
      "model_module_version": "1.5.0",
      "model_name": "HBoxModel",
      "state": {
       "children": [
        "IPY_MODEL_37e215bcac3e43ee90f17046cb9072a4",
        "IPY_MODEL_186a6d0a58d14a56a0fddff205fb95ac",
        "IPY_MODEL_4e31e34af6024ec6bc075cf8371b0ade",
        "IPY_MODEL_9f1798c3426e438fa59221cc0e5fca87",
        "IPY_MODEL_1e87a048d6b6487a958ec60388c7f954"
       ],
       "layout": "IPY_MODEL_f2aedde6e62c4fa0b6c066139ec513a3"
      }
     },
     "da70c17850b141c59e5e306cf1bc45b1": {
      "model_module": "@jupyter-widgets/controls",
      "model_module_version": "1.5.0",
      "model_name": "GridBoxModel",
      "state": {
       "children": [
        "IPY_MODEL_e7925005ad0e48c9ba480a2d4fb25289"
       ],
       "layout": "IPY_MODEL_8a4511ecc13b42e6a552c70a97241c60"
      }
     },
     "e1103ad7c5634290b1927540dddb248b": {
      "model_module": "@jupyter-widgets/base",
      "model_module_version": "1.2.0",
      "model_name": "LayoutModel",
      "state": {
       "width": "70px"
      }
     },
     "e7925005ad0e48c9ba480a2d4fb25289": {
      "model_module": "@jupyter-widgets/controls",
      "model_module_version": "1.5.0",
      "model_name": "ButtonModel",
      "state": {
       "button_style": "primary",
       "description": "Clear",
       "layout": "IPY_MODEL_4424caab13644d7e962508d843419347",
       "style": "IPY_MODEL_3b449593828d4e8e9d86a7499941e2a8"
      }
     },
     "f2aedde6e62c4fa0b6c066139ec513a3": {
      "model_module": "@jupyter-widgets/base",
      "model_module_version": "1.2.0",
      "model_name": "LayoutModel",
      "state": {
       "margin": "0px 0px 0px 37px",
       "width": "600px"
      }
     },
     "fa7210c701474187b90af9fdab8725f5": {
      "model_module": "@jupyter-widgets/base",
      "model_module_version": "1.2.0",
      "model_name": "LayoutModel",
      "state": {
       "margin": "0px 0px 10px 0px"
      }
     }
    },
    "version_major": 2,
    "version_minor": 0
   }
  }
 },
 "nbformat": 4,
 "nbformat_minor": 5
}
