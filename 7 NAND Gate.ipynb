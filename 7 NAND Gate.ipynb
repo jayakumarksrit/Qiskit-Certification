{
 "cells": [
  {
   "cell_type": "code",
   "execution_count": 6,
   "metadata": {},
   "outputs": [
    {
     "data": {
      "text/plain": [
       "<qiskit.circuit.instructionset.InstructionSet at 0x7f3b656a6c80>"
      ]
     },
     "execution_count": 6,
     "metadata": {},
     "output_type": "execute_result"
    }
   ],
   "source": [
    "from ibm_quantum_widgets import CircuitComposer\n",
    "from qiskit import QuantumRegister, ClassicalRegister, QuantumCircuit, BasicAer, qiskit\n",
    "from numpy import pi\n",
    "\n",
    "qreg_q = QuantumRegister(3, 'q')\n",
    "creg_c = ClassicalRegister(3, 'c')\n",
    "circuit = QuantumCircuit(qreg_q, creg_c)\n",
    "\n",
    "circuit.x(qreg_q[0])\n",
    "circuit.x(qreg_q[1])\n",
    "circuit.barrier(qreg_q[0])\n",
    "circuit.barrier(qreg_q[1])\n",
    "circuit.ccx(qreg_q[0], qreg_q[1], qreg_q[2])\n",
    "circuit.x(qreg_q[2])\n",
    "circuit.measure(qreg_q[2], creg_c[2])"
   ]
  },
  {
   "cell_type": "code",
   "execution_count": 9,
   "metadata": {},
   "outputs": [
    {
     "name": "stdout",
     "output_type": "stream",
     "text": [
      "{'000': 1000}\n"
     ]
    }
   ],
   "source": [
    "backend=BasicAer.get_backend('qasm_simulator')\n",
    "job=qiskit.execute(circuit,backend,shots=1000).result()\n",
    "print(job.get_counts())"
   ]
  },
  {
   "cell_type": "code",
   "execution_count": 10,
   "metadata": {},
   "outputs": [],
   "source": [
    "def nand(a, b):\n",
    "    \"\"\"\n",
    "    NAND gate\n",
    "    \"\"\"\n",
    "    qc = QuantumCircuit(3, 1)\n",
    "\n",
    "    # Set up the registers\n",
    "    if a:\n",
    "        qc.x(0)\n",
    "    if b:\n",
    "        qc.x(1)\n",
    "\n",
    "    qc.barrier()\n",
    "\n",
    "    # NAND\n",
    "    qc.ccx(0, 1, 2)\n",
    "    qc.x(2)\n",
    "\n",
    "    qc.barrier()\n",
    "\n",
    "    # Measure\n",
    "    qc.measure(2, 0)\n",
    "\n",
    "    job = qiskit.execute(qc, qiskit.BasicAer.get_backend('qasm_simulator'))\n",
    "    return job.result().get_counts()"
   ]
  },
  {
   "cell_type": "code",
   "execution_count": null,
   "metadata": {},
   "outputs": [],
   "source": [
    "for i in range(2):\n",
    "    for j in range(2):\n",
    "        nand(i,j)"
   ]
  }
 ],
 "metadata": {
  "kernelspec": {
   "display_name": "Qiskit v0.34.1 (ipykernel)",
   "language": "python",
   "name": "python3"
  },
  "language_info": {
   "codemirror_mode": {
    "name": "ipython",
    "version": 3
   },
   "file_extension": ".py",
   "mimetype": "text/x-python",
   "name": "python",
   "nbconvert_exporter": "python",
   "pygments_lexer": "ipython3",
   "version": "3.8.10"
  },
  "widgets": {
   "application/vnd.jupyter.widget-state+json": {
    "state": {},
    "version_major": 2,
    "version_minor": 0
   }
  }
 },
 "nbformat": 4,
 "nbformat_minor": 4
}
