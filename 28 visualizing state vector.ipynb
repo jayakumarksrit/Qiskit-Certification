{
 "cells": [
  {
   "cell_type": "code",
   "execution_count": 1,
   "id": "dcaa62a7-54f9-440d-b2c2-9a2476fb8f3b",
   "metadata": {},
   "outputs": [],
   "source": [
    "import numpy as np\n",
    "\n",
    "# Importing standard Qiskit libraries\n",
    "from qiskit import QuantumCircuit, transpile, Aer, IBMQ\n",
    "from qiskit.tools.jupyter import *\n",
    "from qiskit.visualization import *\n",
    "from ibm_quantum_widgets import *\n",
    "from qiskit.providers.aer import QasmSimulator\n",
    "\n",
    "# Loading your IBM Quantum account(s)\n",
    "provider = IBMQ.load_account()"
   ]
  },
  {
   "cell_type": "code",
   "execution_count": 2,
   "id": "906dd49d-2dcb-47aa-ad40-860604a073b6",
   "metadata": {},
   "outputs": [
    {
     "data": {
      "text/latex": [
       "$$\\frac{\\sqrt{2}}{2} |00\\rangle+\\frac{\\sqrt{2}}{2} |11\\rangle$$"
      ],
      "text/plain": [
       "<IPython.core.display.Latex object>"
      ]
     },
     "execution_count": 2,
     "metadata": {},
     "output_type": "execute_result"
    }
   ],
   "source": [
    "from qiskit.quantum_info import Statevector\n",
    "\n",
    "qc=QuantumCircuit(2)\n",
    "qc.h(0)\n",
    "qc.cx(0,1)\n",
    "\n",
    "state_vector=Statevector.from_label('00')\n",
    "state_vector_ev=state_vector.evolve(qc)\n",
    "state_vector_ev.draw('latex')"
   ]
  },
  {
   "cell_type": "code",
   "execution_count": 3,
   "id": "497039f4-e9ff-4df9-873f-cfbbe51b4eae",
   "metadata": {},
   "outputs": [
    {
     "data": {
      "text/plain": [
       "qiskit.quantum_info.states.statevector.Statevector"
      ]
     },
     "execution_count": 3,
     "metadata": {},
     "output_type": "execute_result"
    }
   ],
   "source": [
    "type(state_vector)"
   ]
  },
  {
   "cell_type": "code",
   "execution_count": 4,
   "id": "6d06c5c2-8a82-4f37-9978-18d32297728a",
   "metadata": {},
   "outputs": [
    {
     "name": "stdout",
     "output_type": "stream",
     "text": [
      "<class 'qiskit.quantum_info.states.statevector.Statevector'>\n"
     ]
    }
   ],
   "source": [
    "print(type(state_vector))"
   ]
  },
  {
   "cell_type": "code",
   "execution_count": 5,
   "id": "a5eb677a-390c-4a5c-b136-98656f41986d",
   "metadata": {},
   "outputs": [
    {
     "data": {
      "text/plain": [
       "qiskit.quantum_info.states.statevector.Statevector"
      ]
     },
     "execution_count": 5,
     "metadata": {},
     "output_type": "execute_result"
    }
   ],
   "source": [
    "type(state_vector_ev)"
   ]
  },
  {
   "cell_type": "code",
   "execution_count": 6,
   "id": "c67a6cb3-4ab0-4c10-8f68-478af8247f90",
   "metadata": {},
   "outputs": [
    {
     "name": "stdout",
     "output_type": "stream",
     "text": [
      "<class 'qiskit.quantum_info.states.statevector.Statevector'>\n"
     ]
    }
   ],
   "source": [
    "print(type(state_vector_ev))"
   ]
  },
  {
   "cell_type": "code",
   "execution_count": 7,
   "id": "1cfb56c7-70ef-4ec9-adff-8b5f99e41888",
   "metadata": {},
   "outputs": [
    {
     "name": "stdout",
     "output_type": "stream",
     "text": [
      "Statevector([1.+0.j, 0.+0.j, 0.+0.j, 0.+0.j],\n",
      "            dims=(2, 2))\n"
     ]
    }
   ],
   "source": [
    "state_vector"
   ]
  },
  {
   "cell_type": "code",
   "execution_count": 8,
   "id": "e07ce007-abf3-48cb-855b-8c010c80d013",
   "metadata": {},
   "outputs": [
    {
     "name": "stdout",
     "output_type": "stream",
     "text": [
      "Statevector([0.70710678+0.j, 0.        +0.j, 0.        +0.j,\n",
      "             0.70710678+0.j],\n",
      "            dims=(2, 2))\n"
     ]
    }
   ],
   "source": [
    "state_vector_ev"
   ]
  },
  {
   "cell_type": "code",
   "execution_count": 9,
   "id": "32bd29ea-830b-46c3-b8e7-e8085cf182a3",
   "metadata": {},
   "outputs": [
    {
     "data": {
      "text/plain": [
       "[0.70710678+0.j,0.        +0.j,0.        +0.j,0.70710678+0.j]"
      ]
     },
     "execution_count": 9,
     "metadata": {},
     "output_type": "execute_result"
    }
   ],
   "source": [
    "state_vector_ev.draw('text')"
   ]
  },
  {
   "cell_type": "code",
   "execution_count": 10,
   "id": "4442d18f-87e7-49db-86d2-c17e19302f9f",
   "metadata": {},
   "outputs": [],
   "source": [
    "figure=state_vector_ev.draw('qsphere')\n",
    "figure.savefig('state-vector-qsphere.png')\n",
    "\n",
    "figure2=state_vector_ev.draw('hinton')\n",
    "figure2.savefig('state-vector-hinton.png')\n",
    "\n",
    "figure3=plot_state_city(state_vector_ev, title='Density Matrix', color=['orange','black'])\n",
    "figure3.savefig('plot-density-matrix.png')"
   ]
  },
  {
   "cell_type": "code",
   "execution_count": 14,
   "id": "cc88beda-cefe-439c-a247-7d20f1429a64",
   "metadata": {},
   "outputs": [],
   "source": [
    "from qiskit import qiskit, BasicAer\n",
    "figure4=plot_bloch_vector([0,0.25,1])\n",
    "figure4.savefig('plot-bloch-vector.png')\n",
    "\n",
    "figure5=state_vector_ev.draw('bloch')\n",
    "figure5.savefig('plot-bloch-state-vector.png')\n",
    "\n",
    "result=qiskit.execute(qc,BasicAer.get_backend('statevector_simulator')).result()\n",
    "sim_state_vector=result.get_statevector()\n",
    "figure6=plot_bloch_multivector(sim_state_vector)\n",
    "figure6.savefig('plot-bloch-multivector.png')"
   ]
  },
  {
   "cell_type": "code",
   "execution_count": null,
   "id": "982cf50f-0a0c-49ff-9661-8af2c64b669c",
   "metadata": {},
   "outputs": [],
   "source": []
  }
 ],
 "metadata": {
  "kernelspec": {
   "display_name": "Qiskit v0.34.1 (ipykernel)",
   "language": "python",
   "name": "python3"
  },
  "language_info": {
   "codemirror_mode": {
    "name": "ipython",
    "version": 3
   },
   "file_extension": ".py",
   "mimetype": "text/x-python",
   "name": "python",
   "nbconvert_exporter": "python",
   "pygments_lexer": "ipython3",
   "version": "3.8.12"
  },
  "widgets": {
   "application/vnd.jupyter.widget-state+json": {
    "state": {
     "14cc1e9b25e146a180a0cb4f69de6586": {
      "model_module": "@jupyter-widgets/controls",
      "model_module_version": "1.5.0",
      "model_name": "HTMLModel",
      "state": {
       "layout": "IPY_MODEL_1e9d9817805948acba9fc2bfa3b59df4",
       "style": "IPY_MODEL_ac8da6f77fdf401d9b80c15af6e14f3d",
       "value": "<h5>Backend</h5>"
      }
     },
     "19d871cde2bb47eca9691f6f53cead68": {
      "model_module": "@jupyter-widgets/controls",
      "model_module_version": "1.5.0",
      "model_name": "DescriptionStyleModel",
      "state": {
       "description_width": ""
      }
     },
     "1e9d9817805948acba9fc2bfa3b59df4": {
      "model_module": "@jupyter-widgets/base",
      "model_module_version": "1.2.0",
      "model_name": "LayoutModel",
      "state": {
       "width": "145px"
      }
     },
     "2c7874f8dd6c453993cf5e7beca930d9": {
      "model_module": "@jupyter-widgets/base",
      "model_module_version": "1.2.0",
      "model_name": "LayoutModel",
      "state": {
       "width": "190px"
      }
     },
     "2ef9d8bf9ee240a0bac85953a80e74b7": {
      "model_module": "@jupyter-widgets/controls",
      "model_module_version": "1.5.0",
      "model_name": "DescriptionStyleModel",
      "state": {
       "description_width": ""
      }
     },
     "31bc0a3e7c84436bbf23aca04b7438bb": {
      "model_module": "@jupyter-widgets/base",
      "model_module_version": "1.2.0",
      "model_name": "LayoutModel",
      "state": {
       "margin": "0px 0px 0px 37px",
       "width": "600px"
      }
     },
     "38d3b5ad3bcd4889a5d5c52aa704c02b": {
      "model_module": "@jupyter-widgets/controls",
      "model_module_version": "1.5.0",
      "model_name": "ButtonStyleModel",
      "state": {}
     },
     "3a5de874961249a78615c78cd067ae2c": {
      "model_module": "@jupyter-widgets/controls",
      "model_module_version": "1.5.0",
      "model_name": "ButtonModel",
      "state": {
       "button_style": "primary",
       "description": "Clear",
       "layout": "IPY_MODEL_c04c5e58b66e4733a333997a271d20f2",
       "style": "IPY_MODEL_38d3b5ad3bcd4889a5d5c52aa704c02b"
      }
     },
     "3d76b7096ba3482ba36a94150aedc73e": {
      "model_module": "@jupyter-widgets/base",
      "model_module_version": "1.2.0",
      "model_name": "LayoutModel",
      "state": {
       "width": "70px"
      }
     },
     "667a49dc3da34a42bb6c4bb314fd9c04": {
      "model_module": "@jupyter-widgets/base",
      "model_module_version": "1.2.0",
      "model_name": "LayoutModel",
      "state": {
       "margin": "0px 0px 10px 0px"
      }
     },
     "6e39d96e64c04013b301f064ffc2d8cb": {
      "model_module": "@jupyter-widgets/controls",
      "model_module_version": "1.5.0",
      "model_name": "GridBoxModel",
      "state": {
       "children": [
        "IPY_MODEL_3a5de874961249a78615c78cd067ae2c"
       ],
       "layout": "IPY_MODEL_fc8d0b16a3b44581ab21dcac646f7f3b"
      }
     },
     "715b7ff1566b4fa4990aa38b14adfaf9": {
      "model_module": "@jupyter-widgets/base",
      "model_module_version": "1.2.0",
      "model_name": "LayoutModel",
      "state": {
       "width": "95px"
      }
     },
     "80645731b84a42d587efc3bbdff38f7a": {
      "model_module": "@jupyter-widgets/controls",
      "model_module_version": "1.5.0",
      "model_name": "DescriptionStyleModel",
      "state": {
       "description_width": ""
      }
     },
     "831f228bac104a95950d731cd8ac8622": {
      "model_module": "@jupyter-widgets/controls",
      "model_module_version": "1.5.0",
      "model_name": "HTMLModel",
      "state": {
       "layout": "IPY_MODEL_2c7874f8dd6c453993cf5e7beca930d9",
       "style": "IPY_MODEL_19d871cde2bb47eca9691f6f53cead68",
       "value": "<h5>Job ID</h5>"
      }
     },
     "8797e7921bac43648a8dc51591c8350c": {
      "model_module": "@jupyter-widgets/controls",
      "model_module_version": "1.5.0",
      "model_name": "DescriptionStyleModel",
      "state": {
       "description_width": ""
      }
     },
     "ac8da6f77fdf401d9b80c15af6e14f3d": {
      "model_module": "@jupyter-widgets/controls",
      "model_module_version": "1.5.0",
      "model_name": "DescriptionStyleModel",
      "state": {
       "description_width": ""
      }
     },
     "b7636275d3dc4d8b9d13861497a8a27f": {
      "model_module": "@jupyter-widgets/controls",
      "model_module_version": "1.5.0",
      "model_name": "HTMLModel",
      "state": {
       "layout": "IPY_MODEL_3d76b7096ba3482ba36a94150aedc73e",
       "style": "IPY_MODEL_8797e7921bac43648a8dc51591c8350c",
       "value": "<h5>Queue</h5>"
      }
     },
     "c04c5e58b66e4733a333997a271d20f2": {
      "model_module": "@jupyter-widgets/base",
      "model_module_version": "1.2.0",
      "model_name": "LayoutModel",
      "state": {
       "grid_area": "right",
       "padding": "0px 0px 0px 0px",
       "width": "70px"
      }
     },
     "d8500b91f28042499a571e6d9d9f9f94": {
      "model_module": "@jupyter-widgets/controls",
      "model_module_version": "1.5.0",
      "model_name": "HTMLModel",
      "state": {
       "layout": "IPY_MODEL_667a49dc3da34a42bb6c4bb314fd9c04",
       "style": "IPY_MODEL_ffd42077969244a0b43aed50ccd16718",
       "value": "<p style='font-family: IBM Plex Sans, Arial, Helvetica, sans-serif; font-size: 20px; font-weight: medium;'>Circuit Properties</p>"
      }
     },
     "e74105ed0a65404ea243d6e6861b3d95": {
      "model_module": "@jupyter-widgets/controls",
      "model_module_version": "1.5.0",
      "model_name": "HTMLModel",
      "state": {
       "layout": "IPY_MODEL_715b7ff1566b4fa4990aa38b14adfaf9",
       "style": "IPY_MODEL_2ef9d8bf9ee240a0bac85953a80e74b7",
       "value": "<h5>Status</h5>"
      }
     },
     "e77bfa99aacf4df28143d9967ac2e95c": {
      "model_module": "@jupyter-widgets/controls",
      "model_module_version": "1.5.0",
      "model_name": "HTMLModel",
      "state": {
       "layout": "IPY_MODEL_eb5be71f6def424eb6548e7ca2e0714c",
       "style": "IPY_MODEL_80645731b84a42d587efc3bbdff38f7a",
       "value": "<h5>Message</h5>"
      }
     },
     "eb5be71f6def424eb6548e7ca2e0714c": {
      "model_module": "@jupyter-widgets/base",
      "model_module_version": "1.2.0",
      "model_name": "LayoutModel",
      "state": {}
     },
     "fc8d0b16a3b44581ab21dcac646f7f3b": {
      "model_module": "@jupyter-widgets/base",
      "model_module_version": "1.2.0",
      "model_name": "LayoutModel",
      "state": {
       "grid_template_areas": "\n                                       \". . . . right \"\n                                        ",
       "grid_template_columns": "20% 20% 20% 20% 20%",
       "width": "100%"
      }
     },
     "fdcad44d350e4cd2b399f8261c9b0bbc": {
      "model_module": "@jupyter-widgets/controls",
      "model_module_version": "1.5.0",
      "model_name": "HBoxModel",
      "state": {
       "children": [
        "IPY_MODEL_831f228bac104a95950d731cd8ac8622",
        "IPY_MODEL_14cc1e9b25e146a180a0cb4f69de6586",
        "IPY_MODEL_e74105ed0a65404ea243d6e6861b3d95",
        "IPY_MODEL_b7636275d3dc4d8b9d13861497a8a27f",
        "IPY_MODEL_e77bfa99aacf4df28143d9967ac2e95c"
       ],
       "layout": "IPY_MODEL_31bc0a3e7c84436bbf23aca04b7438bb"
      }
     },
     "ffd42077969244a0b43aed50ccd16718": {
      "model_module": "@jupyter-widgets/controls",
      "model_module_version": "1.5.0",
      "model_name": "DescriptionStyleModel",
      "state": {
       "description_width": ""
      }
     }
    },
    "version_major": 2,
    "version_minor": 0
   }
  }
 },
 "nbformat": 4,
 "nbformat_minor": 5
}
