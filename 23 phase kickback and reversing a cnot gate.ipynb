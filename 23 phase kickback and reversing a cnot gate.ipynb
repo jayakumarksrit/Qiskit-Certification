{
 "cells": [
  {
   "cell_type": "code",
   "execution_count": 5,
   "id": "7de56de9-be78-4f75-b94a-a5c7d78daf5e",
   "metadata": {},
   "outputs": [
    {
     "name": "stderr",
     "output_type": "stream",
     "text": [
      "ibmqfactory.load_account:WARNING:2022-01-20 08:03:08,908: Credentials are already in use. The existing account in the session will be replaced.\n"
     ]
    }
   ],
   "source": [
    "import numpy as np\n",
    "\n",
    "# Importing standard Qiskit libraries\n",
    "from qiskit import QuantumCircuit, transpile, Aer, IBMQ, assemble\n",
    "from qiskit.tools.jupyter import *\n",
    "from qiskit.visualization import *\n",
    "from ibm_quantum_widgets import *\n",
    "from qiskit.providers.aer import QasmSimulator\n",
    "\n",
    "# Loading your IBM Quantum account(s)\n",
    "provider = IBMQ.load_account()"
   ]
  },
  {
   "cell_type": "code",
   "execution_count": 8,
   "id": "42641114-4469-49a3-88cf-530166586063",
   "metadata": {},
   "outputs": [
    {
     "name": "stdout",
     "output_type": "stream",
     "text": [
      "\n",
      "\n",
      "\\begin{bmatrix}\n",
      "1 & 0 & 0 & 0  \\\\\n",
      " 0 & 1 & 0 & 0  \\\\\n",
      " 0 & 0 & 0 & 1  \\\\\n",
      " 0 & 0 & 1 & 0  \\\\\n",
      " \\end{bmatrix}\n",
      "\n",
      "\n",
      "\n",
      "\\begin{bmatrix}\n",
      "1 & 0 & 0 & 0  \\\\\n",
      " 0 & 1 & 0 & 0  \\\\\n",
      " 0 & 0 & 0 & 1  \\\\\n",
      " 0 & 0 & 1 & 0  \\\\\n",
      " \\end{bmatrix}\n",
      "\n",
      "verifying phase kickback CNOT == reverse CNOT: True\n"
     ]
    }
   ],
   "source": [
    "qc= QuantumCircuit(2)\n",
    "qc.h([0,1])\n",
    "qc.cx(0,1)\n",
    "qc.h([0,1])\n",
    "qc.draw()\n",
    "sim=Aer.get_backend('aer_simulator')\n",
    "qc.save_unitary()\n",
    "qobj=assemble(qc)\n",
    "output_state=sim.run(qobj).result().get_unitary()\n",
    "a=array_to_latex(output_state,source=True)\n",
    "print(a)\n",
    "\n",
    "qc1=QuantumCircuit(2)\n",
    "qc1.cx(1,0)\n",
    "qc1.save_unitary()\n",
    "qobj1=assemble(qc1)\n",
    "output_state1=sim.run(qobj1).result().get_unitary()\n",
    "b=array_to_latex(output_state1,source=True)\n",
    "print(b)\n",
    "\n",
    "print('verifying phase kickback CNOT == reverse CNOT: {}'.format(a==b))"
   ]
  },
  {
   "cell_type": "code",
   "execution_count": 12,
   "id": "b89a2cb7-87ae-4775-91f0-4fa9ab4aeb6c",
   "metadata": {},
   "outputs": [
    {
     "data": {
      "text/latex": [
       "$$\n",
       "\n",
       "\\begin{bmatrix}\n",
       "1 & 0 & 0 & 0  \\\\\n",
       " 0 & 1 & 0 & 0  \\\\\n",
       " 0 & 0 & 0 & 1  \\\\\n",
       " 0 & 0 & 1 & 0  \\\\\n",
       " \\end{bmatrix}\n",
       "$$"
      ],
      "text/plain": [
       "<IPython.core.display.Latex object>"
      ]
     },
     "execution_count": 12,
     "metadata": {},
     "output_type": "execute_result"
    }
   ],
   "source": [
    "a_out=array_to_latex(output_state)\n",
    "a_out"
   ]
  },
  {
   "cell_type": "code",
   "execution_count": 13,
   "id": "7c45c4a0-1fd1-423c-8920-4ab1502d2b49",
   "metadata": {},
   "outputs": [
    {
     "data": {
      "text/latex": [
       "$$\n",
       "\n",
       "\\begin{bmatrix}\n",
       "1 & 0 & 0 & 0  \\\\\n",
       " 0 & 1 & 0 & 0  \\\\\n",
       " 0 & 0 & 0 & 1  \\\\\n",
       " 0 & 0 & 1 & 0  \\\\\n",
       " \\end{bmatrix}\n",
       "$$"
      ],
      "text/plain": [
       "<IPython.core.display.Latex object>"
      ]
     },
     "execution_count": 13,
     "metadata": {},
     "output_type": "execute_result"
    }
   ],
   "source": [
    "b_out=array_to_latex(output_state1)\n",
    "b_out"
   ]
  },
  {
   "cell_type": "code",
   "execution_count": null,
   "id": "74a319a1-0154-472e-aa0e-f71bbd72245e",
   "metadata": {},
   "outputs": [],
   "source": []
  }
 ],
 "metadata": {
  "kernelspec": {
   "display_name": "Qiskit v0.34.1 (ipykernel)",
   "language": "python",
   "name": "python3"
  },
  "language_info": {
   "codemirror_mode": {
    "name": "ipython",
    "version": 3
   },
   "file_extension": ".py",
   "mimetype": "text/x-python",
   "name": "python",
   "nbconvert_exporter": "python",
   "pygments_lexer": "ipython3",
   "version": "3.8.12"
  },
  "widgets": {
   "application/vnd.jupyter.widget-state+json": {
    "state": {
     "20359e1cfbde40b081994014a1429f03": {
      "model_module": "@jupyter-widgets/base",
      "model_module_version": "1.2.0",
      "model_name": "LayoutModel",
      "state": {
       "width": "145px"
      }
     },
     "28114b3eca3341bbb2b5a8b6db1fa697": {
      "model_module": "@jupyter-widgets/controls",
      "model_module_version": "1.5.0",
      "model_name": "DescriptionStyleModel",
      "state": {
       "description_width": ""
      }
     },
     "2b473fde34c2422dabec9efdb9279c6c": {
      "model_module": "@jupyter-widgets/base",
      "model_module_version": "1.2.0",
      "model_name": "LayoutModel",
      "state": {
       "width": "95px"
      }
     },
     "2e091bf445ae419e8bd2bd2054f71345": {
      "model_module": "@jupyter-widgets/controls",
      "model_module_version": "1.5.0",
      "model_name": "DescriptionStyleModel",
      "state": {
       "description_width": ""
      }
     },
     "2eb009502cfe4f2da6b47685ea46b399": {
      "model_module": "@jupyter-widgets/base",
      "model_module_version": "1.2.0",
      "model_name": "LayoutModel",
      "state": {
       "width": "190px"
      }
     },
     "3150e97db8084038b6917b6b01331ad6": {
      "model_module": "@jupyter-widgets/base",
      "model_module_version": "1.2.0",
      "model_name": "LayoutModel",
      "state": {
       "margin": "0px 0px 0px 37px",
       "width": "600px"
      }
     },
     "3a60c27ec38b4d44ac6d10cd7be29d80": {
      "model_module": "@jupyter-widgets/controls",
      "model_module_version": "1.5.0",
      "model_name": "HTMLModel",
      "state": {
       "layout": "IPY_MODEL_2eb009502cfe4f2da6b47685ea46b399",
       "style": "IPY_MODEL_2e091bf445ae419e8bd2bd2054f71345",
       "value": "<h5>Job ID</h5>"
      }
     },
     "3c6f03081f354df9a3f1d82e38ae6350": {
      "model_module": "@jupyter-widgets/controls",
      "model_module_version": "1.5.0",
      "model_name": "ButtonStyleModel",
      "state": {}
     },
     "3d523bc7e72b468ca36a0fd60457af11": {
      "model_module": "@jupyter-widgets/base",
      "model_module_version": "1.2.0",
      "model_name": "LayoutModel",
      "state": {}
     },
     "4d45c4942b7a4e25a52a3a9a92398d7f": {
      "model_module": "@jupyter-widgets/base",
      "model_module_version": "1.2.0",
      "model_name": "LayoutModel",
      "state": {
       "width": "70px"
      }
     },
     "552f582fa9314b6a8f6ae6372f3245ee": {
      "model_module": "@jupyter-widgets/base",
      "model_module_version": "1.2.0",
      "model_name": "LayoutModel",
      "state": {
       "margin": "0px 0px 10px 0px"
      }
     },
     "697898548ce545c6b36834e6d44610d8": {
      "model_module": "@jupyter-widgets/controls",
      "model_module_version": "1.5.0",
      "model_name": "HTMLModel",
      "state": {
       "layout": "IPY_MODEL_20359e1cfbde40b081994014a1429f03",
       "style": "IPY_MODEL_afc85df0daf84243a371642fe298366b",
       "value": "<h5>Backend</h5>"
      }
     },
     "70a12941c096488fbe831fc05e07d3da": {
      "model_module": "@jupyter-widgets/controls",
      "model_module_version": "1.5.0",
      "model_name": "HTMLModel",
      "state": {
       "layout": "IPY_MODEL_552f582fa9314b6a8f6ae6372f3245ee",
       "style": "IPY_MODEL_936fd59aed1a4058adc0cb0a3b51fdae",
       "value": "<p style='font-family: IBM Plex Sans, Arial, Helvetica, sans-serif; font-size: 20px; font-weight: medium;'>Circuit Properties</p>"
      }
     },
     "73184a01fbf84e5185eb5ed2847b080a": {
      "model_module": "@jupyter-widgets/controls",
      "model_module_version": "1.5.0",
      "model_name": "DescriptionStyleModel",
      "state": {
       "description_width": ""
      }
     },
     "86a8e19b76c44e87b7067d103128b0b4": {
      "model_module": "@jupyter-widgets/controls",
      "model_module_version": "1.5.0",
      "model_name": "DescriptionStyleModel",
      "state": {
       "description_width": ""
      }
     },
     "8c1ab2563b994fa4bd7b7e8a651c6914": {
      "model_module": "@jupyter-widgets/controls",
      "model_module_version": "1.5.0",
      "model_name": "HTMLModel",
      "state": {
       "layout": "IPY_MODEL_3d523bc7e72b468ca36a0fd60457af11",
       "style": "IPY_MODEL_28114b3eca3341bbb2b5a8b6db1fa697",
       "value": "<h5>Message</h5>"
      }
     },
     "936fd59aed1a4058adc0cb0a3b51fdae": {
      "model_module": "@jupyter-widgets/controls",
      "model_module_version": "1.5.0",
      "model_name": "DescriptionStyleModel",
      "state": {
       "description_width": ""
      }
     },
     "a91d961bb7e44115b8fc5d788268957d": {
      "model_module": "@jupyter-widgets/controls",
      "model_module_version": "1.5.0",
      "model_name": "HTMLModel",
      "state": {
       "layout": "IPY_MODEL_4d45c4942b7a4e25a52a3a9a92398d7f",
       "style": "IPY_MODEL_73184a01fbf84e5185eb5ed2847b080a",
       "value": "<h5>Queue</h5>"
      }
     },
     "afc85df0daf84243a371642fe298366b": {
      "model_module": "@jupyter-widgets/controls",
      "model_module_version": "1.5.0",
      "model_name": "DescriptionStyleModel",
      "state": {
       "description_width": ""
      }
     },
     "b6a38e39ebc94fe7a16f8e02cd53ec26": {
      "model_module": "@jupyter-widgets/base",
      "model_module_version": "1.2.0",
      "model_name": "LayoutModel",
      "state": {
       "grid_template_areas": "\n                                       \". . . . right \"\n                                        ",
       "grid_template_columns": "20% 20% 20% 20% 20%",
       "width": "100%"
      }
     },
     "c728011ebbd04a349eb390b2a9af3057": {
      "model_module": "@jupyter-widgets/controls",
      "model_module_version": "1.5.0",
      "model_name": "HTMLModel",
      "state": {
       "layout": "IPY_MODEL_2b473fde34c2422dabec9efdb9279c6c",
       "style": "IPY_MODEL_86a8e19b76c44e87b7067d103128b0b4",
       "value": "<h5>Status</h5>"
      }
     },
     "dc06dc1ea6fd47f1b1e900ff7ed4e9c3": {
      "model_module": "@jupyter-widgets/controls",
      "model_module_version": "1.5.0",
      "model_name": "GridBoxModel",
      "state": {
       "children": [
        "IPY_MODEL_e46c5794cf2e49e6967629bd0dd5e30a"
       ],
       "layout": "IPY_MODEL_b6a38e39ebc94fe7a16f8e02cd53ec26"
      }
     },
     "dfd7ff379fe54fb68250fca30dc7e428": {
      "model_module": "@jupyter-widgets/base",
      "model_module_version": "1.2.0",
      "model_name": "LayoutModel",
      "state": {
       "grid_area": "right",
       "padding": "0px 0px 0px 0px",
       "width": "70px"
      }
     },
     "e46c5794cf2e49e6967629bd0dd5e30a": {
      "model_module": "@jupyter-widgets/controls",
      "model_module_version": "1.5.0",
      "model_name": "ButtonModel",
      "state": {
       "button_style": "primary",
       "description": "Clear",
       "layout": "IPY_MODEL_dfd7ff379fe54fb68250fca30dc7e428",
       "style": "IPY_MODEL_3c6f03081f354df9a3f1d82e38ae6350"
      }
     },
     "fee01f1fd036497790be9d86789c1258": {
      "model_module": "@jupyter-widgets/controls",
      "model_module_version": "1.5.0",
      "model_name": "HBoxModel",
      "state": {
       "children": [
        "IPY_MODEL_3a60c27ec38b4d44ac6d10cd7be29d80",
        "IPY_MODEL_697898548ce545c6b36834e6d44610d8",
        "IPY_MODEL_c728011ebbd04a349eb390b2a9af3057",
        "IPY_MODEL_a91d961bb7e44115b8fc5d788268957d",
        "IPY_MODEL_8c1ab2563b994fa4bd7b7e8a651c6914"
       ],
       "layout": "IPY_MODEL_3150e97db8084038b6917b6b01331ad6"
      }
     }
    },
    "version_major": 2,
    "version_minor": 0
   }
  }
 },
 "nbformat": 4,
 "nbformat_minor": 5
}
